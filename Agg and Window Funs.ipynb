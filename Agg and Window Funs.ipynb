{
 "cells": [
  {
   "cell_type": "code",
   "execution_count": 0,
   "metadata": {
    "application/vnd.databricks.v1+cell": {
     "cellMetadata": {
      "byteLimit": 2048000,
      "rowLimit": 10000
     },
     "inputWidgets": {},
     "nuid": "7d64908f-affd-4b41-a95b-e16a52b34ae4",
     "showTitle": false,
     "title": ""
    }
   },
   "outputs": [],
   "source": [
    "def read_file(format_name,options,path):\n",
    "    return spark.read.format(format_name).options(**options).load(path)\n",
    "\n",
    "\n",
    "format_name=\"csv\"\n",
    "options={\n",
    "    'header':True,\n",
    "    'delimiter':',',\n",
    "    'inferschema':True}\n",
    "path='dbfs:/FileStore/Student_Marks.csv'"
   ]
  },
  {
   "cell_type": "code",
   "execution_count": 0,
   "metadata": {
    "application/vnd.databricks.v1+cell": {
     "cellMetadata": {
      "byteLimit": 2048000,
      "rowLimit": 10000
     },
     "inputWidgets": {},
     "nuid": "66f5092f-bad1-4a37-a51d-3085ee23e9d0",
     "showTitle": false,
     "title": ""
    }
   },
   "outputs": [],
   "source": [
    "df=read_file('csv',options,'dbfs:/FileStore/Student_Marks.csv')"
   ]
  },
  {
   "cell_type": "code",
   "execution_count": 0,
   "metadata": {
    "application/vnd.databricks.v1+cell": {
     "cellMetadata": {
      "byteLimit": 2048000,
      "rowLimit": 10000
     },
     "inputWidgets": {},
     "nuid": "73c59681-f3a8-4a22-9c88-8c4649b90af6",
     "showTitle": false,
     "title": ""
    }
   },
   "outputs": [
    {
     "output_type": "display_data",
     "data": {
      "text/html": [
       "<style scoped>\n",
       "  .table-result-container {\n",
       "    max-height: 300px;\n",
       "    overflow: auto;\n",
       "  }\n",
       "  table, th, td {\n",
       "    border: 1px solid black;\n",
       "    border-collapse: collapse;\n",
       "  }\n",
       "  th, td {\n",
       "    padding: 5px;\n",
       "  }\n",
       "  th {\n",
       "    text-align: left;\n",
       "  }\n",
       "</style><div class='table-result-container'><table class='table-result'><thead style='background-color: white'><tr><th>number_courses</th><th>time_study</th><th>Marks</th></tr></thead><tbody><tr><td>3</td><td>4.508</td><td>19.202</td></tr><tr><td>4</td><td>0.096</td><td>7.734</td></tr><tr><td>4</td><td>3.133</td><td>13.811</td></tr><tr><td>6</td><td>7.909</td><td>53.018</td></tr><tr><td>8</td><td>7.811</td><td>55.299</td></tr><tr><td>6</td><td>3.211</td><td>17.822</td></tr><tr><td>3</td><td>6.063</td><td>29.889</td></tr><tr><td>5</td><td>3.413</td><td>17.264</td></tr><tr><td>4</td><td>4.41</td><td>20.348</td></tr><tr><td>3</td><td>6.173</td><td>30.862</td></tr><tr><td>3</td><td>7.353</td><td>42.036</td></tr><tr><td>7</td><td>0.423</td><td>12.132</td></tr><tr><td>7</td><td>4.218</td><td>24.318</td></tr><tr><td>3</td><td>4.274</td><td>17.672</td></tr><tr><td>3</td><td>2.908</td><td>11.397</td></tr><tr><td>4</td><td>4.26</td><td>19.466</td></tr><tr><td>5</td><td>5.719</td><td>30.548</td></tr><tr><td>8</td><td>6.08</td><td>38.49</td></tr><tr><td>6</td><td>7.711</td><td>50.986</td></tr><tr><td>8</td><td>3.977</td><td>25.133</td></tr><tr><td>4</td><td>4.733</td><td>22.073</td></tr><tr><td>6</td><td>6.126</td><td>35.939</td></tr><tr><td>5</td><td>2.051</td><td>12.209</td></tr><tr><td>7</td><td>4.875</td><td>28.043</td></tr><tr><td>4</td><td>3.635</td><td>16.517</td></tr><tr><td>3</td><td>1.407</td><td>6.623</td></tr><tr><td>7</td><td>0.508</td><td>12.647</td></tr><tr><td>8</td><td>4.378</td><td>26.532</td></tr><tr><td>5</td><td>0.156</td><td>9.333</td></tr><tr><td>4</td><td>1.299</td><td>8.837</td></tr><tr><td>8</td><td>3.864</td><td>24.172</td></tr><tr><td>3</td><td>1.923</td><td>8.1</td></tr><tr><td>8</td><td>0.932</td><td>15.038</td></tr><tr><td>6</td><td>6.594</td><td>39.965</td></tr><tr><td>3</td><td>4.083</td><td>17.171</td></tr><tr><td>3</td><td>7.543</td><td>43.978</td></tr><tr><td>4</td><td>2.966</td><td>13.119</td></tr><tr><td>6</td><td>7.283</td><td>46.453</td></tr><tr><td>7</td><td>6.533</td><td>41.358</td></tr><tr><td>6</td><td>7.775</td><td>51.142</td></tr><tr><td>4</td><td>0.14</td><td>7.336</td></tr><tr><td>6</td><td>2.754</td><td>15.725</td></tr><tr><td>6</td><td>3.591</td><td>19.771</td></tr><tr><td>5</td><td>1.557</td><td>10.429</td></tr><tr><td>4</td><td>1.954</td><td>9.742</td></tr><tr><td>3</td><td>2.061</td><td>8.924</td></tr><tr><td>4</td><td>3.797</td><td>16.703</td></tr><tr><td>4</td><td>4.779</td><td>22.701</td></tr><tr><td>3</td><td>5.635</td><td>26.882</td></tr><tr><td>5</td><td>3.913</td><td>19.106</td></tr><tr><td>6</td><td>6.703</td><td>40.602</td></tr><tr><td>6</td><td>4.13</td><td>22.184</td></tr><tr><td>4</td><td>0.771</td><td>7.892</td></tr><tr><td>7</td><td>6.049</td><td>36.653</td></tr><tr><td>8</td><td>7.591</td><td>53.158</td></tr><tr><td>7</td><td>2.913</td><td>18.238</td></tr><tr><td>8</td><td>7.641</td><td>53.359</td></tr><tr><td>7</td><td>7.649</td><td>51.583</td></tr><tr><td>3</td><td>6.198</td><td>31.236</td></tr><tr><td>8</td><td>7.468</td><td>51.343</td></tr><tr><td>6</td><td>0.376</td><td>10.522</td></tr><tr><td>4</td><td>2.438</td><td>10.844</td></tr><tr><td>6</td><td>3.606</td><td>19.59</td></tr><tr><td>3</td><td>4.869</td><td>21.379</td></tr><tr><td>7</td><td>0.13</td><td>12.591</td></tr><tr><td>6</td><td>2.142</td><td>13.562</td></tr><tr><td>4</td><td>5.473</td><td>27.569</td></tr><tr><td>3</td><td>0.55</td><td>6.185</td></tr><tr><td>4</td><td>1.395</td><td>8.92</td></tr><tr><td>6</td><td>3.948</td><td>21.4</td></tr><tr><td>4</td><td>3.736</td><td>16.606</td></tr><tr><td>5</td><td>2.518</td><td>13.416</td></tr><tr><td>3</td><td>4.633</td><td>20.398</td></tr><tr><td>3</td><td>1.629</td><td>7.014</td></tr><tr><td>4</td><td>6.954</td><td>39.952</td></tr><tr><td>3</td><td>0.803</td><td>6.217</td></tr><tr><td>5</td><td>6.379</td><td>36.746</td></tr><tr><td>8</td><td>5.985</td><td>38.278</td></tr><tr><td>7</td><td>7.451</td><td>49.544</td></tr><tr><td>3</td><td>0.805</td><td>6.349</td></tr><tr><td>7</td><td>7.957</td><td>54.321</td></tr><tr><td>8</td><td>2.262</td><td>17.705</td></tr><tr><td>4</td><td>7.41</td><td>44.099</td></tr><tr><td>5</td><td>3.197</td><td>16.106</td></tr><tr><td>8</td><td>1.982</td><td>16.461</td></tr><tr><td>8</td><td>6.201</td><td>39.957</td></tr><tr><td>7</td><td>4.067</td><td>23.149</td></tr><tr><td>3</td><td>1.033</td><td>6.053</td></tr><tr><td>5</td><td>1.803</td><td>11.253</td></tr><tr><td>7</td><td>6.376</td><td>40.024</td></tr><tr><td>7</td><td>4.182</td><td>24.394</td></tr><tr><td>8</td><td>2.73</td><td>19.564</td></tr><tr><td>4</td><td>5.027</td><td>23.916</td></tr><tr><td>8</td><td>6.471</td><td>42.426</td></tr><tr><td>8</td><td>3.919</td><td>24.451</td></tr><tr><td>6</td><td>3.561</td><td>19.128</td></tr><tr><td>3</td><td>0.301</td><td>5.609</td></tr><tr><td>4</td><td>7.163</td><td>41.444</td></tr><tr><td>7</td><td>0.309</td><td>12.027</td></tr><tr><td>3</td><td>6.335</td><td>32.357</td></tr></tbody></table></div>"
      ]
     },
     "metadata": {
      "application/vnd.databricks.v1+output": {
       "addedWidgets": {},
       "aggData": [],
       "aggError": "",
       "aggOverflow": false,
       "aggSchema": [],
       "aggSeriesLimitReached": false,
       "aggType": "",
       "arguments": {},
       "columnCustomDisplayInfos": {},
       "data": [
        [
         3,
         4.508,
         19.202
        ],
        [
         4,
         0.096,
         7.734
        ],
        [
         4,
         3.133,
         13.811
        ],
        [
         6,
         7.909,
         53.018
        ],
        [
         8,
         7.811,
         55.299
        ],
        [
         6,
         3.211,
         17.822
        ],
        [
         3,
         6.063,
         29.889
        ],
        [
         5,
         3.413,
         17.264
        ],
        [
         4,
         4.41,
         20.348
        ],
        [
         3,
         6.173,
         30.862
        ],
        [
         3,
         7.353,
         42.036
        ],
        [
         7,
         0.423,
         12.132
        ],
        [
         7,
         4.218,
         24.318
        ],
        [
         3,
         4.274,
         17.672
        ],
        [
         3,
         2.908,
         11.397
        ],
        [
         4,
         4.26,
         19.466
        ],
        [
         5,
         5.719,
         30.548
        ],
        [
         8,
         6.08,
         38.49
        ],
        [
         6,
         7.711,
         50.986
        ],
        [
         8,
         3.977,
         25.133
        ],
        [
         4,
         4.733,
         22.073
        ],
        [
         6,
         6.126,
         35.939
        ],
        [
         5,
         2.051,
         12.209
        ],
        [
         7,
         4.875,
         28.043
        ],
        [
         4,
         3.635,
         16.517
        ],
        [
         3,
         1.407,
         6.623
        ],
        [
         7,
         0.508,
         12.647
        ],
        [
         8,
         4.378,
         26.532
        ],
        [
         5,
         0.156,
         9.333
        ],
        [
         4,
         1.299,
         8.837
        ],
        [
         8,
         3.864,
         24.172
        ],
        [
         3,
         1.923,
         8.1
        ],
        [
         8,
         0.932,
         15.038
        ],
        [
         6,
         6.594,
         39.965
        ],
        [
         3,
         4.083,
         17.171
        ],
        [
         3,
         7.543,
         43.978
        ],
        [
         4,
         2.966,
         13.119
        ],
        [
         6,
         7.283,
         46.453
        ],
        [
         7,
         6.533,
         41.358
        ],
        [
         6,
         7.775,
         51.142
        ],
        [
         4,
         0.14,
         7.336
        ],
        [
         6,
         2.754,
         15.725
        ],
        [
         6,
         3.591,
         19.771
        ],
        [
         5,
         1.557,
         10.429
        ],
        [
         4,
         1.954,
         9.742
        ],
        [
         3,
         2.061,
         8.924
        ],
        [
         4,
         3.797,
         16.703
        ],
        [
         4,
         4.779,
         22.701
        ],
        [
         3,
         5.635,
         26.882
        ],
        [
         5,
         3.913,
         19.106
        ],
        [
         6,
         6.703,
         40.602
        ],
        [
         6,
         4.13,
         22.184
        ],
        [
         4,
         0.771,
         7.892
        ],
        [
         7,
         6.049,
         36.653
        ],
        [
         8,
         7.591,
         53.158
        ],
        [
         7,
         2.913,
         18.238
        ],
        [
         8,
         7.641,
         53.359
        ],
        [
         7,
         7.649,
         51.583
        ],
        [
         3,
         6.198,
         31.236
        ],
        [
         8,
         7.468,
         51.343
        ],
        [
         6,
         0.376,
         10.522
        ],
        [
         4,
         2.438,
         10.844
        ],
        [
         6,
         3.606,
         19.59
        ],
        [
         3,
         4.869,
         21.379
        ],
        [
         7,
         0.13,
         12.591
        ],
        [
         6,
         2.142,
         13.562
        ],
        [
         4,
         5.473,
         27.569
        ],
        [
         3,
         0.55,
         6.185
        ],
        [
         4,
         1.395,
         8.92
        ],
        [
         6,
         3.948,
         21.4
        ],
        [
         4,
         3.736,
         16.606
        ],
        [
         5,
         2.518,
         13.416
        ],
        [
         3,
         4.633,
         20.398
        ],
        [
         3,
         1.629,
         7.014
        ],
        [
         4,
         6.954,
         39.952
        ],
        [
         3,
         0.803,
         6.217
        ],
        [
         5,
         6.379,
         36.746
        ],
        [
         8,
         5.985,
         38.278
        ],
        [
         7,
         7.451,
         49.544
        ],
        [
         3,
         0.805,
         6.349
        ],
        [
         7,
         7.957,
         54.321
        ],
        [
         8,
         2.262,
         17.705
        ],
        [
         4,
         7.41,
         44.099
        ],
        [
         5,
         3.197,
         16.106
        ],
        [
         8,
         1.982,
         16.461
        ],
        [
         8,
         6.201,
         39.957
        ],
        [
         7,
         4.067,
         23.149
        ],
        [
         3,
         1.033,
         6.053
        ],
        [
         5,
         1.803,
         11.253
        ],
        [
         7,
         6.376,
         40.024
        ],
        [
         7,
         4.182,
         24.394
        ],
        [
         8,
         2.73,
         19.564
        ],
        [
         4,
         5.027,
         23.916
        ],
        [
         8,
         6.471,
         42.426
        ],
        [
         8,
         3.919,
         24.451
        ],
        [
         6,
         3.561,
         19.128
        ],
        [
         3,
         0.301,
         5.609
        ],
        [
         4,
         7.163,
         41.444
        ],
        [
         7,
         0.309,
         12.027
        ],
        [
         3,
         6.335,
         32.357
        ]
       ],
       "datasetInfos": [],
       "dbfsResultPath": null,
       "isJsonSchema": true,
       "metadata": {},
       "overflow": false,
       "plotOptions": {
        "customPlotOptions": {},
        "displayType": "table",
        "pivotAggregation": null,
        "pivotColumns": null,
        "xColumns": null,
        "yColumns": null
       },
       "removedWidgets": [],
       "schema": [
        {
         "metadata": "{}",
         "name": "number_courses",
         "type": "\"integer\""
        },
        {
         "metadata": "{}",
         "name": "time_study",
         "type": "\"double\""
        },
        {
         "metadata": "{}",
         "name": "Marks",
         "type": "\"double\""
        }
       ],
       "type": "table"
      }
     },
     "output_type": "display_data"
    }
   ],
   "source": [
    "df.display()"
   ]
  },
  {
   "cell_type": "code",
   "execution_count": 0,
   "metadata": {
    "application/vnd.databricks.v1+cell": {
     "cellMetadata": {
      "byteLimit": 2048000,
      "rowLimit": 10000
     },
     "inputWidgets": {},
     "nuid": "e6b013e2-cc50-411c-b36c-60f648679fed",
     "showTitle": false,
     "title": ""
    }
   },
   "outputs": [],
   "source": [
    "from pyspark.sql.functions import *\n",
    "from pyspark.sql.types import *\n",
    "from pyspark.sql.window import Window"
   ]
  },
  {
   "cell_type": "code",
   "execution_count": 0,
   "metadata": {
    "application/vnd.databricks.v1+cell": {
     "cellMetadata": {
      "byteLimit": 2048000,
      "rowLimit": 10000
     },
     "inputWidgets": {},
     "nuid": "45716f64-04f0-45be-8542-da8a8c09a067",
     "showTitle": true,
     "title": "Aggregate Functions"
    }
   },
   "outputs": [],
   "source": [
    "df1=df.groupBy(\"number_courses\").count()"
   ]
  },
  {
   "cell_type": "code",
   "execution_count": 0,
   "metadata": {
    "application/vnd.databricks.v1+cell": {
     "cellMetadata": {
      "byteLimit": 2048000,
      "rowLimit": 10000
     },
     "inputWidgets": {},
     "nuid": "9d4495e7-5f0f-4aa6-84f0-285b829abe65",
     "showTitle": false,
     "title": ""
    }
   },
   "outputs": [
    {
     "output_type": "display_data",
     "data": {
      "text/html": [
       "<style scoped>\n",
       "  .table-result-container {\n",
       "    max-height: 300px;\n",
       "    overflow: auto;\n",
       "  }\n",
       "  table, th, td {\n",
       "    border: 1px solid black;\n",
       "    border-collapse: collapse;\n",
       "  }\n",
       "  th, td {\n",
       "    padding: 5px;\n",
       "  }\n",
       "  th {\n",
       "    text-align: left;\n",
       "  }\n",
       "</style><div class='table-result-container'><table class='table-result'><thead style='background-color: white'><tr><th>number_courses</th><th>count</th></tr></thead><tbody><tr><td>6</td><td>16</td></tr><tr><td>3</td><td>22</td></tr><tr><td>5</td><td>10</td></tr><tr><td>4</td><td>21</td></tr><tr><td>8</td><td>16</td></tr><tr><td>7</td><td>15</td></tr></tbody></table></div>"
      ]
     },
     "metadata": {
      "application/vnd.databricks.v1+output": {
       "addedWidgets": {},
       "aggData": [],
       "aggError": "",
       "aggOverflow": false,
       "aggSchema": [],
       "aggSeriesLimitReached": false,
       "aggType": "",
       "arguments": {},
       "columnCustomDisplayInfos": {},
       "data": [
        [
         6,
         16
        ],
        [
         3,
         22
        ],
        [
         5,
         10
        ],
        [
         4,
         21
        ],
        [
         8,
         16
        ],
        [
         7,
         15
        ]
       ],
       "datasetInfos": [],
       "dbfsResultPath": null,
       "isJsonSchema": true,
       "metadata": {},
       "overflow": false,
       "plotOptions": {
        "customPlotOptions": {},
        "displayType": "table",
        "pivotAggregation": null,
        "pivotColumns": null,
        "xColumns": null,
        "yColumns": null
       },
       "removedWidgets": [],
       "schema": [
        {
         "metadata": "{}",
         "name": "number_courses",
         "type": "\"integer\""
        },
        {
         "metadata": "{}",
         "name": "count",
         "type": "\"long\""
        }
       ],
       "type": "table"
      }
     },
     "output_type": "display_data"
    }
   ],
   "source": [
    "df1.display()"
   ]
  },
  {
   "cell_type": "code",
   "execution_count": 0,
   "metadata": {
    "application/vnd.databricks.v1+cell": {
     "cellMetadata": {
      "byteLimit": 2048000,
      "rowLimit": 10000
     },
     "inputWidgets": {},
     "nuid": "050dc840-032b-49f0-97bc-35f2a3e425dc",
     "showTitle": false,
     "title": ""
    }
   },
   "outputs": [],
   "source": [
    "df2=df1.sort(\"number_courses\")"
   ]
  },
  {
   "cell_type": "code",
   "execution_count": 0,
   "metadata": {
    "application/vnd.databricks.v1+cell": {
     "cellMetadata": {
      "byteLimit": 2048000,
      "rowLimit": 10000
     },
     "inputWidgets": {},
     "nuid": "b8004f07-b9a1-42a2-bf1b-2af4bbd81fa2",
     "showTitle": false,
     "title": ""
    }
   },
   "outputs": [
    {
     "output_type": "display_data",
     "data": {
      "text/html": [
       "<style scoped>\n",
       "  .table-result-container {\n",
       "    max-height: 300px;\n",
       "    overflow: auto;\n",
       "  }\n",
       "  table, th, td {\n",
       "    border: 1px solid black;\n",
       "    border-collapse: collapse;\n",
       "  }\n",
       "  th, td {\n",
       "    padding: 5px;\n",
       "  }\n",
       "  th {\n",
       "    text-align: left;\n",
       "  }\n",
       "</style><div class='table-result-container'><table class='table-result'><thead style='background-color: white'><tr><th>number_courses</th><th>count</th></tr></thead><tbody><tr><td>3</td><td>22</td></tr><tr><td>4</td><td>21</td></tr><tr><td>5</td><td>10</td></tr><tr><td>6</td><td>16</td></tr><tr><td>7</td><td>15</td></tr><tr><td>8</td><td>16</td></tr></tbody></table></div>"
      ]
     },
     "metadata": {
      "application/vnd.databricks.v1+output": {
       "addedWidgets": {},
       "aggData": [],
       "aggError": "",
       "aggOverflow": false,
       "aggSchema": [],
       "aggSeriesLimitReached": false,
       "aggType": "",
       "arguments": {},
       "columnCustomDisplayInfos": {},
       "data": [
        [
         3,
         22
        ],
        [
         4,
         21
        ],
        [
         5,
         10
        ],
        [
         6,
         16
        ],
        [
         7,
         15
        ],
        [
         8,
         16
        ]
       ],
       "datasetInfos": [],
       "dbfsResultPath": null,
       "isJsonSchema": true,
       "metadata": {},
       "overflow": false,
       "plotOptions": {
        "customPlotOptions": {},
        "displayType": "table",
        "pivotAggregation": null,
        "pivotColumns": null,
        "xColumns": null,
        "yColumns": null
       },
       "removedWidgets": [],
       "schema": [
        {
         "metadata": "{}",
         "name": "number_courses",
         "type": "\"integer\""
        },
        {
         "metadata": "{}",
         "name": "count",
         "type": "\"long\""
        }
       ],
       "type": "table"
      }
     },
     "output_type": "display_data"
    }
   ],
   "source": [
    "df2.display()"
   ]
  },
  {
   "cell_type": "code",
   "execution_count": 0,
   "metadata": {
    "application/vnd.databricks.v1+cell": {
     "cellMetadata": {
      "byteLimit": 2048000,
      "rowLimit": 10000
     },
     "inputWidgets": {},
     "nuid": "7da1e3a4-6bde-4ae4-a741-c082a7e34296",
     "showTitle": false,
     "title": ""
    }
   },
   "outputs": [],
   "source": [
    "df3=df.filter(df.number_courses==4)"
   ]
  },
  {
   "cell_type": "code",
   "execution_count": 0,
   "metadata": {
    "application/vnd.databricks.v1+cell": {
     "cellMetadata": {
      "byteLimit": 2048000,
      "rowLimit": 10000
     },
     "inputWidgets": {},
     "nuid": "5cc5c1f5-b9cb-4ded-a2ca-838b3abb79ce",
     "showTitle": false,
     "title": ""
    }
   },
   "outputs": [
    {
     "output_type": "display_data",
     "data": {
      "text/html": [
       "<style scoped>\n",
       "  .table-result-container {\n",
       "    max-height: 300px;\n",
       "    overflow: auto;\n",
       "  }\n",
       "  table, th, td {\n",
       "    border: 1px solid black;\n",
       "    border-collapse: collapse;\n",
       "  }\n",
       "  th, td {\n",
       "    padding: 5px;\n",
       "  }\n",
       "  th {\n",
       "    text-align: left;\n",
       "  }\n",
       "</style><div class='table-result-container'><table class='table-result'><thead style='background-color: white'><tr><th>number_courses</th><th>Avg_Marks</th></tr></thead><tbody><tr><td>4</td><td>19.02995238095238</td></tr></tbody></table></div>"
      ]
     },
     "metadata": {
      "application/vnd.databricks.v1+output": {
       "addedWidgets": {},
       "aggData": [],
       "aggError": "",
       "aggOverflow": false,
       "aggSchema": [],
       "aggSeriesLimitReached": false,
       "aggType": "",
       "arguments": {},
       "columnCustomDisplayInfos": {},
       "data": [
        [
         4,
         19.02995238095238
        ]
       ],
       "datasetInfos": [],
       "dbfsResultPath": null,
       "isJsonSchema": true,
       "metadata": {},
       "overflow": false,
       "plotOptions": {
        "customPlotOptions": {},
        "displayType": "table",
        "pivotAggregation": null,
        "pivotColumns": null,
        "xColumns": null,
        "yColumns": null
       },
       "removedWidgets": [],
       "schema": [
        {
         "metadata": "{}",
         "name": "number_courses",
         "type": "\"integer\""
        },
        {
         "metadata": "{}",
         "name": "Avg_Marks",
         "type": "\"double\""
        }
       ],
       "type": "table"
      }
     },
     "output_type": "display_data"
    }
   ],
   "source": [
    "#Avg marks when the course number is 4\n",
    "df4=df3.groupBy('number_courses').agg(mean('Marks').alias('Avg_Marks'))\n",
    "display(df4)"
   ]
  },
  {
   "cell_type": "code",
   "execution_count": 0,
   "metadata": {
    "application/vnd.databricks.v1+cell": {
     "cellMetadata": {
      "byteLimit": 2048000,
      "rowLimit": 10000
     },
     "inputWidgets": {},
     "nuid": "f9d5b599-cd81-4e59-a4d3-8cb84922f85f",
     "showTitle": false,
     "title": ""
    }
   },
   "outputs": [
    {
     "output_type": "display_data",
     "data": {
      "text/html": [
       "<style scoped>\n",
       "  .table-result-container {\n",
       "    max-height: 300px;\n",
       "    overflow: auto;\n",
       "  }\n",
       "  table, th, td {\n",
       "    border: 1px solid black;\n",
       "    border-collapse: collapse;\n",
       "  }\n",
       "  th, td {\n",
       "    padding: 5px;\n",
       "  }\n",
       "  th {\n",
       "    text-align: left;\n",
       "  }\n",
       "</style><div class='table-result-container'><table class='table-result'><thead style='background-color: white'><tr><th>number_courses</th><th>Max_time</th></tr></thead><tbody><tr><td>3</td><td>7.543</td></tr><tr><td>4</td><td>7.41</td></tr><tr><td>5</td><td>6.379</td></tr><tr><td>6</td><td>7.909</td></tr><tr><td>7</td><td>7.957</td></tr><tr><td>8</td><td>7.811</td></tr></tbody></table></div>"
      ]
     },
     "metadata": {
      "application/vnd.databricks.v1+output": {
       "addedWidgets": {},
       "aggData": [],
       "aggError": "",
       "aggOverflow": false,
       "aggSchema": [],
       "aggSeriesLimitReached": false,
       "aggType": "",
       "arguments": {},
       "columnCustomDisplayInfos": {},
       "data": [
        [
         3,
         7.543
        ],
        [
         4,
         7.41
        ],
        [
         5,
         6.379
        ],
        [
         6,
         7.909
        ],
        [
         7,
         7.957
        ],
        [
         8,
         7.811
        ]
       ],
       "datasetInfos": [],
       "dbfsResultPath": null,
       "isJsonSchema": true,
       "metadata": {},
       "overflow": false,
       "plotOptions": {
        "customPlotOptions": {},
        "displayType": "table",
        "pivotAggregation": null,
        "pivotColumns": null,
        "xColumns": null,
        "yColumns": null
       },
       "removedWidgets": [],
       "schema": [
        {
         "metadata": "{}",
         "name": "number_courses",
         "type": "\"integer\""
        },
        {
         "metadata": "{}",
         "name": "Max_time",
         "type": "\"double\""
        }
       ],
       "type": "table"
      }
     },
     "output_type": "display_data"
    }
   ],
   "source": [
    "#Maximun time study for each number of courses\n",
    "df5=df.groupBy('number_courses').agg(max('time_study').alias('Max_time'))\n",
    "display(df5.sort('number_courses'))"
   ]
  },
  {
   "cell_type": "code",
   "execution_count": 0,
   "metadata": {
    "application/vnd.databricks.v1+cell": {
     "cellMetadata": {
      "byteLimit": 2048000,
      "rowLimit": 10000
     },
     "inputWidgets": {},
     "nuid": "aadb4b68-70d0-480c-a6b9-1fc5d03aeb3d",
     "showTitle": false,
     "title": ""
    }
   },
   "outputs": [
    {
     "output_type": "display_data",
     "data": {
      "text/html": [
       "<style scoped>\n",
       "  .table-result-container {\n",
       "    max-height: 300px;\n",
       "    overflow: auto;\n",
       "  }\n",
       "  table, th, td {\n",
       "    border: 1px solid black;\n",
       "    border-collapse: collapse;\n",
       "  }\n",
       "  th, td {\n",
       "    padding: 5px;\n",
       "  }\n",
       "  th {\n",
       "    text-align: left;\n",
       "  }\n",
       "</style><div class='table-result-container'><table class='table-result'><thead style='background-color: white'><tr><th>number_courses</th><th>Min_marks</th></tr></thead><tbody><tr><td>6</td><td>10.522</td></tr><tr><td>3</td><td>5.609</td></tr><tr><td>5</td><td>9.333</td></tr><tr><td>4</td><td>7.336</td></tr><tr><td>8</td><td>15.038</td></tr><tr><td>7</td><td>12.027</td></tr></tbody></table></div>"
      ]
     },
     "metadata": {
      "application/vnd.databricks.v1+output": {
       "addedWidgets": {},
       "aggData": [],
       "aggError": "",
       "aggOverflow": false,
       "aggSchema": [],
       "aggSeriesLimitReached": false,
       "aggType": "",
       "arguments": {},
       "columnCustomDisplayInfos": {},
       "data": [
        [
         6,
         10.522
        ],
        [
         3,
         5.609
        ],
        [
         5,
         9.333
        ],
        [
         4,
         7.336
        ],
        [
         8,
         15.038
        ],
        [
         7,
         12.027
        ]
       ],
       "datasetInfos": [],
       "dbfsResultPath": null,
       "isJsonSchema": true,
       "metadata": {},
       "overflow": false,
       "plotOptions": {
        "customPlotOptions": {},
        "displayType": "table",
        "pivotAggregation": null,
        "pivotColumns": null,
        "xColumns": null,
        "yColumns": null
       },
       "removedWidgets": [],
       "schema": [
        {
         "metadata": "{}",
         "name": "number_courses",
         "type": "\"integer\""
        },
        {
         "metadata": "{}",
         "name": "Min_marks",
         "type": "\"double\""
        }
       ],
       "type": "table"
      }
     },
     "output_type": "display_data"
    }
   ],
   "source": [
    "#Minimum marks for each number of courses\n",
    "df6=df.groupBy('number_courses').agg(min('Marks').alias('Min_marks'))\n",
    "display(df6)"
   ]
  },
  {
   "cell_type": "code",
   "execution_count": 0,
   "metadata": {
    "application/vnd.databricks.v1+cell": {
     "cellMetadata": {
      "byteLimit": 2048000,
      "rowLimit": 10000
     },
     "inputWidgets": {},
     "nuid": "3c588eca-ebd8-4d89-8150-157e40e5b402",
     "showTitle": false,
     "title": ""
    }
   },
   "outputs": [
    {
     "output_type": "display_data",
     "data": {
      "text/html": [
       "<style scoped>\n",
       "  .table-result-container {\n",
       "    max-height: 300px;\n",
       "    overflow: auto;\n",
       "  }\n",
       "  table, th, td {\n",
       "    border: 1px solid black;\n",
       "    border-collapse: collapse;\n",
       "  }\n",
       "  th, td {\n",
       "    padding: 5px;\n",
       "  }\n",
       "  th {\n",
       "    text-align: left;\n",
       "  }\n",
       "</style><div class='table-result-container'><table class='table-result'><thead style='background-color: white'><tr><th>number_courses</th><th>Total_marks</th></tr></thead><tbody><tr><td>5</td><td>176.41000000000003</td></tr></tbody></table></div>"
      ]
     },
     "metadata": {
      "application/vnd.databricks.v1+output": {
       "addedWidgets": {},
       "aggData": [],
       "aggError": "",
       "aggOverflow": false,
       "aggSchema": [],
       "aggSeriesLimitReached": false,
       "aggType": "",
       "arguments": {},
       "columnCustomDisplayInfos": {},
       "data": [
        [
         5,
         176.41000000000003
        ]
       ],
       "datasetInfos": [],
       "dbfsResultPath": null,
       "isJsonSchema": true,
       "metadata": {},
       "overflow": false,
       "plotOptions": {
        "customPlotOptions": {},
        "displayType": "table",
        "pivotAggregation": null,
        "pivotColumns": null,
        "xColumns": null,
        "yColumns": null
       },
       "removedWidgets": [],
       "schema": [
        {
         "metadata": "{}",
         "name": "number_courses",
         "type": "\"integer\""
        },
        {
         "metadata": "{}",
         "name": "Total_marks",
         "type": "\"double\""
        }
       ],
       "type": "table"
      }
     },
     "output_type": "display_data"
    }
   ],
   "source": [
    "#Total marks of course number 5\n",
    "df7=df.groupBy(\"number_courses\").agg(sum('Marks').alias('Total_marks')).filter(col('number_courses')==5)\n",
    "display(df7)"
   ]
  },
  {
   "cell_type": "code",
   "execution_count": 0,
   "metadata": {
    "application/vnd.databricks.v1+cell": {
     "cellMetadata": {
      "byteLimit": 2048000,
      "rowLimit": 10000
     },
     "inputWidgets": {},
     "nuid": "ad2b184a-af01-419f-a88e-93fafac7af4b",
     "showTitle": true,
     "title": "Window Functions"
    }
   },
   "outputs": [
    {
     "output_type": "display_data",
     "data": {
      "text/html": [
       "<style scoped>\n",
       "  .table-result-container {\n",
       "    max-height: 300px;\n",
       "    overflow: auto;\n",
       "  }\n",
       "  table, th, td {\n",
       "    border: 1px solid black;\n",
       "    border-collapse: collapse;\n",
       "  }\n",
       "  th, td {\n",
       "    padding: 5px;\n",
       "  }\n",
       "  th {\n",
       "    text-align: left;\n",
       "  }\n",
       "</style><div class='table-result-container'><table class='table-result'><thead style='background-color: white'><tr><th>number_courses</th><th>time_study</th><th>Marks</th><th>Row_Number</th></tr></thead><tbody><tr><td>3</td><td>0.301</td><td>5.609</td><td>1</td></tr><tr><td>3</td><td>1.033</td><td>6.053</td><td>2</td></tr><tr><td>3</td><td>0.55</td><td>6.185</td><td>3</td></tr><tr><td>3</td><td>0.803</td><td>6.217</td><td>4</td></tr><tr><td>3</td><td>0.805</td><td>6.349</td><td>5</td></tr><tr><td>3</td><td>1.407</td><td>6.623</td><td>6</td></tr><tr><td>3</td><td>1.629</td><td>7.014</td><td>7</td></tr><tr><td>3</td><td>1.923</td><td>8.1</td><td>8</td></tr><tr><td>3</td><td>2.061</td><td>8.924</td><td>9</td></tr><tr><td>3</td><td>2.908</td><td>11.397</td><td>10</td></tr><tr><td>3</td><td>4.083</td><td>17.171</td><td>11</td></tr><tr><td>3</td><td>4.274</td><td>17.672</td><td>12</td></tr><tr><td>3</td><td>4.508</td><td>19.202</td><td>13</td></tr><tr><td>3</td><td>4.633</td><td>20.398</td><td>14</td></tr><tr><td>3</td><td>4.869</td><td>21.379</td><td>15</td></tr><tr><td>3</td><td>5.635</td><td>26.882</td><td>16</td></tr><tr><td>3</td><td>6.063</td><td>29.889</td><td>17</td></tr><tr><td>3</td><td>6.173</td><td>30.862</td><td>18</td></tr><tr><td>3</td><td>6.198</td><td>31.236</td><td>19</td></tr><tr><td>3</td><td>6.335</td><td>32.357</td><td>20</td></tr><tr><td>3</td><td>7.353</td><td>42.036</td><td>21</td></tr><tr><td>3</td><td>7.543</td><td>43.978</td><td>22</td></tr><tr><td>4</td><td>0.14</td><td>7.336</td><td>1</td></tr><tr><td>4</td><td>0.096</td><td>7.734</td><td>2</td></tr><tr><td>4</td><td>0.771</td><td>7.892</td><td>3</td></tr><tr><td>4</td><td>1.299</td><td>8.837</td><td>4</td></tr><tr><td>4</td><td>1.395</td><td>8.92</td><td>5</td></tr><tr><td>4</td><td>1.954</td><td>9.742</td><td>6</td></tr><tr><td>4</td><td>2.438</td><td>10.844</td><td>7</td></tr><tr><td>4</td><td>2.966</td><td>13.119</td><td>8</td></tr><tr><td>4</td><td>3.133</td><td>13.811</td><td>9</td></tr><tr><td>4</td><td>3.635</td><td>16.517</td><td>10</td></tr><tr><td>4</td><td>3.736</td><td>16.606</td><td>11</td></tr><tr><td>4</td><td>3.797</td><td>16.703</td><td>12</td></tr><tr><td>4</td><td>4.26</td><td>19.466</td><td>13</td></tr><tr><td>4</td><td>4.41</td><td>20.348</td><td>14</td></tr><tr><td>4</td><td>4.733</td><td>22.073</td><td>15</td></tr><tr><td>4</td><td>4.779</td><td>22.701</td><td>16</td></tr><tr><td>4</td><td>5.027</td><td>23.916</td><td>17</td></tr><tr><td>4</td><td>5.473</td><td>27.569</td><td>18</td></tr><tr><td>4</td><td>6.954</td><td>39.952</td><td>19</td></tr><tr><td>4</td><td>7.163</td><td>41.444</td><td>20</td></tr><tr><td>4</td><td>7.41</td><td>44.099</td><td>21</td></tr><tr><td>5</td><td>0.156</td><td>9.333</td><td>1</td></tr><tr><td>5</td><td>1.557</td><td>10.429</td><td>2</td></tr><tr><td>5</td><td>1.803</td><td>11.253</td><td>3</td></tr><tr><td>5</td><td>2.051</td><td>12.209</td><td>4</td></tr><tr><td>5</td><td>2.518</td><td>13.416</td><td>5</td></tr><tr><td>5</td><td>3.197</td><td>16.106</td><td>6</td></tr><tr><td>5</td><td>3.413</td><td>17.264</td><td>7</td></tr><tr><td>5</td><td>3.913</td><td>19.106</td><td>8</td></tr><tr><td>5</td><td>5.719</td><td>30.548</td><td>9</td></tr><tr><td>5</td><td>6.379</td><td>36.746</td><td>10</td></tr><tr><td>6</td><td>0.376</td><td>10.522</td><td>1</td></tr><tr><td>6</td><td>2.142</td><td>13.562</td><td>2</td></tr><tr><td>6</td><td>2.754</td><td>15.725</td><td>3</td></tr><tr><td>6</td><td>3.211</td><td>17.822</td><td>4</td></tr><tr><td>6</td><td>3.561</td><td>19.128</td><td>5</td></tr><tr><td>6</td><td>3.606</td><td>19.59</td><td>6</td></tr><tr><td>6</td><td>3.591</td><td>19.771</td><td>7</td></tr><tr><td>6</td><td>3.948</td><td>21.4</td><td>8</td></tr><tr><td>6</td><td>4.13</td><td>22.184</td><td>9</td></tr><tr><td>6</td><td>6.126</td><td>35.939</td><td>10</td></tr><tr><td>6</td><td>6.594</td><td>39.965</td><td>11</td></tr><tr><td>6</td><td>6.703</td><td>40.602</td><td>12</td></tr><tr><td>6</td><td>7.283</td><td>46.453</td><td>13</td></tr><tr><td>6</td><td>7.711</td><td>50.986</td><td>14</td></tr><tr><td>6</td><td>7.775</td><td>51.142</td><td>15</td></tr><tr><td>6</td><td>7.909</td><td>53.018</td><td>16</td></tr><tr><td>7</td><td>0.309</td><td>12.027</td><td>1</td></tr><tr><td>7</td><td>0.423</td><td>12.132</td><td>2</td></tr><tr><td>7</td><td>0.13</td><td>12.591</td><td>3</td></tr><tr><td>7</td><td>0.508</td><td>12.647</td><td>4</td></tr><tr><td>7</td><td>2.913</td><td>18.238</td><td>5</td></tr><tr><td>7</td><td>4.067</td><td>23.149</td><td>6</td></tr><tr><td>7</td><td>4.218</td><td>24.318</td><td>7</td></tr><tr><td>7</td><td>4.182</td><td>24.394</td><td>8</td></tr><tr><td>7</td><td>4.875</td><td>28.043</td><td>9</td></tr><tr><td>7</td><td>6.049</td><td>36.653</td><td>10</td></tr><tr><td>7</td><td>6.376</td><td>40.024</td><td>11</td></tr><tr><td>7</td><td>6.533</td><td>41.358</td><td>12</td></tr><tr><td>7</td><td>7.451</td><td>49.544</td><td>13</td></tr><tr><td>7</td><td>7.649</td><td>51.583</td><td>14</td></tr><tr><td>7</td><td>7.957</td><td>54.321</td><td>15</td></tr><tr><td>8</td><td>0.932</td><td>15.038</td><td>1</td></tr><tr><td>8</td><td>1.982</td><td>16.461</td><td>2</td></tr><tr><td>8</td><td>2.262</td><td>17.705</td><td>3</td></tr><tr><td>8</td><td>2.73</td><td>19.564</td><td>4</td></tr><tr><td>8</td><td>3.864</td><td>24.172</td><td>5</td></tr><tr><td>8</td><td>3.919</td><td>24.451</td><td>6</td></tr><tr><td>8</td><td>3.977</td><td>25.133</td><td>7</td></tr><tr><td>8</td><td>4.378</td><td>26.532</td><td>8</td></tr><tr><td>8</td><td>5.985</td><td>38.278</td><td>9</td></tr><tr><td>8</td><td>6.08</td><td>38.49</td><td>10</td></tr><tr><td>8</td><td>6.201</td><td>39.957</td><td>11</td></tr><tr><td>8</td><td>6.471</td><td>42.426</td><td>12</td></tr><tr><td>8</td><td>7.468</td><td>51.343</td><td>13</td></tr><tr><td>8</td><td>7.591</td><td>53.158</td><td>14</td></tr><tr><td>8</td><td>7.641</td><td>53.359</td><td>15</td></tr><tr><td>8</td><td>7.811</td><td>55.299</td><td>16</td></tr></tbody></table></div>"
      ]
     },
     "metadata": {
      "application/vnd.databricks.v1+output": {
       "addedWidgets": {},
       "aggData": [],
       "aggError": "",
       "aggOverflow": false,
       "aggSchema": [],
       "aggSeriesLimitReached": false,
       "aggType": "",
       "arguments": {},
       "columnCustomDisplayInfos": {},
       "data": [
        [
         3,
         0.301,
         5.609,
         1
        ],
        [
         3,
         1.033,
         6.053,
         2
        ],
        [
         3,
         0.55,
         6.185,
         3
        ],
        [
         3,
         0.803,
         6.217,
         4
        ],
        [
         3,
         0.805,
         6.349,
         5
        ],
        [
         3,
         1.407,
         6.623,
         6
        ],
        [
         3,
         1.629,
         7.014,
         7
        ],
        [
         3,
         1.923,
         8.1,
         8
        ],
        [
         3,
         2.061,
         8.924,
         9
        ],
        [
         3,
         2.908,
         11.397,
         10
        ],
        [
         3,
         4.083,
         17.171,
         11
        ],
        [
         3,
         4.274,
         17.672,
         12
        ],
        [
         3,
         4.508,
         19.202,
         13
        ],
        [
         3,
         4.633,
         20.398,
         14
        ],
        [
         3,
         4.869,
         21.379,
         15
        ],
        [
         3,
         5.635,
         26.882,
         16
        ],
        [
         3,
         6.063,
         29.889,
         17
        ],
        [
         3,
         6.173,
         30.862,
         18
        ],
        [
         3,
         6.198,
         31.236,
         19
        ],
        [
         3,
         6.335,
         32.357,
         20
        ],
        [
         3,
         7.353,
         42.036,
         21
        ],
        [
         3,
         7.543,
         43.978,
         22
        ],
        [
         4,
         0.14,
         7.336,
         1
        ],
        [
         4,
         0.096,
         7.734,
         2
        ],
        [
         4,
         0.771,
         7.892,
         3
        ],
        [
         4,
         1.299,
         8.837,
         4
        ],
        [
         4,
         1.395,
         8.92,
         5
        ],
        [
         4,
         1.954,
         9.742,
         6
        ],
        [
         4,
         2.438,
         10.844,
         7
        ],
        [
         4,
         2.966,
         13.119,
         8
        ],
        [
         4,
         3.133,
         13.811,
         9
        ],
        [
         4,
         3.635,
         16.517,
         10
        ],
        [
         4,
         3.736,
         16.606,
         11
        ],
        [
         4,
         3.797,
         16.703,
         12
        ],
        [
         4,
         4.26,
         19.466,
         13
        ],
        [
         4,
         4.41,
         20.348,
         14
        ],
        [
         4,
         4.733,
         22.073,
         15
        ],
        [
         4,
         4.779,
         22.701,
         16
        ],
        [
         4,
         5.027,
         23.916,
         17
        ],
        [
         4,
         5.473,
         27.569,
         18
        ],
        [
         4,
         6.954,
         39.952,
         19
        ],
        [
         4,
         7.163,
         41.444,
         20
        ],
        [
         4,
         7.41,
         44.099,
         21
        ],
        [
         5,
         0.156,
         9.333,
         1
        ],
        [
         5,
         1.557,
         10.429,
         2
        ],
        [
         5,
         1.803,
         11.253,
         3
        ],
        [
         5,
         2.051,
         12.209,
         4
        ],
        [
         5,
         2.518,
         13.416,
         5
        ],
        [
         5,
         3.197,
         16.106,
         6
        ],
        [
         5,
         3.413,
         17.264,
         7
        ],
        [
         5,
         3.913,
         19.106,
         8
        ],
        [
         5,
         5.719,
         30.548,
         9
        ],
        [
         5,
         6.379,
         36.746,
         10
        ],
        [
         6,
         0.376,
         10.522,
         1
        ],
        [
         6,
         2.142,
         13.562,
         2
        ],
        [
         6,
         2.754,
         15.725,
         3
        ],
        [
         6,
         3.211,
         17.822,
         4
        ],
        [
         6,
         3.561,
         19.128,
         5
        ],
        [
         6,
         3.606,
         19.59,
         6
        ],
        [
         6,
         3.591,
         19.771,
         7
        ],
        [
         6,
         3.948,
         21.4,
         8
        ],
        [
         6,
         4.13,
         22.184,
         9
        ],
        [
         6,
         6.126,
         35.939,
         10
        ],
        [
         6,
         6.594,
         39.965,
         11
        ],
        [
         6,
         6.703,
         40.602,
         12
        ],
        [
         6,
         7.283,
         46.453,
         13
        ],
        [
         6,
         7.711,
         50.986,
         14
        ],
        [
         6,
         7.775,
         51.142,
         15
        ],
        [
         6,
         7.909,
         53.018,
         16
        ],
        [
         7,
         0.309,
         12.027,
         1
        ],
        [
         7,
         0.423,
         12.132,
         2
        ],
        [
         7,
         0.13,
         12.591,
         3
        ],
        [
         7,
         0.508,
         12.647,
         4
        ],
        [
         7,
         2.913,
         18.238,
         5
        ],
        [
         7,
         4.067,
         23.149,
         6
        ],
        [
         7,
         4.218,
         24.318,
         7
        ],
        [
         7,
         4.182,
         24.394,
         8
        ],
        [
         7,
         4.875,
         28.043,
         9
        ],
        [
         7,
         6.049,
         36.653,
         10
        ],
        [
         7,
         6.376,
         40.024,
         11
        ],
        [
         7,
         6.533,
         41.358,
         12
        ],
        [
         7,
         7.451,
         49.544,
         13
        ],
        [
         7,
         7.649,
         51.583,
         14
        ],
        [
         7,
         7.957,
         54.321,
         15
        ],
        [
         8,
         0.932,
         15.038,
         1
        ],
        [
         8,
         1.982,
         16.461,
         2
        ],
        [
         8,
         2.262,
         17.705,
         3
        ],
        [
         8,
         2.73,
         19.564,
         4
        ],
        [
         8,
         3.864,
         24.172,
         5
        ],
        [
         8,
         3.919,
         24.451,
         6
        ],
        [
         8,
         3.977,
         25.133,
         7
        ],
        [
         8,
         4.378,
         26.532,
         8
        ],
        [
         8,
         5.985,
         38.278,
         9
        ],
        [
         8,
         6.08,
         38.49,
         10
        ],
        [
         8,
         6.201,
         39.957,
         11
        ],
        [
         8,
         6.471,
         42.426,
         12
        ],
        [
         8,
         7.468,
         51.343,
         13
        ],
        [
         8,
         7.591,
         53.158,
         14
        ],
        [
         8,
         7.641,
         53.359,
         15
        ],
        [
         8,
         7.811,
         55.299,
         16
        ]
       ],
       "datasetInfos": [],
       "dbfsResultPath": null,
       "isJsonSchema": true,
       "metadata": {},
       "overflow": false,
       "plotOptions": {
        "customPlotOptions": {},
        "displayType": "table",
        "pivotAggregation": null,
        "pivotColumns": null,
        "xColumns": null,
        "yColumns": null
       },
       "removedWidgets": [],
       "schema": [
        {
         "metadata": "{}",
         "name": "number_courses",
         "type": "\"integer\""
        },
        {
         "metadata": "{}",
         "name": "time_study",
         "type": "\"double\""
        },
        {
         "metadata": "{}",
         "name": "Marks",
         "type": "\"double\""
        },
        {
         "metadata": "{}",
         "name": "Row_Number",
         "type": "\"integer\""
        }
       ],
       "type": "table"
      }
     },
     "output_type": "display_data"
    }
   ],
   "source": [
    "#finding rownumber\n",
    "windowfun  = Window.partitionBy(\"number_courses\").orderBy(\"Marks\")\n",
    "df01=df.withColumn('Row_Number',row_number().over(windowfun))\n",
    "display(df01)"
   ]
  },
  {
   "cell_type": "code",
   "execution_count": 0,
   "metadata": {
    "application/vnd.databricks.v1+cell": {
     "cellMetadata": {
      "byteLimit": 2048000,
      "rowLimit": 10000
     },
     "inputWidgets": {},
     "nuid": "e469a43e-77c8-44c9-b870-f54d384ae3ad",
     "showTitle": false,
     "title": ""
    }
   },
   "outputs": [
    {
     "output_type": "display_data",
     "data": {
      "text/html": [
       "<style scoped>\n",
       "  .table-result-container {\n",
       "    max-height: 300px;\n",
       "    overflow: auto;\n",
       "  }\n",
       "  table, th, td {\n",
       "    border: 1px solid black;\n",
       "    border-collapse: collapse;\n",
       "  }\n",
       "  th, td {\n",
       "    padding: 5px;\n",
       "  }\n",
       "  th {\n",
       "    text-align: left;\n",
       "  }\n",
       "</style><div class='table-result-container'><table class='table-result'><thead style='background-color: white'><tr><th>number_courses</th><th>time_study</th><th>Marks</th><th>Rank</th></tr></thead><tbody><tr><td>3</td><td>0.301</td><td>5.609</td><td>1</td></tr><tr><td>3</td><td>1.033</td><td>6.053</td><td>2</td></tr><tr><td>3</td><td>0.55</td><td>6.185</td><td>3</td></tr><tr><td>3</td><td>0.803</td><td>6.217</td><td>4</td></tr><tr><td>3</td><td>0.805</td><td>6.349</td><td>5</td></tr><tr><td>3</td><td>1.407</td><td>6.623</td><td>6</td></tr><tr><td>3</td><td>1.629</td><td>7.014</td><td>7</td></tr><tr><td>3</td><td>1.923</td><td>8.1</td><td>8</td></tr><tr><td>3</td><td>2.061</td><td>8.924</td><td>9</td></tr><tr><td>3</td><td>2.908</td><td>11.397</td><td>10</td></tr><tr><td>3</td><td>4.083</td><td>17.171</td><td>11</td></tr><tr><td>3</td><td>4.274</td><td>17.672</td><td>12</td></tr><tr><td>3</td><td>4.508</td><td>19.202</td><td>13</td></tr><tr><td>3</td><td>4.633</td><td>20.398</td><td>14</td></tr><tr><td>3</td><td>4.869</td><td>21.379</td><td>15</td></tr><tr><td>3</td><td>5.635</td><td>26.882</td><td>16</td></tr><tr><td>3</td><td>6.063</td><td>29.889</td><td>17</td></tr><tr><td>3</td><td>6.173</td><td>30.862</td><td>18</td></tr><tr><td>3</td><td>6.198</td><td>31.236</td><td>19</td></tr><tr><td>3</td><td>6.335</td><td>32.357</td><td>20</td></tr><tr><td>3</td><td>7.353</td><td>42.036</td><td>21</td></tr><tr><td>3</td><td>7.543</td><td>43.978</td><td>22</td></tr><tr><td>4</td><td>0.14</td><td>7.336</td><td>1</td></tr><tr><td>4</td><td>0.096</td><td>7.734</td><td>2</td></tr><tr><td>4</td><td>0.771</td><td>7.892</td><td>3</td></tr><tr><td>4</td><td>1.299</td><td>8.837</td><td>4</td></tr><tr><td>4</td><td>1.395</td><td>8.92</td><td>5</td></tr><tr><td>4</td><td>1.954</td><td>9.742</td><td>6</td></tr><tr><td>4</td><td>2.438</td><td>10.844</td><td>7</td></tr><tr><td>4</td><td>2.966</td><td>13.119</td><td>8</td></tr><tr><td>4</td><td>3.133</td><td>13.811</td><td>9</td></tr><tr><td>4</td><td>3.635</td><td>16.517</td><td>10</td></tr><tr><td>4</td><td>3.736</td><td>16.606</td><td>11</td></tr><tr><td>4</td><td>3.797</td><td>16.703</td><td>12</td></tr><tr><td>4</td><td>4.26</td><td>19.466</td><td>13</td></tr><tr><td>4</td><td>4.41</td><td>20.348</td><td>14</td></tr><tr><td>4</td><td>4.733</td><td>22.073</td><td>15</td></tr><tr><td>4</td><td>4.779</td><td>22.701</td><td>16</td></tr><tr><td>4</td><td>5.027</td><td>23.916</td><td>17</td></tr><tr><td>4</td><td>5.473</td><td>27.569</td><td>18</td></tr><tr><td>4</td><td>6.954</td><td>39.952</td><td>19</td></tr><tr><td>4</td><td>7.163</td><td>41.444</td><td>20</td></tr><tr><td>4</td><td>7.41</td><td>44.099</td><td>21</td></tr><tr><td>5</td><td>0.156</td><td>9.333</td><td>1</td></tr><tr><td>5</td><td>1.557</td><td>10.429</td><td>2</td></tr><tr><td>5</td><td>1.803</td><td>11.253</td><td>3</td></tr><tr><td>5</td><td>2.051</td><td>12.209</td><td>4</td></tr><tr><td>5</td><td>2.518</td><td>13.416</td><td>5</td></tr><tr><td>5</td><td>3.197</td><td>16.106</td><td>6</td></tr><tr><td>5</td><td>3.413</td><td>17.264</td><td>7</td></tr><tr><td>5</td><td>3.913</td><td>19.106</td><td>8</td></tr><tr><td>5</td><td>5.719</td><td>30.548</td><td>9</td></tr><tr><td>5</td><td>6.379</td><td>36.746</td><td>10</td></tr><tr><td>6</td><td>0.376</td><td>10.522</td><td>1</td></tr><tr><td>6</td><td>2.142</td><td>13.562</td><td>2</td></tr><tr><td>6</td><td>2.754</td><td>15.725</td><td>3</td></tr><tr><td>6</td><td>3.211</td><td>17.822</td><td>4</td></tr><tr><td>6</td><td>3.561</td><td>19.128</td><td>5</td></tr><tr><td>6</td><td>3.606</td><td>19.59</td><td>6</td></tr><tr><td>6</td><td>3.591</td><td>19.771</td><td>7</td></tr><tr><td>6</td><td>3.948</td><td>21.4</td><td>8</td></tr><tr><td>6</td><td>4.13</td><td>22.184</td><td>9</td></tr><tr><td>6</td><td>6.126</td><td>35.939</td><td>10</td></tr><tr><td>6</td><td>6.594</td><td>39.965</td><td>11</td></tr><tr><td>6</td><td>6.703</td><td>40.602</td><td>12</td></tr><tr><td>6</td><td>7.283</td><td>46.453</td><td>13</td></tr><tr><td>6</td><td>7.711</td><td>50.986</td><td>14</td></tr><tr><td>6</td><td>7.775</td><td>51.142</td><td>15</td></tr><tr><td>6</td><td>7.909</td><td>53.018</td><td>16</td></tr><tr><td>7</td><td>0.309</td><td>12.027</td><td>1</td></tr><tr><td>7</td><td>0.423</td><td>12.132</td><td>2</td></tr><tr><td>7</td><td>0.13</td><td>12.591</td><td>3</td></tr><tr><td>7</td><td>0.508</td><td>12.647</td><td>4</td></tr><tr><td>7</td><td>2.913</td><td>18.238</td><td>5</td></tr><tr><td>7</td><td>4.067</td><td>23.149</td><td>6</td></tr><tr><td>7</td><td>4.218</td><td>24.318</td><td>7</td></tr><tr><td>7</td><td>4.182</td><td>24.394</td><td>8</td></tr><tr><td>7</td><td>4.875</td><td>28.043</td><td>9</td></tr><tr><td>7</td><td>6.049</td><td>36.653</td><td>10</td></tr><tr><td>7</td><td>6.376</td><td>40.024</td><td>11</td></tr><tr><td>7</td><td>6.533</td><td>41.358</td><td>12</td></tr><tr><td>7</td><td>7.451</td><td>49.544</td><td>13</td></tr><tr><td>7</td><td>7.649</td><td>51.583</td><td>14</td></tr><tr><td>7</td><td>7.957</td><td>54.321</td><td>15</td></tr><tr><td>8</td><td>0.932</td><td>15.038</td><td>1</td></tr><tr><td>8</td><td>1.982</td><td>16.461</td><td>2</td></tr><tr><td>8</td><td>2.262</td><td>17.705</td><td>3</td></tr><tr><td>8</td><td>2.73</td><td>19.564</td><td>4</td></tr><tr><td>8</td><td>3.864</td><td>24.172</td><td>5</td></tr><tr><td>8</td><td>3.919</td><td>24.451</td><td>6</td></tr><tr><td>8</td><td>3.977</td><td>25.133</td><td>7</td></tr><tr><td>8</td><td>4.378</td><td>26.532</td><td>8</td></tr><tr><td>8</td><td>5.985</td><td>38.278</td><td>9</td></tr><tr><td>8</td><td>6.08</td><td>38.49</td><td>10</td></tr><tr><td>8</td><td>6.201</td><td>39.957</td><td>11</td></tr><tr><td>8</td><td>6.471</td><td>42.426</td><td>12</td></tr><tr><td>8</td><td>7.468</td><td>51.343</td><td>13</td></tr><tr><td>8</td><td>7.591</td><td>53.158</td><td>14</td></tr><tr><td>8</td><td>7.641</td><td>53.359</td><td>15</td></tr><tr><td>8</td><td>7.811</td><td>55.299</td><td>16</td></tr></tbody></table></div>"
      ]
     },
     "metadata": {
      "application/vnd.databricks.v1+output": {
       "addedWidgets": {},
       "aggData": [],
       "aggError": "",
       "aggOverflow": false,
       "aggSchema": [],
       "aggSeriesLimitReached": false,
       "aggType": "",
       "arguments": {},
       "columnCustomDisplayInfos": {},
       "data": [
        [
         3,
         0.301,
         5.609,
         1
        ],
        [
         3,
         1.033,
         6.053,
         2
        ],
        [
         3,
         0.55,
         6.185,
         3
        ],
        [
         3,
         0.803,
         6.217,
         4
        ],
        [
         3,
         0.805,
         6.349,
         5
        ],
        [
         3,
         1.407,
         6.623,
         6
        ],
        [
         3,
         1.629,
         7.014,
         7
        ],
        [
         3,
         1.923,
         8.1,
         8
        ],
        [
         3,
         2.061,
         8.924,
         9
        ],
        [
         3,
         2.908,
         11.397,
         10
        ],
        [
         3,
         4.083,
         17.171,
         11
        ],
        [
         3,
         4.274,
         17.672,
         12
        ],
        [
         3,
         4.508,
         19.202,
         13
        ],
        [
         3,
         4.633,
         20.398,
         14
        ],
        [
         3,
         4.869,
         21.379,
         15
        ],
        [
         3,
         5.635,
         26.882,
         16
        ],
        [
         3,
         6.063,
         29.889,
         17
        ],
        [
         3,
         6.173,
         30.862,
         18
        ],
        [
         3,
         6.198,
         31.236,
         19
        ],
        [
         3,
         6.335,
         32.357,
         20
        ],
        [
         3,
         7.353,
         42.036,
         21
        ],
        [
         3,
         7.543,
         43.978,
         22
        ],
        [
         4,
         0.14,
         7.336,
         1
        ],
        [
         4,
         0.096,
         7.734,
         2
        ],
        [
         4,
         0.771,
         7.892,
         3
        ],
        [
         4,
         1.299,
         8.837,
         4
        ],
        [
         4,
         1.395,
         8.92,
         5
        ],
        [
         4,
         1.954,
         9.742,
         6
        ],
        [
         4,
         2.438,
         10.844,
         7
        ],
        [
         4,
         2.966,
         13.119,
         8
        ],
        [
         4,
         3.133,
         13.811,
         9
        ],
        [
         4,
         3.635,
         16.517,
         10
        ],
        [
         4,
         3.736,
         16.606,
         11
        ],
        [
         4,
         3.797,
         16.703,
         12
        ],
        [
         4,
         4.26,
         19.466,
         13
        ],
        [
         4,
         4.41,
         20.348,
         14
        ],
        [
         4,
         4.733,
         22.073,
         15
        ],
        [
         4,
         4.779,
         22.701,
         16
        ],
        [
         4,
         5.027,
         23.916,
         17
        ],
        [
         4,
         5.473,
         27.569,
         18
        ],
        [
         4,
         6.954,
         39.952,
         19
        ],
        [
         4,
         7.163,
         41.444,
         20
        ],
        [
         4,
         7.41,
         44.099,
         21
        ],
        [
         5,
         0.156,
         9.333,
         1
        ],
        [
         5,
         1.557,
         10.429,
         2
        ],
        [
         5,
         1.803,
         11.253,
         3
        ],
        [
         5,
         2.051,
         12.209,
         4
        ],
        [
         5,
         2.518,
         13.416,
         5
        ],
        [
         5,
         3.197,
         16.106,
         6
        ],
        [
         5,
         3.413,
         17.264,
         7
        ],
        [
         5,
         3.913,
         19.106,
         8
        ],
        [
         5,
         5.719,
         30.548,
         9
        ],
        [
         5,
         6.379,
         36.746,
         10
        ],
        [
         6,
         0.376,
         10.522,
         1
        ],
        [
         6,
         2.142,
         13.562,
         2
        ],
        [
         6,
         2.754,
         15.725,
         3
        ],
        [
         6,
         3.211,
         17.822,
         4
        ],
        [
         6,
         3.561,
         19.128,
         5
        ],
        [
         6,
         3.606,
         19.59,
         6
        ],
        [
         6,
         3.591,
         19.771,
         7
        ],
        [
         6,
         3.948,
         21.4,
         8
        ],
        [
         6,
         4.13,
         22.184,
         9
        ],
        [
         6,
         6.126,
         35.939,
         10
        ],
        [
         6,
         6.594,
         39.965,
         11
        ],
        [
         6,
         6.703,
         40.602,
         12
        ],
        [
         6,
         7.283,
         46.453,
         13
        ],
        [
         6,
         7.711,
         50.986,
         14
        ],
        [
         6,
         7.775,
         51.142,
         15
        ],
        [
         6,
         7.909,
         53.018,
         16
        ],
        [
         7,
         0.309,
         12.027,
         1
        ],
        [
         7,
         0.423,
         12.132,
         2
        ],
        [
         7,
         0.13,
         12.591,
         3
        ],
        [
         7,
         0.508,
         12.647,
         4
        ],
        [
         7,
         2.913,
         18.238,
         5
        ],
        [
         7,
         4.067,
         23.149,
         6
        ],
        [
         7,
         4.218,
         24.318,
         7
        ],
        [
         7,
         4.182,
         24.394,
         8
        ],
        [
         7,
         4.875,
         28.043,
         9
        ],
        [
         7,
         6.049,
         36.653,
         10
        ],
        [
         7,
         6.376,
         40.024,
         11
        ],
        [
         7,
         6.533,
         41.358,
         12
        ],
        [
         7,
         7.451,
         49.544,
         13
        ],
        [
         7,
         7.649,
         51.583,
         14
        ],
        [
         7,
         7.957,
         54.321,
         15
        ],
        [
         8,
         0.932,
         15.038,
         1
        ],
        [
         8,
         1.982,
         16.461,
         2
        ],
        [
         8,
         2.262,
         17.705,
         3
        ],
        [
         8,
         2.73,
         19.564,
         4
        ],
        [
         8,
         3.864,
         24.172,
         5
        ],
        [
         8,
         3.919,
         24.451,
         6
        ],
        [
         8,
         3.977,
         25.133,
         7
        ],
        [
         8,
         4.378,
         26.532,
         8
        ],
        [
         8,
         5.985,
         38.278,
         9
        ],
        [
         8,
         6.08,
         38.49,
         10
        ],
        [
         8,
         6.201,
         39.957,
         11
        ],
        [
         8,
         6.471,
         42.426,
         12
        ],
        [
         8,
         7.468,
         51.343,
         13
        ],
        [
         8,
         7.591,
         53.158,
         14
        ],
        [
         8,
         7.641,
         53.359,
         15
        ],
        [
         8,
         7.811,
         55.299,
         16
        ]
       ],
       "datasetInfos": [],
       "dbfsResultPath": null,
       "isJsonSchema": true,
       "metadata": {},
       "overflow": false,
       "plotOptions": {
        "customPlotOptions": {},
        "displayType": "table",
        "pivotAggregation": null,
        "pivotColumns": null,
        "xColumns": null,
        "yColumns": null
       },
       "removedWidgets": [],
       "schema": [
        {
         "metadata": "{}",
         "name": "number_courses",
         "type": "\"integer\""
        },
        {
         "metadata": "{}",
         "name": "time_study",
         "type": "\"double\""
        },
        {
         "metadata": "{}",
         "name": "Marks",
         "type": "\"double\""
        },
        {
         "metadata": "{}",
         "name": "Rank",
         "type": "\"integer\""
        }
       ],
       "type": "table"
      }
     },
     "output_type": "display_data"
    }
   ],
   "source": [
    "#finding rank\n",
    "df02=df.withColumn('Rank',rank().over(windowfun))\n",
    "display(df02)"
   ]
  },
  {
   "cell_type": "code",
   "execution_count": 0,
   "metadata": {
    "application/vnd.databricks.v1+cell": {
     "cellMetadata": {
      "byteLimit": 2048000,
      "rowLimit": 10000
     },
     "inputWidgets": {},
     "nuid": "6fa27e50-d72f-4c43-8bc3-18642ab19d48",
     "showTitle": false,
     "title": ""
    }
   },
   "outputs": [
    {
     "output_type": "display_data",
     "data": {
      "text/html": [
       "<style scoped>\n",
       "  .table-result-container {\n",
       "    max-height: 300px;\n",
       "    overflow: auto;\n",
       "  }\n",
       "  table, th, td {\n",
       "    border: 1px solid black;\n",
       "    border-collapse: collapse;\n",
       "  }\n",
       "  th, td {\n",
       "    padding: 5px;\n",
       "  }\n",
       "  th {\n",
       "    text-align: left;\n",
       "  }\n",
       "</style><div class='table-result-container'><table class='table-result'><thead style='background-color: white'><tr><th>number_courses</th><th>time_study</th><th>Marks</th><th>Dense_Rank</th></tr></thead><tbody><tr><td>3</td><td>0.301</td><td>5.609</td><td>1</td></tr><tr><td>3</td><td>1.033</td><td>6.053</td><td>2</td></tr><tr><td>3</td><td>0.55</td><td>6.185</td><td>3</td></tr><tr><td>3</td><td>0.803</td><td>6.217</td><td>4</td></tr><tr><td>3</td><td>0.805</td><td>6.349</td><td>5</td></tr><tr><td>3</td><td>1.407</td><td>6.623</td><td>6</td></tr><tr><td>3</td><td>1.629</td><td>7.014</td><td>7</td></tr><tr><td>3</td><td>1.923</td><td>8.1</td><td>8</td></tr><tr><td>3</td><td>2.061</td><td>8.924</td><td>9</td></tr><tr><td>3</td><td>2.908</td><td>11.397</td><td>10</td></tr><tr><td>3</td><td>4.083</td><td>17.171</td><td>11</td></tr><tr><td>3</td><td>4.274</td><td>17.672</td><td>12</td></tr><tr><td>3</td><td>4.508</td><td>19.202</td><td>13</td></tr><tr><td>3</td><td>4.633</td><td>20.398</td><td>14</td></tr><tr><td>3</td><td>4.869</td><td>21.379</td><td>15</td></tr><tr><td>3</td><td>5.635</td><td>26.882</td><td>16</td></tr><tr><td>3</td><td>6.063</td><td>29.889</td><td>17</td></tr><tr><td>3</td><td>6.173</td><td>30.862</td><td>18</td></tr><tr><td>3</td><td>6.198</td><td>31.236</td><td>19</td></tr><tr><td>3</td><td>6.335</td><td>32.357</td><td>20</td></tr><tr><td>3</td><td>7.353</td><td>42.036</td><td>21</td></tr><tr><td>3</td><td>7.543</td><td>43.978</td><td>22</td></tr><tr><td>4</td><td>0.14</td><td>7.336</td><td>1</td></tr><tr><td>4</td><td>0.096</td><td>7.734</td><td>2</td></tr><tr><td>4</td><td>0.771</td><td>7.892</td><td>3</td></tr><tr><td>4</td><td>1.299</td><td>8.837</td><td>4</td></tr><tr><td>4</td><td>1.395</td><td>8.92</td><td>5</td></tr><tr><td>4</td><td>1.954</td><td>9.742</td><td>6</td></tr><tr><td>4</td><td>2.438</td><td>10.844</td><td>7</td></tr><tr><td>4</td><td>2.966</td><td>13.119</td><td>8</td></tr><tr><td>4</td><td>3.133</td><td>13.811</td><td>9</td></tr><tr><td>4</td><td>3.635</td><td>16.517</td><td>10</td></tr><tr><td>4</td><td>3.736</td><td>16.606</td><td>11</td></tr><tr><td>4</td><td>3.797</td><td>16.703</td><td>12</td></tr><tr><td>4</td><td>4.26</td><td>19.466</td><td>13</td></tr><tr><td>4</td><td>4.41</td><td>20.348</td><td>14</td></tr><tr><td>4</td><td>4.733</td><td>22.073</td><td>15</td></tr><tr><td>4</td><td>4.779</td><td>22.701</td><td>16</td></tr><tr><td>4</td><td>5.027</td><td>23.916</td><td>17</td></tr><tr><td>4</td><td>5.473</td><td>27.569</td><td>18</td></tr><tr><td>4</td><td>6.954</td><td>39.952</td><td>19</td></tr><tr><td>4</td><td>7.163</td><td>41.444</td><td>20</td></tr><tr><td>4</td><td>7.41</td><td>44.099</td><td>21</td></tr><tr><td>5</td><td>0.156</td><td>9.333</td><td>1</td></tr><tr><td>5</td><td>1.557</td><td>10.429</td><td>2</td></tr><tr><td>5</td><td>1.803</td><td>11.253</td><td>3</td></tr><tr><td>5</td><td>2.051</td><td>12.209</td><td>4</td></tr><tr><td>5</td><td>2.518</td><td>13.416</td><td>5</td></tr><tr><td>5</td><td>3.197</td><td>16.106</td><td>6</td></tr><tr><td>5</td><td>3.413</td><td>17.264</td><td>7</td></tr><tr><td>5</td><td>3.913</td><td>19.106</td><td>8</td></tr><tr><td>5</td><td>5.719</td><td>30.548</td><td>9</td></tr><tr><td>5</td><td>6.379</td><td>36.746</td><td>10</td></tr><tr><td>6</td><td>0.376</td><td>10.522</td><td>1</td></tr><tr><td>6</td><td>2.142</td><td>13.562</td><td>2</td></tr><tr><td>6</td><td>2.754</td><td>15.725</td><td>3</td></tr><tr><td>6</td><td>3.211</td><td>17.822</td><td>4</td></tr><tr><td>6</td><td>3.561</td><td>19.128</td><td>5</td></tr><tr><td>6</td><td>3.606</td><td>19.59</td><td>6</td></tr><tr><td>6</td><td>3.591</td><td>19.771</td><td>7</td></tr><tr><td>6</td><td>3.948</td><td>21.4</td><td>8</td></tr><tr><td>6</td><td>4.13</td><td>22.184</td><td>9</td></tr><tr><td>6</td><td>6.126</td><td>35.939</td><td>10</td></tr><tr><td>6</td><td>6.594</td><td>39.965</td><td>11</td></tr><tr><td>6</td><td>6.703</td><td>40.602</td><td>12</td></tr><tr><td>6</td><td>7.283</td><td>46.453</td><td>13</td></tr><tr><td>6</td><td>7.711</td><td>50.986</td><td>14</td></tr><tr><td>6</td><td>7.775</td><td>51.142</td><td>15</td></tr><tr><td>6</td><td>7.909</td><td>53.018</td><td>16</td></tr><tr><td>7</td><td>0.309</td><td>12.027</td><td>1</td></tr><tr><td>7</td><td>0.423</td><td>12.132</td><td>2</td></tr><tr><td>7</td><td>0.13</td><td>12.591</td><td>3</td></tr><tr><td>7</td><td>0.508</td><td>12.647</td><td>4</td></tr><tr><td>7</td><td>2.913</td><td>18.238</td><td>5</td></tr><tr><td>7</td><td>4.067</td><td>23.149</td><td>6</td></tr><tr><td>7</td><td>4.218</td><td>24.318</td><td>7</td></tr><tr><td>7</td><td>4.182</td><td>24.394</td><td>8</td></tr><tr><td>7</td><td>4.875</td><td>28.043</td><td>9</td></tr><tr><td>7</td><td>6.049</td><td>36.653</td><td>10</td></tr><tr><td>7</td><td>6.376</td><td>40.024</td><td>11</td></tr><tr><td>7</td><td>6.533</td><td>41.358</td><td>12</td></tr><tr><td>7</td><td>7.451</td><td>49.544</td><td>13</td></tr><tr><td>7</td><td>7.649</td><td>51.583</td><td>14</td></tr><tr><td>7</td><td>7.957</td><td>54.321</td><td>15</td></tr><tr><td>8</td><td>0.932</td><td>15.038</td><td>1</td></tr><tr><td>8</td><td>1.982</td><td>16.461</td><td>2</td></tr><tr><td>8</td><td>2.262</td><td>17.705</td><td>3</td></tr><tr><td>8</td><td>2.73</td><td>19.564</td><td>4</td></tr><tr><td>8</td><td>3.864</td><td>24.172</td><td>5</td></tr><tr><td>8</td><td>3.919</td><td>24.451</td><td>6</td></tr><tr><td>8</td><td>3.977</td><td>25.133</td><td>7</td></tr><tr><td>8</td><td>4.378</td><td>26.532</td><td>8</td></tr><tr><td>8</td><td>5.985</td><td>38.278</td><td>9</td></tr><tr><td>8</td><td>6.08</td><td>38.49</td><td>10</td></tr><tr><td>8</td><td>6.201</td><td>39.957</td><td>11</td></tr><tr><td>8</td><td>6.471</td><td>42.426</td><td>12</td></tr><tr><td>8</td><td>7.468</td><td>51.343</td><td>13</td></tr><tr><td>8</td><td>7.591</td><td>53.158</td><td>14</td></tr><tr><td>8</td><td>7.641</td><td>53.359</td><td>15</td></tr><tr><td>8</td><td>7.811</td><td>55.299</td><td>16</td></tr></tbody></table></div>"
      ]
     },
     "metadata": {
      "application/vnd.databricks.v1+output": {
       "addedWidgets": {},
       "aggData": [],
       "aggError": "",
       "aggOverflow": false,
       "aggSchema": [],
       "aggSeriesLimitReached": false,
       "aggType": "",
       "arguments": {},
       "columnCustomDisplayInfos": {},
       "data": [
        [
         3,
         0.301,
         5.609,
         1
        ],
        [
         3,
         1.033,
         6.053,
         2
        ],
        [
         3,
         0.55,
         6.185,
         3
        ],
        [
         3,
         0.803,
         6.217,
         4
        ],
        [
         3,
         0.805,
         6.349,
         5
        ],
        [
         3,
         1.407,
         6.623,
         6
        ],
        [
         3,
         1.629,
         7.014,
         7
        ],
        [
         3,
         1.923,
         8.1,
         8
        ],
        [
         3,
         2.061,
         8.924,
         9
        ],
        [
         3,
         2.908,
         11.397,
         10
        ],
        [
         3,
         4.083,
         17.171,
         11
        ],
        [
         3,
         4.274,
         17.672,
         12
        ],
        [
         3,
         4.508,
         19.202,
         13
        ],
        [
         3,
         4.633,
         20.398,
         14
        ],
        [
         3,
         4.869,
         21.379,
         15
        ],
        [
         3,
         5.635,
         26.882,
         16
        ],
        [
         3,
         6.063,
         29.889,
         17
        ],
        [
         3,
         6.173,
         30.862,
         18
        ],
        [
         3,
         6.198,
         31.236,
         19
        ],
        [
         3,
         6.335,
         32.357,
         20
        ],
        [
         3,
         7.353,
         42.036,
         21
        ],
        [
         3,
         7.543,
         43.978,
         22
        ],
        [
         4,
         0.14,
         7.336,
         1
        ],
        [
         4,
         0.096,
         7.734,
         2
        ],
        [
         4,
         0.771,
         7.892,
         3
        ],
        [
         4,
         1.299,
         8.837,
         4
        ],
        [
         4,
         1.395,
         8.92,
         5
        ],
        [
         4,
         1.954,
         9.742,
         6
        ],
        [
         4,
         2.438,
         10.844,
         7
        ],
        [
         4,
         2.966,
         13.119,
         8
        ],
        [
         4,
         3.133,
         13.811,
         9
        ],
        [
         4,
         3.635,
         16.517,
         10
        ],
        [
         4,
         3.736,
         16.606,
         11
        ],
        [
         4,
         3.797,
         16.703,
         12
        ],
        [
         4,
         4.26,
         19.466,
         13
        ],
        [
         4,
         4.41,
         20.348,
         14
        ],
        [
         4,
         4.733,
         22.073,
         15
        ],
        [
         4,
         4.779,
         22.701,
         16
        ],
        [
         4,
         5.027,
         23.916,
         17
        ],
        [
         4,
         5.473,
         27.569,
         18
        ],
        [
         4,
         6.954,
         39.952,
         19
        ],
        [
         4,
         7.163,
         41.444,
         20
        ],
        [
         4,
         7.41,
         44.099,
         21
        ],
        [
         5,
         0.156,
         9.333,
         1
        ],
        [
         5,
         1.557,
         10.429,
         2
        ],
        [
         5,
         1.803,
         11.253,
         3
        ],
        [
         5,
         2.051,
         12.209,
         4
        ],
        [
         5,
         2.518,
         13.416,
         5
        ],
        [
         5,
         3.197,
         16.106,
         6
        ],
        [
         5,
         3.413,
         17.264,
         7
        ],
        [
         5,
         3.913,
         19.106,
         8
        ],
        [
         5,
         5.719,
         30.548,
         9
        ],
        [
         5,
         6.379,
         36.746,
         10
        ],
        [
         6,
         0.376,
         10.522,
         1
        ],
        [
         6,
         2.142,
         13.562,
         2
        ],
        [
         6,
         2.754,
         15.725,
         3
        ],
        [
         6,
         3.211,
         17.822,
         4
        ],
        [
         6,
         3.561,
         19.128,
         5
        ],
        [
         6,
         3.606,
         19.59,
         6
        ],
        [
         6,
         3.591,
         19.771,
         7
        ],
        [
         6,
         3.948,
         21.4,
         8
        ],
        [
         6,
         4.13,
         22.184,
         9
        ],
        [
         6,
         6.126,
         35.939,
         10
        ],
        [
         6,
         6.594,
         39.965,
         11
        ],
        [
         6,
         6.703,
         40.602,
         12
        ],
        [
         6,
         7.283,
         46.453,
         13
        ],
        [
         6,
         7.711,
         50.986,
         14
        ],
        [
         6,
         7.775,
         51.142,
         15
        ],
        [
         6,
         7.909,
         53.018,
         16
        ],
        [
         7,
         0.309,
         12.027,
         1
        ],
        [
         7,
         0.423,
         12.132,
         2
        ],
        [
         7,
         0.13,
         12.591,
         3
        ],
        [
         7,
         0.508,
         12.647,
         4
        ],
        [
         7,
         2.913,
         18.238,
         5
        ],
        [
         7,
         4.067,
         23.149,
         6
        ],
        [
         7,
         4.218,
         24.318,
         7
        ],
        [
         7,
         4.182,
         24.394,
         8
        ],
        [
         7,
         4.875,
         28.043,
         9
        ],
        [
         7,
         6.049,
         36.653,
         10
        ],
        [
         7,
         6.376,
         40.024,
         11
        ],
        [
         7,
         6.533,
         41.358,
         12
        ],
        [
         7,
         7.451,
         49.544,
         13
        ],
        [
         7,
         7.649,
         51.583,
         14
        ],
        [
         7,
         7.957,
         54.321,
         15
        ],
        [
         8,
         0.932,
         15.038,
         1
        ],
        [
         8,
         1.982,
         16.461,
         2
        ],
        [
         8,
         2.262,
         17.705,
         3
        ],
        [
         8,
         2.73,
         19.564,
         4
        ],
        [
         8,
         3.864,
         24.172,
         5
        ],
        [
         8,
         3.919,
         24.451,
         6
        ],
        [
         8,
         3.977,
         25.133,
         7
        ],
        [
         8,
         4.378,
         26.532,
         8
        ],
        [
         8,
         5.985,
         38.278,
         9
        ],
        [
         8,
         6.08,
         38.49,
         10
        ],
        [
         8,
         6.201,
         39.957,
         11
        ],
        [
         8,
         6.471,
         42.426,
         12
        ],
        [
         8,
         7.468,
         51.343,
         13
        ],
        [
         8,
         7.591,
         53.158,
         14
        ],
        [
         8,
         7.641,
         53.359,
         15
        ],
        [
         8,
         7.811,
         55.299,
         16
        ]
       ],
       "datasetInfos": [],
       "dbfsResultPath": null,
       "isJsonSchema": true,
       "metadata": {},
       "overflow": false,
       "plotOptions": {
        "customPlotOptions": {},
        "displayType": "table",
        "pivotAggregation": null,
        "pivotColumns": null,
        "xColumns": null,
        "yColumns": null
       },
       "removedWidgets": [],
       "schema": [
        {
         "metadata": "{}",
         "name": "number_courses",
         "type": "\"integer\""
        },
        {
         "metadata": "{}",
         "name": "time_study",
         "type": "\"double\""
        },
        {
         "metadata": "{}",
         "name": "Marks",
         "type": "\"double\""
        },
        {
         "metadata": "{}",
         "name": "Dense_Rank",
         "type": "\"integer\""
        }
       ],
       "type": "table"
      }
     },
     "output_type": "display_data"
    }
   ],
   "source": [
    "#finding dense rank\n",
    "df03=df.withColumn('Dense_Rank',dense_rank().over(windowfun))\n",
    "display(df03)"
   ]
  },
  {
   "cell_type": "code",
   "execution_count": 0,
   "metadata": {
    "application/vnd.databricks.v1+cell": {
     "cellMetadata": {
      "byteLimit": 2048000,
      "rowLimit": 10000
     },
     "inputWidgets": {},
     "nuid": "c4e66cf2-39ec-4f75-9324-0a5c2a8576f7",
     "showTitle": false,
     "title": ""
    }
   },
   "outputs": [
    {
     "output_type": "display_data",
     "data": {
      "text/html": [
       "<style scoped>\n",
       "  .table-result-container {\n",
       "    max-height: 300px;\n",
       "    overflow: auto;\n",
       "  }\n",
       "  table, th, td {\n",
       "    border: 1px solid black;\n",
       "    border-collapse: collapse;\n",
       "  }\n",
       "  th, td {\n",
       "    padding: 5px;\n",
       "  }\n",
       "  th {\n",
       "    text-align: left;\n",
       "  }\n",
       "</style><div class='table-result-container'><table class='table-result'><thead style='background-color: white'><tr><th>number_courses</th><th>time_study</th><th>Marks</th><th>Percent_Rank</th></tr></thead><tbody><tr><td>3</td><td>0.301</td><td>5.609</td><td>0.0</td></tr><tr><td>3</td><td>1.033</td><td>6.053</td><td>0.047619047619047616</td></tr><tr><td>3</td><td>0.55</td><td>6.185</td><td>0.09523809523809523</td></tr><tr><td>3</td><td>0.803</td><td>6.217</td><td>0.14285714285714285</td></tr><tr><td>3</td><td>0.805</td><td>6.349</td><td>0.19047619047619047</td></tr><tr><td>3</td><td>1.407</td><td>6.623</td><td>0.23809523809523808</td></tr><tr><td>3</td><td>1.629</td><td>7.014</td><td>0.2857142857142857</td></tr><tr><td>3</td><td>1.923</td><td>8.1</td><td>0.3333333333333333</td></tr><tr><td>3</td><td>2.061</td><td>8.924</td><td>0.38095238095238093</td></tr><tr><td>3</td><td>2.908</td><td>11.397</td><td>0.42857142857142855</td></tr><tr><td>3</td><td>4.083</td><td>17.171</td><td>0.47619047619047616</td></tr><tr><td>3</td><td>4.274</td><td>17.672</td><td>0.5238095238095238</td></tr><tr><td>3</td><td>4.508</td><td>19.202</td><td>0.5714285714285714</td></tr><tr><td>3</td><td>4.633</td><td>20.398</td><td>0.6190476190476191</td></tr><tr><td>3</td><td>4.869</td><td>21.379</td><td>0.6666666666666666</td></tr><tr><td>3</td><td>5.635</td><td>26.882</td><td>0.7142857142857143</td></tr><tr><td>3</td><td>6.063</td><td>29.889</td><td>0.7619047619047619</td></tr><tr><td>3</td><td>6.173</td><td>30.862</td><td>0.8095238095238095</td></tr><tr><td>3</td><td>6.198</td><td>31.236</td><td>0.8571428571428571</td></tr><tr><td>3</td><td>6.335</td><td>32.357</td><td>0.9047619047619048</td></tr><tr><td>3</td><td>7.353</td><td>42.036</td><td>0.9523809523809523</td></tr><tr><td>3</td><td>7.543</td><td>43.978</td><td>1.0</td></tr><tr><td>4</td><td>0.14</td><td>7.336</td><td>0.0</td></tr><tr><td>4</td><td>0.096</td><td>7.734</td><td>0.05</td></tr><tr><td>4</td><td>0.771</td><td>7.892</td><td>0.1</td></tr><tr><td>4</td><td>1.299</td><td>8.837</td><td>0.15</td></tr><tr><td>4</td><td>1.395</td><td>8.92</td><td>0.2</td></tr><tr><td>4</td><td>1.954</td><td>9.742</td><td>0.25</td></tr><tr><td>4</td><td>2.438</td><td>10.844</td><td>0.3</td></tr><tr><td>4</td><td>2.966</td><td>13.119</td><td>0.35</td></tr><tr><td>4</td><td>3.133</td><td>13.811</td><td>0.4</td></tr><tr><td>4</td><td>3.635</td><td>16.517</td><td>0.45</td></tr><tr><td>4</td><td>3.736</td><td>16.606</td><td>0.5</td></tr><tr><td>4</td><td>3.797</td><td>16.703</td><td>0.55</td></tr><tr><td>4</td><td>4.26</td><td>19.466</td><td>0.6</td></tr><tr><td>4</td><td>4.41</td><td>20.348</td><td>0.65</td></tr><tr><td>4</td><td>4.733</td><td>22.073</td><td>0.7</td></tr><tr><td>4</td><td>4.779</td><td>22.701</td><td>0.75</td></tr><tr><td>4</td><td>5.027</td><td>23.916</td><td>0.8</td></tr><tr><td>4</td><td>5.473</td><td>27.569</td><td>0.85</td></tr><tr><td>4</td><td>6.954</td><td>39.952</td><td>0.9</td></tr><tr><td>4</td><td>7.163</td><td>41.444</td><td>0.95</td></tr><tr><td>4</td><td>7.41</td><td>44.099</td><td>1.0</td></tr><tr><td>5</td><td>0.156</td><td>9.333</td><td>0.0</td></tr><tr><td>5</td><td>1.557</td><td>10.429</td><td>0.1111111111111111</td></tr><tr><td>5</td><td>1.803</td><td>11.253</td><td>0.2222222222222222</td></tr><tr><td>5</td><td>2.051</td><td>12.209</td><td>0.3333333333333333</td></tr><tr><td>5</td><td>2.518</td><td>13.416</td><td>0.4444444444444444</td></tr><tr><td>5</td><td>3.197</td><td>16.106</td><td>0.5555555555555556</td></tr><tr><td>5</td><td>3.413</td><td>17.264</td><td>0.6666666666666666</td></tr><tr><td>5</td><td>3.913</td><td>19.106</td><td>0.7777777777777778</td></tr><tr><td>5</td><td>5.719</td><td>30.548</td><td>0.8888888888888888</td></tr><tr><td>5</td><td>6.379</td><td>36.746</td><td>1.0</td></tr><tr><td>6</td><td>0.376</td><td>10.522</td><td>0.0</td></tr><tr><td>6</td><td>2.142</td><td>13.562</td><td>0.06666666666666667</td></tr><tr><td>6</td><td>2.754</td><td>15.725</td><td>0.13333333333333333</td></tr><tr><td>6</td><td>3.211</td><td>17.822</td><td>0.2</td></tr><tr><td>6</td><td>3.561</td><td>19.128</td><td>0.26666666666666666</td></tr><tr><td>6</td><td>3.606</td><td>19.59</td><td>0.3333333333333333</td></tr><tr><td>6</td><td>3.591</td><td>19.771</td><td>0.4</td></tr><tr><td>6</td><td>3.948</td><td>21.4</td><td>0.4666666666666667</td></tr><tr><td>6</td><td>4.13</td><td>22.184</td><td>0.5333333333333333</td></tr><tr><td>6</td><td>6.126</td><td>35.939</td><td>0.6</td></tr><tr><td>6</td><td>6.594</td><td>39.965</td><td>0.6666666666666666</td></tr><tr><td>6</td><td>6.703</td><td>40.602</td><td>0.7333333333333333</td></tr><tr><td>6</td><td>7.283</td><td>46.453</td><td>0.8</td></tr><tr><td>6</td><td>7.711</td><td>50.986</td><td>0.8666666666666667</td></tr><tr><td>6</td><td>7.775</td><td>51.142</td><td>0.9333333333333333</td></tr><tr><td>6</td><td>7.909</td><td>53.018</td><td>1.0</td></tr><tr><td>7</td><td>0.309</td><td>12.027</td><td>0.0</td></tr><tr><td>7</td><td>0.423</td><td>12.132</td><td>0.07142857142857142</td></tr><tr><td>7</td><td>0.13</td><td>12.591</td><td>0.14285714285714285</td></tr><tr><td>7</td><td>0.508</td><td>12.647</td><td>0.21428571428571427</td></tr><tr><td>7</td><td>2.913</td><td>18.238</td><td>0.2857142857142857</td></tr><tr><td>7</td><td>4.067</td><td>23.149</td><td>0.35714285714285715</td></tr><tr><td>7</td><td>4.218</td><td>24.318</td><td>0.42857142857142855</td></tr><tr><td>7</td><td>4.182</td><td>24.394</td><td>0.5</td></tr><tr><td>7</td><td>4.875</td><td>28.043</td><td>0.5714285714285714</td></tr><tr><td>7</td><td>6.049</td><td>36.653</td><td>0.6428571428571429</td></tr><tr><td>7</td><td>6.376</td><td>40.024</td><td>0.7142857142857143</td></tr><tr><td>7</td><td>6.533</td><td>41.358</td><td>0.7857142857142857</td></tr><tr><td>7</td><td>7.451</td><td>49.544</td><td>0.8571428571428571</td></tr><tr><td>7</td><td>7.649</td><td>51.583</td><td>0.9285714285714286</td></tr><tr><td>7</td><td>7.957</td><td>54.321</td><td>1.0</td></tr><tr><td>8</td><td>0.932</td><td>15.038</td><td>0.0</td></tr><tr><td>8</td><td>1.982</td><td>16.461</td><td>0.06666666666666667</td></tr><tr><td>8</td><td>2.262</td><td>17.705</td><td>0.13333333333333333</td></tr><tr><td>8</td><td>2.73</td><td>19.564</td><td>0.2</td></tr><tr><td>8</td><td>3.864</td><td>24.172</td><td>0.26666666666666666</td></tr><tr><td>8</td><td>3.919</td><td>24.451</td><td>0.3333333333333333</td></tr><tr><td>8</td><td>3.977</td><td>25.133</td><td>0.4</td></tr><tr><td>8</td><td>4.378</td><td>26.532</td><td>0.4666666666666667</td></tr><tr><td>8</td><td>5.985</td><td>38.278</td><td>0.5333333333333333</td></tr><tr><td>8</td><td>6.08</td><td>38.49</td><td>0.6</td></tr><tr><td>8</td><td>6.201</td><td>39.957</td><td>0.6666666666666666</td></tr><tr><td>8</td><td>6.471</td><td>42.426</td><td>0.7333333333333333</td></tr><tr><td>8</td><td>7.468</td><td>51.343</td><td>0.8</td></tr><tr><td>8</td><td>7.591</td><td>53.158</td><td>0.8666666666666667</td></tr><tr><td>8</td><td>7.641</td><td>53.359</td><td>0.9333333333333333</td></tr><tr><td>8</td><td>7.811</td><td>55.299</td><td>1.0</td></tr></tbody></table></div>"
      ]
     },
     "metadata": {
      "application/vnd.databricks.v1+output": {
       "addedWidgets": {},
       "aggData": [],
       "aggError": "",
       "aggOverflow": false,
       "aggSchema": [],
       "aggSeriesLimitReached": false,
       "aggType": "",
       "arguments": {},
       "columnCustomDisplayInfos": {},
       "data": [
        [
         3,
         0.301,
         5.609,
         0.0
        ],
        [
         3,
         1.033,
         6.053,
         0.047619047619047616
        ],
        [
         3,
         0.55,
         6.185,
         0.09523809523809523
        ],
        [
         3,
         0.803,
         6.217,
         0.14285714285714285
        ],
        [
         3,
         0.805,
         6.349,
         0.19047619047619047
        ],
        [
         3,
         1.407,
         6.623,
         0.23809523809523808
        ],
        [
         3,
         1.629,
         7.014,
         0.2857142857142857
        ],
        [
         3,
         1.923,
         8.1,
         0.3333333333333333
        ],
        [
         3,
         2.061,
         8.924,
         0.38095238095238093
        ],
        [
         3,
         2.908,
         11.397,
         0.42857142857142855
        ],
        [
         3,
         4.083,
         17.171,
         0.47619047619047616
        ],
        [
         3,
         4.274,
         17.672,
         0.5238095238095238
        ],
        [
         3,
         4.508,
         19.202,
         0.5714285714285714
        ],
        [
         3,
         4.633,
         20.398,
         0.6190476190476191
        ],
        [
         3,
         4.869,
         21.379,
         0.6666666666666666
        ],
        [
         3,
         5.635,
         26.882,
         0.7142857142857143
        ],
        [
         3,
         6.063,
         29.889,
         0.7619047619047619
        ],
        [
         3,
         6.173,
         30.862,
         0.8095238095238095
        ],
        [
         3,
         6.198,
         31.236,
         0.8571428571428571
        ],
        [
         3,
         6.335,
         32.357,
         0.9047619047619048
        ],
        [
         3,
         7.353,
         42.036,
         0.9523809523809523
        ],
        [
         3,
         7.543,
         43.978,
         1.0
        ],
        [
         4,
         0.14,
         7.336,
         0.0
        ],
        [
         4,
         0.096,
         7.734,
         0.05
        ],
        [
         4,
         0.771,
         7.892,
         0.1
        ],
        [
         4,
         1.299,
         8.837,
         0.15
        ],
        [
         4,
         1.395,
         8.92,
         0.2
        ],
        [
         4,
         1.954,
         9.742,
         0.25
        ],
        [
         4,
         2.438,
         10.844,
         0.3
        ],
        [
         4,
         2.966,
         13.119,
         0.35
        ],
        [
         4,
         3.133,
         13.811,
         0.4
        ],
        [
         4,
         3.635,
         16.517,
         0.45
        ],
        [
         4,
         3.736,
         16.606,
         0.5
        ],
        [
         4,
         3.797,
         16.703,
         0.55
        ],
        [
         4,
         4.26,
         19.466,
         0.6
        ],
        [
         4,
         4.41,
         20.348,
         0.65
        ],
        [
         4,
         4.733,
         22.073,
         0.7
        ],
        [
         4,
         4.779,
         22.701,
         0.75
        ],
        [
         4,
         5.027,
         23.916,
         0.8
        ],
        [
         4,
         5.473,
         27.569,
         0.85
        ],
        [
         4,
         6.954,
         39.952,
         0.9
        ],
        [
         4,
         7.163,
         41.444,
         0.95
        ],
        [
         4,
         7.41,
         44.099,
         1.0
        ],
        [
         5,
         0.156,
         9.333,
         0.0
        ],
        [
         5,
         1.557,
         10.429,
         0.1111111111111111
        ],
        [
         5,
         1.803,
         11.253,
         0.2222222222222222
        ],
        [
         5,
         2.051,
         12.209,
         0.3333333333333333
        ],
        [
         5,
         2.518,
         13.416,
         0.4444444444444444
        ],
        [
         5,
         3.197,
         16.106,
         0.5555555555555556
        ],
        [
         5,
         3.413,
         17.264,
         0.6666666666666666
        ],
        [
         5,
         3.913,
         19.106,
         0.7777777777777778
        ],
        [
         5,
         5.719,
         30.548,
         0.8888888888888888
        ],
        [
         5,
         6.379,
         36.746,
         1.0
        ],
        [
         6,
         0.376,
         10.522,
         0.0
        ],
        [
         6,
         2.142,
         13.562,
         0.06666666666666667
        ],
        [
         6,
         2.754,
         15.725,
         0.13333333333333333
        ],
        [
         6,
         3.211,
         17.822,
         0.2
        ],
        [
         6,
         3.561,
         19.128,
         0.26666666666666666
        ],
        [
         6,
         3.606,
         19.59,
         0.3333333333333333
        ],
        [
         6,
         3.591,
         19.771,
         0.4
        ],
        [
         6,
         3.948,
         21.4,
         0.4666666666666667
        ],
        [
         6,
         4.13,
         22.184,
         0.5333333333333333
        ],
        [
         6,
         6.126,
         35.939,
         0.6
        ],
        [
         6,
         6.594,
         39.965,
         0.6666666666666666
        ],
        [
         6,
         6.703,
         40.602,
         0.7333333333333333
        ],
        [
         6,
         7.283,
         46.453,
         0.8
        ],
        [
         6,
         7.711,
         50.986,
         0.8666666666666667
        ],
        [
         6,
         7.775,
         51.142,
         0.9333333333333333
        ],
        [
         6,
         7.909,
         53.018,
         1.0
        ],
        [
         7,
         0.309,
         12.027,
         0.0
        ],
        [
         7,
         0.423,
         12.132,
         0.07142857142857142
        ],
        [
         7,
         0.13,
         12.591,
         0.14285714285714285
        ],
        [
         7,
         0.508,
         12.647,
         0.21428571428571427
        ],
        [
         7,
         2.913,
         18.238,
         0.2857142857142857
        ],
        [
         7,
         4.067,
         23.149,
         0.35714285714285715
        ],
        [
         7,
         4.218,
         24.318,
         0.42857142857142855
        ],
        [
         7,
         4.182,
         24.394,
         0.5
        ],
        [
         7,
         4.875,
         28.043,
         0.5714285714285714
        ],
        [
         7,
         6.049,
         36.653,
         0.6428571428571429
        ],
        [
         7,
         6.376,
         40.024,
         0.7142857142857143
        ],
        [
         7,
         6.533,
         41.358,
         0.7857142857142857
        ],
        [
         7,
         7.451,
         49.544,
         0.8571428571428571
        ],
        [
         7,
         7.649,
         51.583,
         0.9285714285714286
        ],
        [
         7,
         7.957,
         54.321,
         1.0
        ],
        [
         8,
         0.932,
         15.038,
         0.0
        ],
        [
         8,
         1.982,
         16.461,
         0.06666666666666667
        ],
        [
         8,
         2.262,
         17.705,
         0.13333333333333333
        ],
        [
         8,
         2.73,
         19.564,
         0.2
        ],
        [
         8,
         3.864,
         24.172,
         0.26666666666666666
        ],
        [
         8,
         3.919,
         24.451,
         0.3333333333333333
        ],
        [
         8,
         3.977,
         25.133,
         0.4
        ],
        [
         8,
         4.378,
         26.532,
         0.4666666666666667
        ],
        [
         8,
         5.985,
         38.278,
         0.5333333333333333
        ],
        [
         8,
         6.08,
         38.49,
         0.6
        ],
        [
         8,
         6.201,
         39.957,
         0.6666666666666666
        ],
        [
         8,
         6.471,
         42.426,
         0.7333333333333333
        ],
        [
         8,
         7.468,
         51.343,
         0.8
        ],
        [
         8,
         7.591,
         53.158,
         0.8666666666666667
        ],
        [
         8,
         7.641,
         53.359,
         0.9333333333333333
        ],
        [
         8,
         7.811,
         55.299,
         1.0
        ]
       ],
       "datasetInfos": [],
       "dbfsResultPath": null,
       "isJsonSchema": true,
       "metadata": {},
       "overflow": false,
       "plotOptions": {
        "customPlotOptions": {},
        "displayType": "table",
        "pivotAggregation": null,
        "pivotColumns": null,
        "xColumns": null,
        "yColumns": null
       },
       "removedWidgets": [],
       "schema": [
        {
         "metadata": "{}",
         "name": "number_courses",
         "type": "\"integer\""
        },
        {
         "metadata": "{}",
         "name": "time_study",
         "type": "\"double\""
        },
        {
         "metadata": "{}",
         "name": "Marks",
         "type": "\"double\""
        },
        {
         "metadata": "{}",
         "name": "Percent_Rank",
         "type": "\"double\""
        }
       ],
       "type": "table"
      }
     },
     "output_type": "display_data"
    }
   ],
   "source": [
    "#finding percent rank\n",
    "df04=df.withColumn('Percent_Rank',percent_rank().over(windowfun))\n",
    "display(df04)"
   ]
  },
  {
   "cell_type": "code",
   "execution_count": 0,
   "metadata": {
    "application/vnd.databricks.v1+cell": {
     "cellMetadata": {
      "byteLimit": 2048000,
      "rowLimit": 10000
     },
     "inputWidgets": {},
     "nuid": "7cf6cfdb-7bce-4e51-bec0-fe02e39a6847",
     "showTitle": false,
     "title": ""
    }
   },
   "outputs": [
    {
     "output_type": "display_data",
     "data": {
      "text/html": [
       "<style scoped>\n",
       "  .table-result-container {\n",
       "    max-height: 300px;\n",
       "    overflow: auto;\n",
       "  }\n",
       "  table, th, td {\n",
       "    border: 1px solid black;\n",
       "    border-collapse: collapse;\n",
       "  }\n",
       "  th, td {\n",
       "    padding: 5px;\n",
       "  }\n",
       "  th {\n",
       "    text-align: left;\n",
       "  }\n",
       "</style><div class='table-result-container'><table class='table-result'><thead style='background-color: white'><tr><th>number_courses</th><th>time_study</th><th>Marks</th><th>ntile</th></tr></thead><tbody><tr><td>3</td><td>0.301</td><td>5.609</td><td>1</td></tr><tr><td>3</td><td>1.033</td><td>6.053</td><td>1</td></tr><tr><td>3</td><td>0.55</td><td>6.185</td><td>1</td></tr><tr><td>3</td><td>0.803</td><td>6.217</td><td>1</td></tr><tr><td>3</td><td>0.805</td><td>6.349</td><td>1</td></tr><tr><td>3</td><td>1.407</td><td>6.623</td><td>2</td></tr><tr><td>3</td><td>1.629</td><td>7.014</td><td>2</td></tr><tr><td>3</td><td>1.923</td><td>8.1</td><td>2</td></tr><tr><td>3</td><td>2.061</td><td>8.924</td><td>2</td></tr><tr><td>3</td><td>2.908</td><td>11.397</td><td>2</td></tr><tr><td>3</td><td>4.083</td><td>17.171</td><td>3</td></tr><tr><td>3</td><td>4.274</td><td>17.672</td><td>3</td></tr><tr><td>3</td><td>4.508</td><td>19.202</td><td>3</td></tr><tr><td>3</td><td>4.633</td><td>20.398</td><td>3</td></tr><tr><td>3</td><td>4.869</td><td>21.379</td><td>4</td></tr><tr><td>3</td><td>5.635</td><td>26.882</td><td>4</td></tr><tr><td>3</td><td>6.063</td><td>29.889</td><td>4</td></tr><tr><td>3</td><td>6.173</td><td>30.862</td><td>4</td></tr><tr><td>3</td><td>6.198</td><td>31.236</td><td>5</td></tr><tr><td>3</td><td>6.335</td><td>32.357</td><td>5</td></tr><tr><td>3</td><td>7.353</td><td>42.036</td><td>5</td></tr><tr><td>3</td><td>7.543</td><td>43.978</td><td>5</td></tr><tr><td>4</td><td>0.14</td><td>7.336</td><td>1</td></tr><tr><td>4</td><td>0.096</td><td>7.734</td><td>1</td></tr><tr><td>4</td><td>0.771</td><td>7.892</td><td>1</td></tr><tr><td>4</td><td>1.299</td><td>8.837</td><td>1</td></tr><tr><td>4</td><td>1.395</td><td>8.92</td><td>1</td></tr><tr><td>4</td><td>1.954</td><td>9.742</td><td>2</td></tr><tr><td>4</td><td>2.438</td><td>10.844</td><td>2</td></tr><tr><td>4</td><td>2.966</td><td>13.119</td><td>2</td></tr><tr><td>4</td><td>3.133</td><td>13.811</td><td>2</td></tr><tr><td>4</td><td>3.635</td><td>16.517</td><td>3</td></tr><tr><td>4</td><td>3.736</td><td>16.606</td><td>3</td></tr><tr><td>4</td><td>3.797</td><td>16.703</td><td>3</td></tr><tr><td>4</td><td>4.26</td><td>19.466</td><td>3</td></tr><tr><td>4</td><td>4.41</td><td>20.348</td><td>4</td></tr><tr><td>4</td><td>4.733</td><td>22.073</td><td>4</td></tr><tr><td>4</td><td>4.779</td><td>22.701</td><td>4</td></tr><tr><td>4</td><td>5.027</td><td>23.916</td><td>4</td></tr><tr><td>4</td><td>5.473</td><td>27.569</td><td>5</td></tr><tr><td>4</td><td>6.954</td><td>39.952</td><td>5</td></tr><tr><td>4</td><td>7.163</td><td>41.444</td><td>5</td></tr><tr><td>4</td><td>7.41</td><td>44.099</td><td>5</td></tr><tr><td>5</td><td>0.156</td><td>9.333</td><td>1</td></tr><tr><td>5</td><td>1.557</td><td>10.429</td><td>1</td></tr><tr><td>5</td><td>1.803</td><td>11.253</td><td>2</td></tr><tr><td>5</td><td>2.051</td><td>12.209</td><td>2</td></tr><tr><td>5</td><td>2.518</td><td>13.416</td><td>3</td></tr><tr><td>5</td><td>3.197</td><td>16.106</td><td>3</td></tr><tr><td>5</td><td>3.413</td><td>17.264</td><td>4</td></tr><tr><td>5</td><td>3.913</td><td>19.106</td><td>4</td></tr><tr><td>5</td><td>5.719</td><td>30.548</td><td>5</td></tr><tr><td>5</td><td>6.379</td><td>36.746</td><td>5</td></tr><tr><td>6</td><td>0.376</td><td>10.522</td><td>1</td></tr><tr><td>6</td><td>2.142</td><td>13.562</td><td>1</td></tr><tr><td>6</td><td>2.754</td><td>15.725</td><td>1</td></tr><tr><td>6</td><td>3.211</td><td>17.822</td><td>1</td></tr><tr><td>6</td><td>3.561</td><td>19.128</td><td>2</td></tr><tr><td>6</td><td>3.606</td><td>19.59</td><td>2</td></tr><tr><td>6</td><td>3.591</td><td>19.771</td><td>2</td></tr><tr><td>6</td><td>3.948</td><td>21.4</td><td>3</td></tr><tr><td>6</td><td>4.13</td><td>22.184</td><td>3</td></tr><tr><td>6</td><td>6.126</td><td>35.939</td><td>3</td></tr><tr><td>6</td><td>6.594</td><td>39.965</td><td>4</td></tr><tr><td>6</td><td>6.703</td><td>40.602</td><td>4</td></tr><tr><td>6</td><td>7.283</td><td>46.453</td><td>4</td></tr><tr><td>6</td><td>7.711</td><td>50.986</td><td>5</td></tr><tr><td>6</td><td>7.775</td><td>51.142</td><td>5</td></tr><tr><td>6</td><td>7.909</td><td>53.018</td><td>5</td></tr><tr><td>7</td><td>0.309</td><td>12.027</td><td>1</td></tr><tr><td>7</td><td>0.423</td><td>12.132</td><td>1</td></tr><tr><td>7</td><td>0.13</td><td>12.591</td><td>1</td></tr><tr><td>7</td><td>0.508</td><td>12.647</td><td>2</td></tr><tr><td>7</td><td>2.913</td><td>18.238</td><td>2</td></tr><tr><td>7</td><td>4.067</td><td>23.149</td><td>2</td></tr><tr><td>7</td><td>4.218</td><td>24.318</td><td>3</td></tr><tr><td>7</td><td>4.182</td><td>24.394</td><td>3</td></tr><tr><td>7</td><td>4.875</td><td>28.043</td><td>3</td></tr><tr><td>7</td><td>6.049</td><td>36.653</td><td>4</td></tr><tr><td>7</td><td>6.376</td><td>40.024</td><td>4</td></tr><tr><td>7</td><td>6.533</td><td>41.358</td><td>4</td></tr><tr><td>7</td><td>7.451</td><td>49.544</td><td>5</td></tr><tr><td>7</td><td>7.649</td><td>51.583</td><td>5</td></tr><tr><td>7</td><td>7.957</td><td>54.321</td><td>5</td></tr><tr><td>8</td><td>0.932</td><td>15.038</td><td>1</td></tr><tr><td>8</td><td>1.982</td><td>16.461</td><td>1</td></tr><tr><td>8</td><td>2.262</td><td>17.705</td><td>1</td></tr><tr><td>8</td><td>2.73</td><td>19.564</td><td>1</td></tr><tr><td>8</td><td>3.864</td><td>24.172</td><td>2</td></tr><tr><td>8</td><td>3.919</td><td>24.451</td><td>2</td></tr><tr><td>8</td><td>3.977</td><td>25.133</td><td>2</td></tr><tr><td>8</td><td>4.378</td><td>26.532</td><td>3</td></tr><tr><td>8</td><td>5.985</td><td>38.278</td><td>3</td></tr><tr><td>8</td><td>6.08</td><td>38.49</td><td>3</td></tr><tr><td>8</td><td>6.201</td><td>39.957</td><td>4</td></tr><tr><td>8</td><td>6.471</td><td>42.426</td><td>4</td></tr><tr><td>8</td><td>7.468</td><td>51.343</td><td>4</td></tr><tr><td>8</td><td>7.591</td><td>53.158</td><td>5</td></tr><tr><td>8</td><td>7.641</td><td>53.359</td><td>5</td></tr><tr><td>8</td><td>7.811</td><td>55.299</td><td>5</td></tr></tbody></table></div>"
      ]
     },
     "metadata": {
      "application/vnd.databricks.v1+output": {
       "addedWidgets": {},
       "aggData": [],
       "aggError": "",
       "aggOverflow": false,
       "aggSchema": [],
       "aggSeriesLimitReached": false,
       "aggType": "",
       "arguments": {},
       "columnCustomDisplayInfos": {},
       "data": [
        [
         3,
         0.301,
         5.609,
         1
        ],
        [
         3,
         1.033,
         6.053,
         1
        ],
        [
         3,
         0.55,
         6.185,
         1
        ],
        [
         3,
         0.803,
         6.217,
         1
        ],
        [
         3,
         0.805,
         6.349,
         1
        ],
        [
         3,
         1.407,
         6.623,
         2
        ],
        [
         3,
         1.629,
         7.014,
         2
        ],
        [
         3,
         1.923,
         8.1,
         2
        ],
        [
         3,
         2.061,
         8.924,
         2
        ],
        [
         3,
         2.908,
         11.397,
         2
        ],
        [
         3,
         4.083,
         17.171,
         3
        ],
        [
         3,
         4.274,
         17.672,
         3
        ],
        [
         3,
         4.508,
         19.202,
         3
        ],
        [
         3,
         4.633,
         20.398,
         3
        ],
        [
         3,
         4.869,
         21.379,
         4
        ],
        [
         3,
         5.635,
         26.882,
         4
        ],
        [
         3,
         6.063,
         29.889,
         4
        ],
        [
         3,
         6.173,
         30.862,
         4
        ],
        [
         3,
         6.198,
         31.236,
         5
        ],
        [
         3,
         6.335,
         32.357,
         5
        ],
        [
         3,
         7.353,
         42.036,
         5
        ],
        [
         3,
         7.543,
         43.978,
         5
        ],
        [
         4,
         0.14,
         7.336,
         1
        ],
        [
         4,
         0.096,
         7.734,
         1
        ],
        [
         4,
         0.771,
         7.892,
         1
        ],
        [
         4,
         1.299,
         8.837,
         1
        ],
        [
         4,
         1.395,
         8.92,
         1
        ],
        [
         4,
         1.954,
         9.742,
         2
        ],
        [
         4,
         2.438,
         10.844,
         2
        ],
        [
         4,
         2.966,
         13.119,
         2
        ],
        [
         4,
         3.133,
         13.811,
         2
        ],
        [
         4,
         3.635,
         16.517,
         3
        ],
        [
         4,
         3.736,
         16.606,
         3
        ],
        [
         4,
         3.797,
         16.703,
         3
        ],
        [
         4,
         4.26,
         19.466,
         3
        ],
        [
         4,
         4.41,
         20.348,
         4
        ],
        [
         4,
         4.733,
         22.073,
         4
        ],
        [
         4,
         4.779,
         22.701,
         4
        ],
        [
         4,
         5.027,
         23.916,
         4
        ],
        [
         4,
         5.473,
         27.569,
         5
        ],
        [
         4,
         6.954,
         39.952,
         5
        ],
        [
         4,
         7.163,
         41.444,
         5
        ],
        [
         4,
         7.41,
         44.099,
         5
        ],
        [
         5,
         0.156,
         9.333,
         1
        ],
        [
         5,
         1.557,
         10.429,
         1
        ],
        [
         5,
         1.803,
         11.253,
         2
        ],
        [
         5,
         2.051,
         12.209,
         2
        ],
        [
         5,
         2.518,
         13.416,
         3
        ],
        [
         5,
         3.197,
         16.106,
         3
        ],
        [
         5,
         3.413,
         17.264,
         4
        ],
        [
         5,
         3.913,
         19.106,
         4
        ],
        [
         5,
         5.719,
         30.548,
         5
        ],
        [
         5,
         6.379,
         36.746,
         5
        ],
        [
         6,
         0.376,
         10.522,
         1
        ],
        [
         6,
         2.142,
         13.562,
         1
        ],
        [
         6,
         2.754,
         15.725,
         1
        ],
        [
         6,
         3.211,
         17.822,
         1
        ],
        [
         6,
         3.561,
         19.128,
         2
        ],
        [
         6,
         3.606,
         19.59,
         2
        ],
        [
         6,
         3.591,
         19.771,
         2
        ],
        [
         6,
         3.948,
         21.4,
         3
        ],
        [
         6,
         4.13,
         22.184,
         3
        ],
        [
         6,
         6.126,
         35.939,
         3
        ],
        [
         6,
         6.594,
         39.965,
         4
        ],
        [
         6,
         6.703,
         40.602,
         4
        ],
        [
         6,
         7.283,
         46.453,
         4
        ],
        [
         6,
         7.711,
         50.986,
         5
        ],
        [
         6,
         7.775,
         51.142,
         5
        ],
        [
         6,
         7.909,
         53.018,
         5
        ],
        [
         7,
         0.309,
         12.027,
         1
        ],
        [
         7,
         0.423,
         12.132,
         1
        ],
        [
         7,
         0.13,
         12.591,
         1
        ],
        [
         7,
         0.508,
         12.647,
         2
        ],
        [
         7,
         2.913,
         18.238,
         2
        ],
        [
         7,
         4.067,
         23.149,
         2
        ],
        [
         7,
         4.218,
         24.318,
         3
        ],
        [
         7,
         4.182,
         24.394,
         3
        ],
        [
         7,
         4.875,
         28.043,
         3
        ],
        [
         7,
         6.049,
         36.653,
         4
        ],
        [
         7,
         6.376,
         40.024,
         4
        ],
        [
         7,
         6.533,
         41.358,
         4
        ],
        [
         7,
         7.451,
         49.544,
         5
        ],
        [
         7,
         7.649,
         51.583,
         5
        ],
        [
         7,
         7.957,
         54.321,
         5
        ],
        [
         8,
         0.932,
         15.038,
         1
        ],
        [
         8,
         1.982,
         16.461,
         1
        ],
        [
         8,
         2.262,
         17.705,
         1
        ],
        [
         8,
         2.73,
         19.564,
         1
        ],
        [
         8,
         3.864,
         24.172,
         2
        ],
        [
         8,
         3.919,
         24.451,
         2
        ],
        [
         8,
         3.977,
         25.133,
         2
        ],
        [
         8,
         4.378,
         26.532,
         3
        ],
        [
         8,
         5.985,
         38.278,
         3
        ],
        [
         8,
         6.08,
         38.49,
         3
        ],
        [
         8,
         6.201,
         39.957,
         4
        ],
        [
         8,
         6.471,
         42.426,
         4
        ],
        [
         8,
         7.468,
         51.343,
         4
        ],
        [
         8,
         7.591,
         53.158,
         5
        ],
        [
         8,
         7.641,
         53.359,
         5
        ],
        [
         8,
         7.811,
         55.299,
         5
        ]
       ],
       "datasetInfos": [],
       "dbfsResultPath": null,
       "isJsonSchema": true,
       "metadata": {},
       "overflow": false,
       "plotOptions": {
        "customPlotOptions": {},
        "displayType": "table",
        "pivotAggregation": null,
        "pivotColumns": null,
        "xColumns": null,
        "yColumns": null
       },
       "removedWidgets": [],
       "schema": [
        {
         "metadata": "{}",
         "name": "number_courses",
         "type": "\"integer\""
        },
        {
         "metadata": "{}",
         "name": "time_study",
         "type": "\"double\""
        },
        {
         "metadata": "{}",
         "name": "Marks",
         "type": "\"double\""
        },
        {
         "metadata": "{}",
         "name": "ntile",
         "type": "\"integer\""
        }
       ],
       "type": "table"
      }
     },
     "output_type": "display_data"
    }
   ],
   "source": [
    "df05=df.withColumn('ntile',ntile(5).over(windowfun))\n",
    "display(df05)"
   ]
  },
  {
   "cell_type": "code",
   "execution_count": 0,
   "metadata": {
    "application/vnd.databricks.v1+cell": {
     "cellMetadata": {
      "byteLimit": 2048000,
      "rowLimit": 10000
     },
     "inputWidgets": {},
     "nuid": "d112f225-8169-4b9e-b8af-a2b0ca01c856",
     "showTitle": false,
     "title": ""
    }
   },
   "outputs": [
    {
     "output_type": "display_data",
     "data": {
      "text/html": [
       "<style scoped>\n",
       "  .table-result-container {\n",
       "    max-height: 300px;\n",
       "    overflow: auto;\n",
       "  }\n",
       "  table, th, td {\n",
       "    border: 1px solid black;\n",
       "    border-collapse: collapse;\n",
       "  }\n",
       "  th, td {\n",
       "    padding: 5px;\n",
       "  }\n",
       "  th {\n",
       "    text-align: left;\n",
       "  }\n",
       "</style><div class='table-result-container'><table class='table-result'><thead style='background-color: white'><tr><th>number_courses</th><th>time_study</th><th>Marks</th><th>cume_dist</th></tr></thead><tbody><tr><td>3</td><td>0.301</td><td>5.609</td><td>0.045454545454545456</td></tr><tr><td>3</td><td>1.033</td><td>6.053</td><td>0.09090909090909091</td></tr><tr><td>3</td><td>0.55</td><td>6.185</td><td>0.13636363636363635</td></tr><tr><td>3</td><td>0.803</td><td>6.217</td><td>0.18181818181818182</td></tr><tr><td>3</td><td>0.805</td><td>6.349</td><td>0.22727272727272727</td></tr><tr><td>3</td><td>1.407</td><td>6.623</td><td>0.2727272727272727</td></tr><tr><td>3</td><td>1.629</td><td>7.014</td><td>0.3181818181818182</td></tr><tr><td>3</td><td>1.923</td><td>8.1</td><td>0.36363636363636365</td></tr><tr><td>3</td><td>2.061</td><td>8.924</td><td>0.4090909090909091</td></tr><tr><td>3</td><td>2.908</td><td>11.397</td><td>0.45454545454545453</td></tr><tr><td>3</td><td>4.083</td><td>17.171</td><td>0.5</td></tr><tr><td>3</td><td>4.274</td><td>17.672</td><td>0.5454545454545454</td></tr><tr><td>3</td><td>4.508</td><td>19.202</td><td>0.5909090909090909</td></tr><tr><td>3</td><td>4.633</td><td>20.398</td><td>0.6363636363636364</td></tr><tr><td>3</td><td>4.869</td><td>21.379</td><td>0.6818181818181818</td></tr><tr><td>3</td><td>5.635</td><td>26.882</td><td>0.7272727272727273</td></tr><tr><td>3</td><td>6.063</td><td>29.889</td><td>0.7727272727272727</td></tr><tr><td>3</td><td>6.173</td><td>30.862</td><td>0.8181818181818182</td></tr><tr><td>3</td><td>6.198</td><td>31.236</td><td>0.8636363636363636</td></tr><tr><td>3</td><td>6.335</td><td>32.357</td><td>0.9090909090909091</td></tr><tr><td>3</td><td>7.353</td><td>42.036</td><td>0.9545454545454546</td></tr><tr><td>3</td><td>7.543</td><td>43.978</td><td>1.0</td></tr><tr><td>4</td><td>0.14</td><td>7.336</td><td>0.047619047619047616</td></tr><tr><td>4</td><td>0.096</td><td>7.734</td><td>0.09523809523809523</td></tr><tr><td>4</td><td>0.771</td><td>7.892</td><td>0.14285714285714285</td></tr><tr><td>4</td><td>1.299</td><td>8.837</td><td>0.19047619047619047</td></tr><tr><td>4</td><td>1.395</td><td>8.92</td><td>0.23809523809523808</td></tr><tr><td>4</td><td>1.954</td><td>9.742</td><td>0.2857142857142857</td></tr><tr><td>4</td><td>2.438</td><td>10.844</td><td>0.3333333333333333</td></tr><tr><td>4</td><td>2.966</td><td>13.119</td><td>0.38095238095238093</td></tr><tr><td>4</td><td>3.133</td><td>13.811</td><td>0.42857142857142855</td></tr><tr><td>4</td><td>3.635</td><td>16.517</td><td>0.47619047619047616</td></tr><tr><td>4</td><td>3.736</td><td>16.606</td><td>0.5238095238095238</td></tr><tr><td>4</td><td>3.797</td><td>16.703</td><td>0.5714285714285714</td></tr><tr><td>4</td><td>4.26</td><td>19.466</td><td>0.6190476190476191</td></tr><tr><td>4</td><td>4.41</td><td>20.348</td><td>0.6666666666666666</td></tr><tr><td>4</td><td>4.733</td><td>22.073</td><td>0.7142857142857143</td></tr><tr><td>4</td><td>4.779</td><td>22.701</td><td>0.7619047619047619</td></tr><tr><td>4</td><td>5.027</td><td>23.916</td><td>0.8095238095238095</td></tr><tr><td>4</td><td>5.473</td><td>27.569</td><td>0.8571428571428571</td></tr><tr><td>4</td><td>6.954</td><td>39.952</td><td>0.9047619047619048</td></tr><tr><td>4</td><td>7.163</td><td>41.444</td><td>0.9523809523809523</td></tr><tr><td>4</td><td>7.41</td><td>44.099</td><td>1.0</td></tr><tr><td>5</td><td>0.156</td><td>9.333</td><td>0.1</td></tr><tr><td>5</td><td>1.557</td><td>10.429</td><td>0.2</td></tr><tr><td>5</td><td>1.803</td><td>11.253</td><td>0.3</td></tr><tr><td>5</td><td>2.051</td><td>12.209</td><td>0.4</td></tr><tr><td>5</td><td>2.518</td><td>13.416</td><td>0.5</td></tr><tr><td>5</td><td>3.197</td><td>16.106</td><td>0.6</td></tr><tr><td>5</td><td>3.413</td><td>17.264</td><td>0.7</td></tr><tr><td>5</td><td>3.913</td><td>19.106</td><td>0.8</td></tr><tr><td>5</td><td>5.719</td><td>30.548</td><td>0.9</td></tr><tr><td>5</td><td>6.379</td><td>36.746</td><td>1.0</td></tr><tr><td>6</td><td>0.376</td><td>10.522</td><td>0.0625</td></tr><tr><td>6</td><td>2.142</td><td>13.562</td><td>0.125</td></tr><tr><td>6</td><td>2.754</td><td>15.725</td><td>0.1875</td></tr><tr><td>6</td><td>3.211</td><td>17.822</td><td>0.25</td></tr><tr><td>6</td><td>3.561</td><td>19.128</td><td>0.3125</td></tr><tr><td>6</td><td>3.606</td><td>19.59</td><td>0.375</td></tr><tr><td>6</td><td>3.591</td><td>19.771</td><td>0.4375</td></tr><tr><td>6</td><td>3.948</td><td>21.4</td><td>0.5</td></tr><tr><td>6</td><td>4.13</td><td>22.184</td><td>0.5625</td></tr><tr><td>6</td><td>6.126</td><td>35.939</td><td>0.625</td></tr><tr><td>6</td><td>6.594</td><td>39.965</td><td>0.6875</td></tr><tr><td>6</td><td>6.703</td><td>40.602</td><td>0.75</td></tr><tr><td>6</td><td>7.283</td><td>46.453</td><td>0.8125</td></tr><tr><td>6</td><td>7.711</td><td>50.986</td><td>0.875</td></tr><tr><td>6</td><td>7.775</td><td>51.142</td><td>0.9375</td></tr><tr><td>6</td><td>7.909</td><td>53.018</td><td>1.0</td></tr><tr><td>7</td><td>0.309</td><td>12.027</td><td>0.06666666666666667</td></tr><tr><td>7</td><td>0.423</td><td>12.132</td><td>0.13333333333333333</td></tr><tr><td>7</td><td>0.13</td><td>12.591</td><td>0.2</td></tr><tr><td>7</td><td>0.508</td><td>12.647</td><td>0.26666666666666666</td></tr><tr><td>7</td><td>2.913</td><td>18.238</td><td>0.3333333333333333</td></tr><tr><td>7</td><td>4.067</td><td>23.149</td><td>0.4</td></tr><tr><td>7</td><td>4.218</td><td>24.318</td><td>0.4666666666666667</td></tr><tr><td>7</td><td>4.182</td><td>24.394</td><td>0.5333333333333333</td></tr><tr><td>7</td><td>4.875</td><td>28.043</td><td>0.6</td></tr><tr><td>7</td><td>6.049</td><td>36.653</td><td>0.6666666666666666</td></tr><tr><td>7</td><td>6.376</td><td>40.024</td><td>0.7333333333333333</td></tr><tr><td>7</td><td>6.533</td><td>41.358</td><td>0.8</td></tr><tr><td>7</td><td>7.451</td><td>49.544</td><td>0.8666666666666667</td></tr><tr><td>7</td><td>7.649</td><td>51.583</td><td>0.9333333333333333</td></tr><tr><td>7</td><td>7.957</td><td>54.321</td><td>1.0</td></tr><tr><td>8</td><td>0.932</td><td>15.038</td><td>0.0625</td></tr><tr><td>8</td><td>1.982</td><td>16.461</td><td>0.125</td></tr><tr><td>8</td><td>2.262</td><td>17.705</td><td>0.1875</td></tr><tr><td>8</td><td>2.73</td><td>19.564</td><td>0.25</td></tr><tr><td>8</td><td>3.864</td><td>24.172</td><td>0.3125</td></tr><tr><td>8</td><td>3.919</td><td>24.451</td><td>0.375</td></tr><tr><td>8</td><td>3.977</td><td>25.133</td><td>0.4375</td></tr><tr><td>8</td><td>4.378</td><td>26.532</td><td>0.5</td></tr><tr><td>8</td><td>5.985</td><td>38.278</td><td>0.5625</td></tr><tr><td>8</td><td>6.08</td><td>38.49</td><td>0.625</td></tr><tr><td>8</td><td>6.201</td><td>39.957</td><td>0.6875</td></tr><tr><td>8</td><td>6.471</td><td>42.426</td><td>0.75</td></tr><tr><td>8</td><td>7.468</td><td>51.343</td><td>0.8125</td></tr><tr><td>8</td><td>7.591</td><td>53.158</td><td>0.875</td></tr><tr><td>8</td><td>7.641</td><td>53.359</td><td>0.9375</td></tr><tr><td>8</td><td>7.811</td><td>55.299</td><td>1.0</td></tr></tbody></table></div>"
      ]
     },
     "metadata": {
      "application/vnd.databricks.v1+output": {
       "addedWidgets": {},
       "aggData": [],
       "aggError": "",
       "aggOverflow": false,
       "aggSchema": [],
       "aggSeriesLimitReached": false,
       "aggType": "",
       "arguments": {},
       "columnCustomDisplayInfos": {},
       "data": [
        [
         3,
         0.301,
         5.609,
         0.045454545454545456
        ],
        [
         3,
         1.033,
         6.053,
         0.09090909090909091
        ],
        [
         3,
         0.55,
         6.185,
         0.13636363636363635
        ],
        [
         3,
         0.803,
         6.217,
         0.18181818181818182
        ],
        [
         3,
         0.805,
         6.349,
         0.22727272727272727
        ],
        [
         3,
         1.407,
         6.623,
         0.2727272727272727
        ],
        [
         3,
         1.629,
         7.014,
         0.3181818181818182
        ],
        [
         3,
         1.923,
         8.1,
         0.36363636363636365
        ],
        [
         3,
         2.061,
         8.924,
         0.4090909090909091
        ],
        [
         3,
         2.908,
         11.397,
         0.45454545454545453
        ],
        [
         3,
         4.083,
         17.171,
         0.5
        ],
        [
         3,
         4.274,
         17.672,
         0.5454545454545454
        ],
        [
         3,
         4.508,
         19.202,
         0.5909090909090909
        ],
        [
         3,
         4.633,
         20.398,
         0.6363636363636364
        ],
        [
         3,
         4.869,
         21.379,
         0.6818181818181818
        ],
        [
         3,
         5.635,
         26.882,
         0.7272727272727273
        ],
        [
         3,
         6.063,
         29.889,
         0.7727272727272727
        ],
        [
         3,
         6.173,
         30.862,
         0.8181818181818182
        ],
        [
         3,
         6.198,
         31.236,
         0.8636363636363636
        ],
        [
         3,
         6.335,
         32.357,
         0.9090909090909091
        ],
        [
         3,
         7.353,
         42.036,
         0.9545454545454546
        ],
        [
         3,
         7.543,
         43.978,
         1.0
        ],
        [
         4,
         0.14,
         7.336,
         0.047619047619047616
        ],
        [
         4,
         0.096,
         7.734,
         0.09523809523809523
        ],
        [
         4,
         0.771,
         7.892,
         0.14285714285714285
        ],
        [
         4,
         1.299,
         8.837,
         0.19047619047619047
        ],
        [
         4,
         1.395,
         8.92,
         0.23809523809523808
        ],
        [
         4,
         1.954,
         9.742,
         0.2857142857142857
        ],
        [
         4,
         2.438,
         10.844,
         0.3333333333333333
        ],
        [
         4,
         2.966,
         13.119,
         0.38095238095238093
        ],
        [
         4,
         3.133,
         13.811,
         0.42857142857142855
        ],
        [
         4,
         3.635,
         16.517,
         0.47619047619047616
        ],
        [
         4,
         3.736,
         16.606,
         0.5238095238095238
        ],
        [
         4,
         3.797,
         16.703,
         0.5714285714285714
        ],
        [
         4,
         4.26,
         19.466,
         0.6190476190476191
        ],
        [
         4,
         4.41,
         20.348,
         0.6666666666666666
        ],
        [
         4,
         4.733,
         22.073,
         0.7142857142857143
        ],
        [
         4,
         4.779,
         22.701,
         0.7619047619047619
        ],
        [
         4,
         5.027,
         23.916,
         0.8095238095238095
        ],
        [
         4,
         5.473,
         27.569,
         0.8571428571428571
        ],
        [
         4,
         6.954,
         39.952,
         0.9047619047619048
        ],
        [
         4,
         7.163,
         41.444,
         0.9523809523809523
        ],
        [
         4,
         7.41,
         44.099,
         1.0
        ],
        [
         5,
         0.156,
         9.333,
         0.1
        ],
        [
         5,
         1.557,
         10.429,
         0.2
        ],
        [
         5,
         1.803,
         11.253,
         0.3
        ],
        [
         5,
         2.051,
         12.209,
         0.4
        ],
        [
         5,
         2.518,
         13.416,
         0.5
        ],
        [
         5,
         3.197,
         16.106,
         0.6
        ],
        [
         5,
         3.413,
         17.264,
         0.7
        ],
        [
         5,
         3.913,
         19.106,
         0.8
        ],
        [
         5,
         5.719,
         30.548,
         0.9
        ],
        [
         5,
         6.379,
         36.746,
         1.0
        ],
        [
         6,
         0.376,
         10.522,
         0.0625
        ],
        [
         6,
         2.142,
         13.562,
         0.125
        ],
        [
         6,
         2.754,
         15.725,
         0.1875
        ],
        [
         6,
         3.211,
         17.822,
         0.25
        ],
        [
         6,
         3.561,
         19.128,
         0.3125
        ],
        [
         6,
         3.606,
         19.59,
         0.375
        ],
        [
         6,
         3.591,
         19.771,
         0.4375
        ],
        [
         6,
         3.948,
         21.4,
         0.5
        ],
        [
         6,
         4.13,
         22.184,
         0.5625
        ],
        [
         6,
         6.126,
         35.939,
         0.625
        ],
        [
         6,
         6.594,
         39.965,
         0.6875
        ],
        [
         6,
         6.703,
         40.602,
         0.75
        ],
        [
         6,
         7.283,
         46.453,
         0.8125
        ],
        [
         6,
         7.711,
         50.986,
         0.875
        ],
        [
         6,
         7.775,
         51.142,
         0.9375
        ],
        [
         6,
         7.909,
         53.018,
         1.0
        ],
        [
         7,
         0.309,
         12.027,
         0.06666666666666667
        ],
        [
         7,
         0.423,
         12.132,
         0.13333333333333333
        ],
        [
         7,
         0.13,
         12.591,
         0.2
        ],
        [
         7,
         0.508,
         12.647,
         0.26666666666666666
        ],
        [
         7,
         2.913,
         18.238,
         0.3333333333333333
        ],
        [
         7,
         4.067,
         23.149,
         0.4
        ],
        [
         7,
         4.218,
         24.318,
         0.4666666666666667
        ],
        [
         7,
         4.182,
         24.394,
         0.5333333333333333
        ],
        [
         7,
         4.875,
         28.043,
         0.6
        ],
        [
         7,
         6.049,
         36.653,
         0.6666666666666666
        ],
        [
         7,
         6.376,
         40.024,
         0.7333333333333333
        ],
        [
         7,
         6.533,
         41.358,
         0.8
        ],
        [
         7,
         7.451,
         49.544,
         0.8666666666666667
        ],
        [
         7,
         7.649,
         51.583,
         0.9333333333333333
        ],
        [
         7,
         7.957,
         54.321,
         1.0
        ],
        [
         8,
         0.932,
         15.038,
         0.0625
        ],
        [
         8,
         1.982,
         16.461,
         0.125
        ],
        [
         8,
         2.262,
         17.705,
         0.1875
        ],
        [
         8,
         2.73,
         19.564,
         0.25
        ],
        [
         8,
         3.864,
         24.172,
         0.3125
        ],
        [
         8,
         3.919,
         24.451,
         0.375
        ],
        [
         8,
         3.977,
         25.133,
         0.4375
        ],
        [
         8,
         4.378,
         26.532,
         0.5
        ],
        [
         8,
         5.985,
         38.278,
         0.5625
        ],
        [
         8,
         6.08,
         38.49,
         0.625
        ],
        [
         8,
         6.201,
         39.957,
         0.6875
        ],
        [
         8,
         6.471,
         42.426,
         0.75
        ],
        [
         8,
         7.468,
         51.343,
         0.8125
        ],
        [
         8,
         7.591,
         53.158,
         0.875
        ],
        [
         8,
         7.641,
         53.359,
         0.9375
        ],
        [
         8,
         7.811,
         55.299,
         1.0
        ]
       ],
       "datasetInfos": [],
       "dbfsResultPath": null,
       "isJsonSchema": true,
       "metadata": {},
       "overflow": false,
       "plotOptions": {
        "customPlotOptions": {},
        "displayType": "table",
        "pivotAggregation": null,
        "pivotColumns": null,
        "xColumns": null,
        "yColumns": null
       },
       "removedWidgets": [],
       "schema": [
        {
         "metadata": "{}",
         "name": "number_courses",
         "type": "\"integer\""
        },
        {
         "metadata": "{}",
         "name": "time_study",
         "type": "\"double\""
        },
        {
         "metadata": "{}",
         "name": "Marks",
         "type": "\"double\""
        },
        {
         "metadata": "{}",
         "name": "cume_dist",
         "type": "\"double\""
        }
       ],
       "type": "table"
      }
     },
     "output_type": "display_data"
    }
   ],
   "source": [
    "df06=df.withColumn('cume_dist',cume_dist().over(windowfun))\n",
    "display(df06)"
   ]
  },
  {
   "cell_type": "code",
   "execution_count": 0,
   "metadata": {
    "application/vnd.databricks.v1+cell": {
     "cellMetadata": {
      "byteLimit": 2048000,
      "rowLimit": 10000
     },
     "inputWidgets": {},
     "nuid": "75dd01f1-d75b-4ee7-8865-e96d1f30fa3f",
     "showTitle": false,
     "title": ""
    }
   },
   "outputs": [
    {
     "output_type": "display_data",
     "data": {
      "text/html": [
       "<style scoped>\n",
       "  .table-result-container {\n",
       "    max-height: 300px;\n",
       "    overflow: auto;\n",
       "  }\n",
       "  table, th, td {\n",
       "    border: 1px solid black;\n",
       "    border-collapse: collapse;\n",
       "  }\n",
       "  th, td {\n",
       "    padding: 5px;\n",
       "  }\n",
       "  th {\n",
       "    text-align: left;\n",
       "  }\n",
       "</style><div class='table-result-container'><table class='table-result'><thead style='background-color: white'><tr><th>number_courses</th><th>time_study</th><th>Marks</th><th>lag</th></tr></thead><tbody><tr><td>3</td><td>0.301</td><td>5.609</td><td>null</td></tr><tr><td>3</td><td>1.033</td><td>6.053</td><td>null</td></tr><tr><td>3</td><td>0.55</td><td>6.185</td><td>null</td></tr><tr><td>3</td><td>0.803</td><td>6.217</td><td>5.609</td></tr><tr><td>3</td><td>0.805</td><td>6.349</td><td>6.053</td></tr><tr><td>3</td><td>1.407</td><td>6.623</td><td>6.185</td></tr><tr><td>3</td><td>1.629</td><td>7.014</td><td>6.217</td></tr><tr><td>3</td><td>1.923</td><td>8.1</td><td>6.349</td></tr><tr><td>3</td><td>2.061</td><td>8.924</td><td>6.623</td></tr><tr><td>3</td><td>2.908</td><td>11.397</td><td>7.014</td></tr><tr><td>3</td><td>4.083</td><td>17.171</td><td>8.1</td></tr><tr><td>3</td><td>4.274</td><td>17.672</td><td>8.924</td></tr><tr><td>3</td><td>4.508</td><td>19.202</td><td>11.397</td></tr><tr><td>3</td><td>4.633</td><td>20.398</td><td>17.171</td></tr><tr><td>3</td><td>4.869</td><td>21.379</td><td>17.672</td></tr><tr><td>3</td><td>5.635</td><td>26.882</td><td>19.202</td></tr><tr><td>3</td><td>6.063</td><td>29.889</td><td>20.398</td></tr><tr><td>3</td><td>6.173</td><td>30.862</td><td>21.379</td></tr><tr><td>3</td><td>6.198</td><td>31.236</td><td>26.882</td></tr><tr><td>3</td><td>6.335</td><td>32.357</td><td>29.889</td></tr><tr><td>3</td><td>7.353</td><td>42.036</td><td>30.862</td></tr><tr><td>3</td><td>7.543</td><td>43.978</td><td>31.236</td></tr><tr><td>4</td><td>0.14</td><td>7.336</td><td>null</td></tr><tr><td>4</td><td>0.096</td><td>7.734</td><td>null</td></tr><tr><td>4</td><td>0.771</td><td>7.892</td><td>null</td></tr><tr><td>4</td><td>1.299</td><td>8.837</td><td>7.336</td></tr><tr><td>4</td><td>1.395</td><td>8.92</td><td>7.734</td></tr><tr><td>4</td><td>1.954</td><td>9.742</td><td>7.892</td></tr><tr><td>4</td><td>2.438</td><td>10.844</td><td>8.837</td></tr><tr><td>4</td><td>2.966</td><td>13.119</td><td>8.92</td></tr><tr><td>4</td><td>3.133</td><td>13.811</td><td>9.742</td></tr><tr><td>4</td><td>3.635</td><td>16.517</td><td>10.844</td></tr><tr><td>4</td><td>3.736</td><td>16.606</td><td>13.119</td></tr><tr><td>4</td><td>3.797</td><td>16.703</td><td>13.811</td></tr><tr><td>4</td><td>4.26</td><td>19.466</td><td>16.517</td></tr><tr><td>4</td><td>4.41</td><td>20.348</td><td>16.606</td></tr><tr><td>4</td><td>4.733</td><td>22.073</td><td>16.703</td></tr><tr><td>4</td><td>4.779</td><td>22.701</td><td>19.466</td></tr><tr><td>4</td><td>5.027</td><td>23.916</td><td>20.348</td></tr><tr><td>4</td><td>5.473</td><td>27.569</td><td>22.073</td></tr><tr><td>4</td><td>6.954</td><td>39.952</td><td>22.701</td></tr><tr><td>4</td><td>7.163</td><td>41.444</td><td>23.916</td></tr><tr><td>4</td><td>7.41</td><td>44.099</td><td>27.569</td></tr><tr><td>5</td><td>0.156</td><td>9.333</td><td>null</td></tr><tr><td>5</td><td>1.557</td><td>10.429</td><td>null</td></tr><tr><td>5</td><td>1.803</td><td>11.253</td><td>null</td></tr><tr><td>5</td><td>2.051</td><td>12.209</td><td>9.333</td></tr><tr><td>5</td><td>2.518</td><td>13.416</td><td>10.429</td></tr><tr><td>5</td><td>3.197</td><td>16.106</td><td>11.253</td></tr><tr><td>5</td><td>3.413</td><td>17.264</td><td>12.209</td></tr><tr><td>5</td><td>3.913</td><td>19.106</td><td>13.416</td></tr><tr><td>5</td><td>5.719</td><td>30.548</td><td>16.106</td></tr><tr><td>5</td><td>6.379</td><td>36.746</td><td>17.264</td></tr><tr><td>6</td><td>0.376</td><td>10.522</td><td>null</td></tr><tr><td>6</td><td>2.142</td><td>13.562</td><td>null</td></tr><tr><td>6</td><td>2.754</td><td>15.725</td><td>null</td></tr><tr><td>6</td><td>3.211</td><td>17.822</td><td>10.522</td></tr><tr><td>6</td><td>3.561</td><td>19.128</td><td>13.562</td></tr><tr><td>6</td><td>3.606</td><td>19.59</td><td>15.725</td></tr><tr><td>6</td><td>3.591</td><td>19.771</td><td>17.822</td></tr><tr><td>6</td><td>3.948</td><td>21.4</td><td>19.128</td></tr><tr><td>6</td><td>4.13</td><td>22.184</td><td>19.59</td></tr><tr><td>6</td><td>6.126</td><td>35.939</td><td>19.771</td></tr><tr><td>6</td><td>6.594</td><td>39.965</td><td>21.4</td></tr><tr><td>6</td><td>6.703</td><td>40.602</td><td>22.184</td></tr><tr><td>6</td><td>7.283</td><td>46.453</td><td>35.939</td></tr><tr><td>6</td><td>7.711</td><td>50.986</td><td>39.965</td></tr><tr><td>6</td><td>7.775</td><td>51.142</td><td>40.602</td></tr><tr><td>6</td><td>7.909</td><td>53.018</td><td>46.453</td></tr><tr><td>7</td><td>0.309</td><td>12.027</td><td>null</td></tr><tr><td>7</td><td>0.423</td><td>12.132</td><td>null</td></tr><tr><td>7</td><td>0.13</td><td>12.591</td><td>null</td></tr><tr><td>7</td><td>0.508</td><td>12.647</td><td>12.027</td></tr><tr><td>7</td><td>2.913</td><td>18.238</td><td>12.132</td></tr><tr><td>7</td><td>4.067</td><td>23.149</td><td>12.591</td></tr><tr><td>7</td><td>4.218</td><td>24.318</td><td>12.647</td></tr><tr><td>7</td><td>4.182</td><td>24.394</td><td>18.238</td></tr><tr><td>7</td><td>4.875</td><td>28.043</td><td>23.149</td></tr><tr><td>7</td><td>6.049</td><td>36.653</td><td>24.318</td></tr><tr><td>7</td><td>6.376</td><td>40.024</td><td>24.394</td></tr><tr><td>7</td><td>6.533</td><td>41.358</td><td>28.043</td></tr><tr><td>7</td><td>7.451</td><td>49.544</td><td>36.653</td></tr><tr><td>7</td><td>7.649</td><td>51.583</td><td>40.024</td></tr><tr><td>7</td><td>7.957</td><td>54.321</td><td>41.358</td></tr><tr><td>8</td><td>0.932</td><td>15.038</td><td>null</td></tr><tr><td>8</td><td>1.982</td><td>16.461</td><td>null</td></tr><tr><td>8</td><td>2.262</td><td>17.705</td><td>null</td></tr><tr><td>8</td><td>2.73</td><td>19.564</td><td>15.038</td></tr><tr><td>8</td><td>3.864</td><td>24.172</td><td>16.461</td></tr><tr><td>8</td><td>3.919</td><td>24.451</td><td>17.705</td></tr><tr><td>8</td><td>3.977</td><td>25.133</td><td>19.564</td></tr><tr><td>8</td><td>4.378</td><td>26.532</td><td>24.172</td></tr><tr><td>8</td><td>5.985</td><td>38.278</td><td>24.451</td></tr><tr><td>8</td><td>6.08</td><td>38.49</td><td>25.133</td></tr><tr><td>8</td><td>6.201</td><td>39.957</td><td>26.532</td></tr><tr><td>8</td><td>6.471</td><td>42.426</td><td>38.278</td></tr><tr><td>8</td><td>7.468</td><td>51.343</td><td>38.49</td></tr><tr><td>8</td><td>7.591</td><td>53.158</td><td>39.957</td></tr><tr><td>8</td><td>7.641</td><td>53.359</td><td>42.426</td></tr><tr><td>8</td><td>7.811</td><td>55.299</td><td>51.343</td></tr></tbody></table></div>"
      ]
     },
     "metadata": {
      "application/vnd.databricks.v1+output": {
       "addedWidgets": {},
       "aggData": [],
       "aggError": "",
       "aggOverflow": false,
       "aggSchema": [],
       "aggSeriesLimitReached": false,
       "aggType": "",
       "arguments": {},
       "columnCustomDisplayInfos": {},
       "data": [
        [
         3,
         0.301,
         5.609,
         null
        ],
        [
         3,
         1.033,
         6.053,
         null
        ],
        [
         3,
         0.55,
         6.185,
         null
        ],
        [
         3,
         0.803,
         6.217,
         5.609
        ],
        [
         3,
         0.805,
         6.349,
         6.053
        ],
        [
         3,
         1.407,
         6.623,
         6.185
        ],
        [
         3,
         1.629,
         7.014,
         6.217
        ],
        [
         3,
         1.923,
         8.1,
         6.349
        ],
        [
         3,
         2.061,
         8.924,
         6.623
        ],
        [
         3,
         2.908,
         11.397,
         7.014
        ],
        [
         3,
         4.083,
         17.171,
         8.1
        ],
        [
         3,
         4.274,
         17.672,
         8.924
        ],
        [
         3,
         4.508,
         19.202,
         11.397
        ],
        [
         3,
         4.633,
         20.398,
         17.171
        ],
        [
         3,
         4.869,
         21.379,
         17.672
        ],
        [
         3,
         5.635,
         26.882,
         19.202
        ],
        [
         3,
         6.063,
         29.889,
         20.398
        ],
        [
         3,
         6.173,
         30.862,
         21.379
        ],
        [
         3,
         6.198,
         31.236,
         26.882
        ],
        [
         3,
         6.335,
         32.357,
         29.889
        ],
        [
         3,
         7.353,
         42.036,
         30.862
        ],
        [
         3,
         7.543,
         43.978,
         31.236
        ],
        [
         4,
         0.14,
         7.336,
         null
        ],
        [
         4,
         0.096,
         7.734,
         null
        ],
        [
         4,
         0.771,
         7.892,
         null
        ],
        [
         4,
         1.299,
         8.837,
         7.336
        ],
        [
         4,
         1.395,
         8.92,
         7.734
        ],
        [
         4,
         1.954,
         9.742,
         7.892
        ],
        [
         4,
         2.438,
         10.844,
         8.837
        ],
        [
         4,
         2.966,
         13.119,
         8.92
        ],
        [
         4,
         3.133,
         13.811,
         9.742
        ],
        [
         4,
         3.635,
         16.517,
         10.844
        ],
        [
         4,
         3.736,
         16.606,
         13.119
        ],
        [
         4,
         3.797,
         16.703,
         13.811
        ],
        [
         4,
         4.26,
         19.466,
         16.517
        ],
        [
         4,
         4.41,
         20.348,
         16.606
        ],
        [
         4,
         4.733,
         22.073,
         16.703
        ],
        [
         4,
         4.779,
         22.701,
         19.466
        ],
        [
         4,
         5.027,
         23.916,
         20.348
        ],
        [
         4,
         5.473,
         27.569,
         22.073
        ],
        [
         4,
         6.954,
         39.952,
         22.701
        ],
        [
         4,
         7.163,
         41.444,
         23.916
        ],
        [
         4,
         7.41,
         44.099,
         27.569
        ],
        [
         5,
         0.156,
         9.333,
         null
        ],
        [
         5,
         1.557,
         10.429,
         null
        ],
        [
         5,
         1.803,
         11.253,
         null
        ],
        [
         5,
         2.051,
         12.209,
         9.333
        ],
        [
         5,
         2.518,
         13.416,
         10.429
        ],
        [
         5,
         3.197,
         16.106,
         11.253
        ],
        [
         5,
         3.413,
         17.264,
         12.209
        ],
        [
         5,
         3.913,
         19.106,
         13.416
        ],
        [
         5,
         5.719,
         30.548,
         16.106
        ],
        [
         5,
         6.379,
         36.746,
         17.264
        ],
        [
         6,
         0.376,
         10.522,
         null
        ],
        [
         6,
         2.142,
         13.562,
         null
        ],
        [
         6,
         2.754,
         15.725,
         null
        ],
        [
         6,
         3.211,
         17.822,
         10.522
        ],
        [
         6,
         3.561,
         19.128,
         13.562
        ],
        [
         6,
         3.606,
         19.59,
         15.725
        ],
        [
         6,
         3.591,
         19.771,
         17.822
        ],
        [
         6,
         3.948,
         21.4,
         19.128
        ],
        [
         6,
         4.13,
         22.184,
         19.59
        ],
        [
         6,
         6.126,
         35.939,
         19.771
        ],
        [
         6,
         6.594,
         39.965,
         21.4
        ],
        [
         6,
         6.703,
         40.602,
         22.184
        ],
        [
         6,
         7.283,
         46.453,
         35.939
        ],
        [
         6,
         7.711,
         50.986,
         39.965
        ],
        [
         6,
         7.775,
         51.142,
         40.602
        ],
        [
         6,
         7.909,
         53.018,
         46.453
        ],
        [
         7,
         0.309,
         12.027,
         null
        ],
        [
         7,
         0.423,
         12.132,
         null
        ],
        [
         7,
         0.13,
         12.591,
         null
        ],
        [
         7,
         0.508,
         12.647,
         12.027
        ],
        [
         7,
         2.913,
         18.238,
         12.132
        ],
        [
         7,
         4.067,
         23.149,
         12.591
        ],
        [
         7,
         4.218,
         24.318,
         12.647
        ],
        [
         7,
         4.182,
         24.394,
         18.238
        ],
        [
         7,
         4.875,
         28.043,
         23.149
        ],
        [
         7,
         6.049,
         36.653,
         24.318
        ],
        [
         7,
         6.376,
         40.024,
         24.394
        ],
        [
         7,
         6.533,
         41.358,
         28.043
        ],
        [
         7,
         7.451,
         49.544,
         36.653
        ],
        [
         7,
         7.649,
         51.583,
         40.024
        ],
        [
         7,
         7.957,
         54.321,
         41.358
        ],
        [
         8,
         0.932,
         15.038,
         null
        ],
        [
         8,
         1.982,
         16.461,
         null
        ],
        [
         8,
         2.262,
         17.705,
         null
        ],
        [
         8,
         2.73,
         19.564,
         15.038
        ],
        [
         8,
         3.864,
         24.172,
         16.461
        ],
        [
         8,
         3.919,
         24.451,
         17.705
        ],
        [
         8,
         3.977,
         25.133,
         19.564
        ],
        [
         8,
         4.378,
         26.532,
         24.172
        ],
        [
         8,
         5.985,
         38.278,
         24.451
        ],
        [
         8,
         6.08,
         38.49,
         25.133
        ],
        [
         8,
         6.201,
         39.957,
         26.532
        ],
        [
         8,
         6.471,
         42.426,
         38.278
        ],
        [
         8,
         7.468,
         51.343,
         38.49
        ],
        [
         8,
         7.591,
         53.158,
         39.957
        ],
        [
         8,
         7.641,
         53.359,
         42.426
        ],
        [
         8,
         7.811,
         55.299,
         51.343
        ]
       ],
       "datasetInfos": [],
       "dbfsResultPath": null,
       "isJsonSchema": true,
       "metadata": {},
       "overflow": false,
       "plotOptions": {
        "customPlotOptions": {},
        "displayType": "table",
        "pivotAggregation": null,
        "pivotColumns": null,
        "xColumns": null,
        "yColumns": null
       },
       "removedWidgets": [],
       "schema": [
        {
         "metadata": "{}",
         "name": "number_courses",
         "type": "\"integer\""
        },
        {
         "metadata": "{}",
         "name": "time_study",
         "type": "\"double\""
        },
        {
         "metadata": "{}",
         "name": "Marks",
         "type": "\"double\""
        },
        {
         "metadata": "{}",
         "name": "lag",
         "type": "\"double\""
        }
       ],
       "type": "table"
      }
     },
     "output_type": "display_data"
    }
   ],
   "source": [
    "df07=df.withColumn('lag',lag('Marks',3).over(windowfun))\n",
    "display(df07)"
   ]
  },
  {
   "cell_type": "code",
   "execution_count": 0,
   "metadata": {
    "application/vnd.databricks.v1+cell": {
     "cellMetadata": {
      "byteLimit": 2048000,
      "rowLimit": 10000
     },
     "inputWidgets": {},
     "nuid": "1a31962a-9877-42ac-b831-5eaabbb06d68",
     "showTitle": false,
     "title": ""
    }
   },
   "outputs": [
    {
     "output_type": "display_data",
     "data": {
      "text/html": [
       "<style scoped>\n",
       "  .table-result-container {\n",
       "    max-height: 300px;\n",
       "    overflow: auto;\n",
       "  }\n",
       "  table, th, td {\n",
       "    border: 1px solid black;\n",
       "    border-collapse: collapse;\n",
       "  }\n",
       "  th, td {\n",
       "    padding: 5px;\n",
       "  }\n",
       "  th {\n",
       "    text-align: left;\n",
       "  }\n",
       "</style><div class='table-result-container'><table class='table-result'><thead style='background-color: white'><tr><th>number_courses</th><th>time_study</th><th>Marks</th><th>lead</th></tr></thead><tbody><tr><td>3</td><td>0.301</td><td>5.609</td><td>6.217</td></tr><tr><td>3</td><td>1.033</td><td>6.053</td><td>6.349</td></tr><tr><td>3</td><td>0.55</td><td>6.185</td><td>6.623</td></tr><tr><td>3</td><td>0.803</td><td>6.217</td><td>7.014</td></tr><tr><td>3</td><td>0.805</td><td>6.349</td><td>8.1</td></tr><tr><td>3</td><td>1.407</td><td>6.623</td><td>8.924</td></tr><tr><td>3</td><td>1.629</td><td>7.014</td><td>11.397</td></tr><tr><td>3</td><td>1.923</td><td>8.1</td><td>17.171</td></tr><tr><td>3</td><td>2.061</td><td>8.924</td><td>17.672</td></tr><tr><td>3</td><td>2.908</td><td>11.397</td><td>19.202</td></tr><tr><td>3</td><td>4.083</td><td>17.171</td><td>20.398</td></tr><tr><td>3</td><td>4.274</td><td>17.672</td><td>21.379</td></tr><tr><td>3</td><td>4.508</td><td>19.202</td><td>26.882</td></tr><tr><td>3</td><td>4.633</td><td>20.398</td><td>29.889</td></tr><tr><td>3</td><td>4.869</td><td>21.379</td><td>30.862</td></tr><tr><td>3</td><td>5.635</td><td>26.882</td><td>31.236</td></tr><tr><td>3</td><td>6.063</td><td>29.889</td><td>32.357</td></tr><tr><td>3</td><td>6.173</td><td>30.862</td><td>42.036</td></tr><tr><td>3</td><td>6.198</td><td>31.236</td><td>43.978</td></tr><tr><td>3</td><td>6.335</td><td>32.357</td><td>null</td></tr><tr><td>3</td><td>7.353</td><td>42.036</td><td>null</td></tr><tr><td>3</td><td>7.543</td><td>43.978</td><td>null</td></tr><tr><td>4</td><td>0.14</td><td>7.336</td><td>8.837</td></tr><tr><td>4</td><td>0.096</td><td>7.734</td><td>8.92</td></tr><tr><td>4</td><td>0.771</td><td>7.892</td><td>9.742</td></tr><tr><td>4</td><td>1.299</td><td>8.837</td><td>10.844</td></tr><tr><td>4</td><td>1.395</td><td>8.92</td><td>13.119</td></tr><tr><td>4</td><td>1.954</td><td>9.742</td><td>13.811</td></tr><tr><td>4</td><td>2.438</td><td>10.844</td><td>16.517</td></tr><tr><td>4</td><td>2.966</td><td>13.119</td><td>16.606</td></tr><tr><td>4</td><td>3.133</td><td>13.811</td><td>16.703</td></tr><tr><td>4</td><td>3.635</td><td>16.517</td><td>19.466</td></tr><tr><td>4</td><td>3.736</td><td>16.606</td><td>20.348</td></tr><tr><td>4</td><td>3.797</td><td>16.703</td><td>22.073</td></tr><tr><td>4</td><td>4.26</td><td>19.466</td><td>22.701</td></tr><tr><td>4</td><td>4.41</td><td>20.348</td><td>23.916</td></tr><tr><td>4</td><td>4.733</td><td>22.073</td><td>27.569</td></tr><tr><td>4</td><td>4.779</td><td>22.701</td><td>39.952</td></tr><tr><td>4</td><td>5.027</td><td>23.916</td><td>41.444</td></tr><tr><td>4</td><td>5.473</td><td>27.569</td><td>44.099</td></tr><tr><td>4</td><td>6.954</td><td>39.952</td><td>null</td></tr><tr><td>4</td><td>7.163</td><td>41.444</td><td>null</td></tr><tr><td>4</td><td>7.41</td><td>44.099</td><td>null</td></tr><tr><td>5</td><td>0.156</td><td>9.333</td><td>12.209</td></tr><tr><td>5</td><td>1.557</td><td>10.429</td><td>13.416</td></tr><tr><td>5</td><td>1.803</td><td>11.253</td><td>16.106</td></tr><tr><td>5</td><td>2.051</td><td>12.209</td><td>17.264</td></tr><tr><td>5</td><td>2.518</td><td>13.416</td><td>19.106</td></tr><tr><td>5</td><td>3.197</td><td>16.106</td><td>30.548</td></tr><tr><td>5</td><td>3.413</td><td>17.264</td><td>36.746</td></tr><tr><td>5</td><td>3.913</td><td>19.106</td><td>null</td></tr><tr><td>5</td><td>5.719</td><td>30.548</td><td>null</td></tr><tr><td>5</td><td>6.379</td><td>36.746</td><td>null</td></tr><tr><td>6</td><td>0.376</td><td>10.522</td><td>17.822</td></tr><tr><td>6</td><td>2.142</td><td>13.562</td><td>19.128</td></tr><tr><td>6</td><td>2.754</td><td>15.725</td><td>19.59</td></tr><tr><td>6</td><td>3.211</td><td>17.822</td><td>19.771</td></tr><tr><td>6</td><td>3.561</td><td>19.128</td><td>21.4</td></tr><tr><td>6</td><td>3.606</td><td>19.59</td><td>22.184</td></tr><tr><td>6</td><td>3.591</td><td>19.771</td><td>35.939</td></tr><tr><td>6</td><td>3.948</td><td>21.4</td><td>39.965</td></tr><tr><td>6</td><td>4.13</td><td>22.184</td><td>40.602</td></tr><tr><td>6</td><td>6.126</td><td>35.939</td><td>46.453</td></tr><tr><td>6</td><td>6.594</td><td>39.965</td><td>50.986</td></tr><tr><td>6</td><td>6.703</td><td>40.602</td><td>51.142</td></tr><tr><td>6</td><td>7.283</td><td>46.453</td><td>53.018</td></tr><tr><td>6</td><td>7.711</td><td>50.986</td><td>null</td></tr><tr><td>6</td><td>7.775</td><td>51.142</td><td>null</td></tr><tr><td>6</td><td>7.909</td><td>53.018</td><td>null</td></tr><tr><td>7</td><td>0.309</td><td>12.027</td><td>12.647</td></tr><tr><td>7</td><td>0.423</td><td>12.132</td><td>18.238</td></tr><tr><td>7</td><td>0.13</td><td>12.591</td><td>23.149</td></tr><tr><td>7</td><td>0.508</td><td>12.647</td><td>24.318</td></tr><tr><td>7</td><td>2.913</td><td>18.238</td><td>24.394</td></tr><tr><td>7</td><td>4.067</td><td>23.149</td><td>28.043</td></tr><tr><td>7</td><td>4.218</td><td>24.318</td><td>36.653</td></tr><tr><td>7</td><td>4.182</td><td>24.394</td><td>40.024</td></tr><tr><td>7</td><td>4.875</td><td>28.043</td><td>41.358</td></tr><tr><td>7</td><td>6.049</td><td>36.653</td><td>49.544</td></tr><tr><td>7</td><td>6.376</td><td>40.024</td><td>51.583</td></tr><tr><td>7</td><td>6.533</td><td>41.358</td><td>54.321</td></tr><tr><td>7</td><td>7.451</td><td>49.544</td><td>null</td></tr><tr><td>7</td><td>7.649</td><td>51.583</td><td>null</td></tr><tr><td>7</td><td>7.957</td><td>54.321</td><td>null</td></tr><tr><td>8</td><td>0.932</td><td>15.038</td><td>19.564</td></tr><tr><td>8</td><td>1.982</td><td>16.461</td><td>24.172</td></tr><tr><td>8</td><td>2.262</td><td>17.705</td><td>24.451</td></tr><tr><td>8</td><td>2.73</td><td>19.564</td><td>25.133</td></tr><tr><td>8</td><td>3.864</td><td>24.172</td><td>26.532</td></tr><tr><td>8</td><td>3.919</td><td>24.451</td><td>38.278</td></tr><tr><td>8</td><td>3.977</td><td>25.133</td><td>38.49</td></tr><tr><td>8</td><td>4.378</td><td>26.532</td><td>39.957</td></tr><tr><td>8</td><td>5.985</td><td>38.278</td><td>42.426</td></tr><tr><td>8</td><td>6.08</td><td>38.49</td><td>51.343</td></tr><tr><td>8</td><td>6.201</td><td>39.957</td><td>53.158</td></tr><tr><td>8</td><td>6.471</td><td>42.426</td><td>53.359</td></tr><tr><td>8</td><td>7.468</td><td>51.343</td><td>55.299</td></tr><tr><td>8</td><td>7.591</td><td>53.158</td><td>null</td></tr><tr><td>8</td><td>7.641</td><td>53.359</td><td>null</td></tr><tr><td>8</td><td>7.811</td><td>55.299</td><td>null</td></tr></tbody></table></div>"
      ]
     },
     "metadata": {
      "application/vnd.databricks.v1+output": {
       "addedWidgets": {},
       "aggData": [],
       "aggError": "",
       "aggOverflow": false,
       "aggSchema": [],
       "aggSeriesLimitReached": false,
       "aggType": "",
       "arguments": {},
       "columnCustomDisplayInfos": {},
       "data": [
        [
         3,
         0.301,
         5.609,
         6.217
        ],
        [
         3,
         1.033,
         6.053,
         6.349
        ],
        [
         3,
         0.55,
         6.185,
         6.623
        ],
        [
         3,
         0.803,
         6.217,
         7.014
        ],
        [
         3,
         0.805,
         6.349,
         8.1
        ],
        [
         3,
         1.407,
         6.623,
         8.924
        ],
        [
         3,
         1.629,
         7.014,
         11.397
        ],
        [
         3,
         1.923,
         8.1,
         17.171
        ],
        [
         3,
         2.061,
         8.924,
         17.672
        ],
        [
         3,
         2.908,
         11.397,
         19.202
        ],
        [
         3,
         4.083,
         17.171,
         20.398
        ],
        [
         3,
         4.274,
         17.672,
         21.379
        ],
        [
         3,
         4.508,
         19.202,
         26.882
        ],
        [
         3,
         4.633,
         20.398,
         29.889
        ],
        [
         3,
         4.869,
         21.379,
         30.862
        ],
        [
         3,
         5.635,
         26.882,
         31.236
        ],
        [
         3,
         6.063,
         29.889,
         32.357
        ],
        [
         3,
         6.173,
         30.862,
         42.036
        ],
        [
         3,
         6.198,
         31.236,
         43.978
        ],
        [
         3,
         6.335,
         32.357,
         null
        ],
        [
         3,
         7.353,
         42.036,
         null
        ],
        [
         3,
         7.543,
         43.978,
         null
        ],
        [
         4,
         0.14,
         7.336,
         8.837
        ],
        [
         4,
         0.096,
         7.734,
         8.92
        ],
        [
         4,
         0.771,
         7.892,
         9.742
        ],
        [
         4,
         1.299,
         8.837,
         10.844
        ],
        [
         4,
         1.395,
         8.92,
         13.119
        ],
        [
         4,
         1.954,
         9.742,
         13.811
        ],
        [
         4,
         2.438,
         10.844,
         16.517
        ],
        [
         4,
         2.966,
         13.119,
         16.606
        ],
        [
         4,
         3.133,
         13.811,
         16.703
        ],
        [
         4,
         3.635,
         16.517,
         19.466
        ],
        [
         4,
         3.736,
         16.606,
         20.348
        ],
        [
         4,
         3.797,
         16.703,
         22.073
        ],
        [
         4,
         4.26,
         19.466,
         22.701
        ],
        [
         4,
         4.41,
         20.348,
         23.916
        ],
        [
         4,
         4.733,
         22.073,
         27.569
        ],
        [
         4,
         4.779,
         22.701,
         39.952
        ],
        [
         4,
         5.027,
         23.916,
         41.444
        ],
        [
         4,
         5.473,
         27.569,
         44.099
        ],
        [
         4,
         6.954,
         39.952,
         null
        ],
        [
         4,
         7.163,
         41.444,
         null
        ],
        [
         4,
         7.41,
         44.099,
         null
        ],
        [
         5,
         0.156,
         9.333,
         12.209
        ],
        [
         5,
         1.557,
         10.429,
         13.416
        ],
        [
         5,
         1.803,
         11.253,
         16.106
        ],
        [
         5,
         2.051,
         12.209,
         17.264
        ],
        [
         5,
         2.518,
         13.416,
         19.106
        ],
        [
         5,
         3.197,
         16.106,
         30.548
        ],
        [
         5,
         3.413,
         17.264,
         36.746
        ],
        [
         5,
         3.913,
         19.106,
         null
        ],
        [
         5,
         5.719,
         30.548,
         null
        ],
        [
         5,
         6.379,
         36.746,
         null
        ],
        [
         6,
         0.376,
         10.522,
         17.822
        ],
        [
         6,
         2.142,
         13.562,
         19.128
        ],
        [
         6,
         2.754,
         15.725,
         19.59
        ],
        [
         6,
         3.211,
         17.822,
         19.771
        ],
        [
         6,
         3.561,
         19.128,
         21.4
        ],
        [
         6,
         3.606,
         19.59,
         22.184
        ],
        [
         6,
         3.591,
         19.771,
         35.939
        ],
        [
         6,
         3.948,
         21.4,
         39.965
        ],
        [
         6,
         4.13,
         22.184,
         40.602
        ],
        [
         6,
         6.126,
         35.939,
         46.453
        ],
        [
         6,
         6.594,
         39.965,
         50.986
        ],
        [
         6,
         6.703,
         40.602,
         51.142
        ],
        [
         6,
         7.283,
         46.453,
         53.018
        ],
        [
         6,
         7.711,
         50.986,
         null
        ],
        [
         6,
         7.775,
         51.142,
         null
        ],
        [
         6,
         7.909,
         53.018,
         null
        ],
        [
         7,
         0.309,
         12.027,
         12.647
        ],
        [
         7,
         0.423,
         12.132,
         18.238
        ],
        [
         7,
         0.13,
         12.591,
         23.149
        ],
        [
         7,
         0.508,
         12.647,
         24.318
        ],
        [
         7,
         2.913,
         18.238,
         24.394
        ],
        [
         7,
         4.067,
         23.149,
         28.043
        ],
        [
         7,
         4.218,
         24.318,
         36.653
        ],
        [
         7,
         4.182,
         24.394,
         40.024
        ],
        [
         7,
         4.875,
         28.043,
         41.358
        ],
        [
         7,
         6.049,
         36.653,
         49.544
        ],
        [
         7,
         6.376,
         40.024,
         51.583
        ],
        [
         7,
         6.533,
         41.358,
         54.321
        ],
        [
         7,
         7.451,
         49.544,
         null
        ],
        [
         7,
         7.649,
         51.583,
         null
        ],
        [
         7,
         7.957,
         54.321,
         null
        ],
        [
         8,
         0.932,
         15.038,
         19.564
        ],
        [
         8,
         1.982,
         16.461,
         24.172
        ],
        [
         8,
         2.262,
         17.705,
         24.451
        ],
        [
         8,
         2.73,
         19.564,
         25.133
        ],
        [
         8,
         3.864,
         24.172,
         26.532
        ],
        [
         8,
         3.919,
         24.451,
         38.278
        ],
        [
         8,
         3.977,
         25.133,
         38.49
        ],
        [
         8,
         4.378,
         26.532,
         39.957
        ],
        [
         8,
         5.985,
         38.278,
         42.426
        ],
        [
         8,
         6.08,
         38.49,
         51.343
        ],
        [
         8,
         6.201,
         39.957,
         53.158
        ],
        [
         8,
         6.471,
         42.426,
         53.359
        ],
        [
         8,
         7.468,
         51.343,
         55.299
        ],
        [
         8,
         7.591,
         53.158,
         null
        ],
        [
         8,
         7.641,
         53.359,
         null
        ],
        [
         8,
         7.811,
         55.299,
         null
        ]
       ],
       "datasetInfos": [],
       "dbfsResultPath": null,
       "isJsonSchema": true,
       "metadata": {},
       "overflow": false,
       "plotOptions": {
        "customPlotOptions": {},
        "displayType": "table",
        "pivotAggregation": null,
        "pivotColumns": null,
        "xColumns": null,
        "yColumns": null
       },
       "removedWidgets": [],
       "schema": [
        {
         "metadata": "{}",
         "name": "number_courses",
         "type": "\"integer\""
        },
        {
         "metadata": "{}",
         "name": "time_study",
         "type": "\"double\""
        },
        {
         "metadata": "{}",
         "name": "Marks",
         "type": "\"double\""
        },
        {
         "metadata": "{}",
         "name": "lead",
         "type": "\"double\""
        }
       ],
       "type": "table"
      }
     },
     "output_type": "display_data"
    }
   ],
   "source": [
    "df08=df.withColumn('lead',lead('Marks',3).over(windowfun))\n",
    "display(df08)"
   ]
  },
  {
   "cell_type": "code",
   "execution_count": 0,
   "metadata": {
    "application/vnd.databricks.v1+cell": {
     "cellMetadata": {
      "byteLimit": 2048000,
      "rowLimit": 10000
     },
     "inputWidgets": {},
     "nuid": "516b3051-842d-4ef0-8587-7c93a9798f89",
     "showTitle": false,
     "title": ""
    }
   },
   "outputs": [],
   "source": [
    "def agg_functions(pbyclmns,obyclmns,aggfunction,newcol):\n",
    "    windowfun  = Window.partitionBy(pbyclmns).orderBy(obyclmns)\n",
    "    return df.withColumn(newcol,aggfunction().over(windowfun))"
   ]
  },
  {
   "cell_type": "code",
   "execution_count": 0,
   "metadata": {
    "application/vnd.databricks.v1+cell": {
     "cellMetadata": {
      "byteLimit": 2048000,
      "rowLimit": 10000
     },
     "inputWidgets": {},
     "nuid": "21957386-3364-42db-9e7e-d2e192f6b9ce",
     "showTitle": false,
     "title": ""
    }
   },
   "outputs": [
    {
     "output_type": "display_data",
     "data": {
      "text/html": [
       "<style scoped>\n",
       "  .table-result-container {\n",
       "    max-height: 300px;\n",
       "    overflow: auto;\n",
       "  }\n",
       "  table, th, td {\n",
       "    border: 1px solid black;\n",
       "    border-collapse: collapse;\n",
       "  }\n",
       "  th, td {\n",
       "    padding: 5px;\n",
       "  }\n",
       "  th {\n",
       "    text-align: left;\n",
       "  }\n",
       "</style><div class='table-result-container'><table class='table-result'><thead style='background-color: white'><tr><th>number_courses</th><th>time_study</th><th>Marks</th><th>Row_number</th></tr></thead><tbody><tr><td>3</td><td>0.301</td><td>5.609</td><td>1</td></tr><tr><td>3</td><td>1.033</td><td>6.053</td><td>2</td></tr><tr><td>3</td><td>0.55</td><td>6.185</td><td>3</td></tr><tr><td>3</td><td>0.803</td><td>6.217</td><td>4</td></tr><tr><td>3</td><td>0.805</td><td>6.349</td><td>5</td></tr><tr><td>3</td><td>1.407</td><td>6.623</td><td>6</td></tr><tr><td>3</td><td>1.629</td><td>7.014</td><td>7</td></tr><tr><td>3</td><td>1.923</td><td>8.1</td><td>8</td></tr><tr><td>3</td><td>2.061</td><td>8.924</td><td>9</td></tr><tr><td>3</td><td>2.908</td><td>11.397</td><td>10</td></tr><tr><td>3</td><td>4.083</td><td>17.171</td><td>11</td></tr><tr><td>3</td><td>4.274</td><td>17.672</td><td>12</td></tr><tr><td>3</td><td>4.508</td><td>19.202</td><td>13</td></tr><tr><td>3</td><td>4.633</td><td>20.398</td><td>14</td></tr><tr><td>3</td><td>4.869</td><td>21.379</td><td>15</td></tr><tr><td>3</td><td>5.635</td><td>26.882</td><td>16</td></tr><tr><td>3</td><td>6.063</td><td>29.889</td><td>17</td></tr><tr><td>3</td><td>6.173</td><td>30.862</td><td>18</td></tr><tr><td>3</td><td>6.198</td><td>31.236</td><td>19</td></tr><tr><td>3</td><td>6.335</td><td>32.357</td><td>20</td></tr><tr><td>3</td><td>7.353</td><td>42.036</td><td>21</td></tr><tr><td>3</td><td>7.543</td><td>43.978</td><td>22</td></tr><tr><td>4</td><td>0.14</td><td>7.336</td><td>1</td></tr><tr><td>4</td><td>0.096</td><td>7.734</td><td>2</td></tr><tr><td>4</td><td>0.771</td><td>7.892</td><td>3</td></tr><tr><td>4</td><td>1.299</td><td>8.837</td><td>4</td></tr><tr><td>4</td><td>1.395</td><td>8.92</td><td>5</td></tr><tr><td>4</td><td>1.954</td><td>9.742</td><td>6</td></tr><tr><td>4</td><td>2.438</td><td>10.844</td><td>7</td></tr><tr><td>4</td><td>2.966</td><td>13.119</td><td>8</td></tr><tr><td>4</td><td>3.133</td><td>13.811</td><td>9</td></tr><tr><td>4</td><td>3.635</td><td>16.517</td><td>10</td></tr><tr><td>4</td><td>3.736</td><td>16.606</td><td>11</td></tr><tr><td>4</td><td>3.797</td><td>16.703</td><td>12</td></tr><tr><td>4</td><td>4.26</td><td>19.466</td><td>13</td></tr><tr><td>4</td><td>4.41</td><td>20.348</td><td>14</td></tr><tr><td>4</td><td>4.733</td><td>22.073</td><td>15</td></tr><tr><td>4</td><td>4.779</td><td>22.701</td><td>16</td></tr><tr><td>4</td><td>5.027</td><td>23.916</td><td>17</td></tr><tr><td>4</td><td>5.473</td><td>27.569</td><td>18</td></tr><tr><td>4</td><td>6.954</td><td>39.952</td><td>19</td></tr><tr><td>4</td><td>7.163</td><td>41.444</td><td>20</td></tr><tr><td>4</td><td>7.41</td><td>44.099</td><td>21</td></tr><tr><td>5</td><td>0.156</td><td>9.333</td><td>1</td></tr><tr><td>5</td><td>1.557</td><td>10.429</td><td>2</td></tr><tr><td>5</td><td>1.803</td><td>11.253</td><td>3</td></tr><tr><td>5</td><td>2.051</td><td>12.209</td><td>4</td></tr><tr><td>5</td><td>2.518</td><td>13.416</td><td>5</td></tr><tr><td>5</td><td>3.197</td><td>16.106</td><td>6</td></tr><tr><td>5</td><td>3.413</td><td>17.264</td><td>7</td></tr><tr><td>5</td><td>3.913</td><td>19.106</td><td>8</td></tr><tr><td>5</td><td>5.719</td><td>30.548</td><td>9</td></tr><tr><td>5</td><td>6.379</td><td>36.746</td><td>10</td></tr><tr><td>6</td><td>0.376</td><td>10.522</td><td>1</td></tr><tr><td>6</td><td>2.142</td><td>13.562</td><td>2</td></tr><tr><td>6</td><td>2.754</td><td>15.725</td><td>3</td></tr><tr><td>6</td><td>3.211</td><td>17.822</td><td>4</td></tr><tr><td>6</td><td>3.561</td><td>19.128</td><td>5</td></tr><tr><td>6</td><td>3.606</td><td>19.59</td><td>6</td></tr><tr><td>6</td><td>3.591</td><td>19.771</td><td>7</td></tr><tr><td>6</td><td>3.948</td><td>21.4</td><td>8</td></tr><tr><td>6</td><td>4.13</td><td>22.184</td><td>9</td></tr><tr><td>6</td><td>6.126</td><td>35.939</td><td>10</td></tr><tr><td>6</td><td>6.594</td><td>39.965</td><td>11</td></tr><tr><td>6</td><td>6.703</td><td>40.602</td><td>12</td></tr><tr><td>6</td><td>7.283</td><td>46.453</td><td>13</td></tr><tr><td>6</td><td>7.711</td><td>50.986</td><td>14</td></tr><tr><td>6</td><td>7.775</td><td>51.142</td><td>15</td></tr><tr><td>6</td><td>7.909</td><td>53.018</td><td>16</td></tr><tr><td>7</td><td>0.309</td><td>12.027</td><td>1</td></tr><tr><td>7</td><td>0.423</td><td>12.132</td><td>2</td></tr><tr><td>7</td><td>0.13</td><td>12.591</td><td>3</td></tr><tr><td>7</td><td>0.508</td><td>12.647</td><td>4</td></tr><tr><td>7</td><td>2.913</td><td>18.238</td><td>5</td></tr><tr><td>7</td><td>4.067</td><td>23.149</td><td>6</td></tr><tr><td>7</td><td>4.218</td><td>24.318</td><td>7</td></tr><tr><td>7</td><td>4.182</td><td>24.394</td><td>8</td></tr><tr><td>7</td><td>4.875</td><td>28.043</td><td>9</td></tr><tr><td>7</td><td>6.049</td><td>36.653</td><td>10</td></tr><tr><td>7</td><td>6.376</td><td>40.024</td><td>11</td></tr><tr><td>7</td><td>6.533</td><td>41.358</td><td>12</td></tr><tr><td>7</td><td>7.451</td><td>49.544</td><td>13</td></tr><tr><td>7</td><td>7.649</td><td>51.583</td><td>14</td></tr><tr><td>7</td><td>7.957</td><td>54.321</td><td>15</td></tr><tr><td>8</td><td>0.932</td><td>15.038</td><td>1</td></tr><tr><td>8</td><td>1.982</td><td>16.461</td><td>2</td></tr><tr><td>8</td><td>2.262</td><td>17.705</td><td>3</td></tr><tr><td>8</td><td>2.73</td><td>19.564</td><td>4</td></tr><tr><td>8</td><td>3.864</td><td>24.172</td><td>5</td></tr><tr><td>8</td><td>3.919</td><td>24.451</td><td>6</td></tr><tr><td>8</td><td>3.977</td><td>25.133</td><td>7</td></tr><tr><td>8</td><td>4.378</td><td>26.532</td><td>8</td></tr><tr><td>8</td><td>5.985</td><td>38.278</td><td>9</td></tr><tr><td>8</td><td>6.08</td><td>38.49</td><td>10</td></tr><tr><td>8</td><td>6.201</td><td>39.957</td><td>11</td></tr><tr><td>8</td><td>6.471</td><td>42.426</td><td>12</td></tr><tr><td>8</td><td>7.468</td><td>51.343</td><td>13</td></tr><tr><td>8</td><td>7.591</td><td>53.158</td><td>14</td></tr><tr><td>8</td><td>7.641</td><td>53.359</td><td>15</td></tr><tr><td>8</td><td>7.811</td><td>55.299</td><td>16</td></tr></tbody></table></div>"
      ]
     },
     "metadata": {
      "application/vnd.databricks.v1+output": {
       "addedWidgets": {},
       "aggData": [],
       "aggError": "",
       "aggOverflow": false,
       "aggSchema": [],
       "aggSeriesLimitReached": false,
       "aggType": "",
       "arguments": {},
       "columnCustomDisplayInfos": {},
       "data": [
        [
         3,
         0.301,
         5.609,
         1
        ],
        [
         3,
         1.033,
         6.053,
         2
        ],
        [
         3,
         0.55,
         6.185,
         3
        ],
        [
         3,
         0.803,
         6.217,
         4
        ],
        [
         3,
         0.805,
         6.349,
         5
        ],
        [
         3,
         1.407,
         6.623,
         6
        ],
        [
         3,
         1.629,
         7.014,
         7
        ],
        [
         3,
         1.923,
         8.1,
         8
        ],
        [
         3,
         2.061,
         8.924,
         9
        ],
        [
         3,
         2.908,
         11.397,
         10
        ],
        [
         3,
         4.083,
         17.171,
         11
        ],
        [
         3,
         4.274,
         17.672,
         12
        ],
        [
         3,
         4.508,
         19.202,
         13
        ],
        [
         3,
         4.633,
         20.398,
         14
        ],
        [
         3,
         4.869,
         21.379,
         15
        ],
        [
         3,
         5.635,
         26.882,
         16
        ],
        [
         3,
         6.063,
         29.889,
         17
        ],
        [
         3,
         6.173,
         30.862,
         18
        ],
        [
         3,
         6.198,
         31.236,
         19
        ],
        [
         3,
         6.335,
         32.357,
         20
        ],
        [
         3,
         7.353,
         42.036,
         21
        ],
        [
         3,
         7.543,
         43.978,
         22
        ],
        [
         4,
         0.14,
         7.336,
         1
        ],
        [
         4,
         0.096,
         7.734,
         2
        ],
        [
         4,
         0.771,
         7.892,
         3
        ],
        [
         4,
         1.299,
         8.837,
         4
        ],
        [
         4,
         1.395,
         8.92,
         5
        ],
        [
         4,
         1.954,
         9.742,
         6
        ],
        [
         4,
         2.438,
         10.844,
         7
        ],
        [
         4,
         2.966,
         13.119,
         8
        ],
        [
         4,
         3.133,
         13.811,
         9
        ],
        [
         4,
         3.635,
         16.517,
         10
        ],
        [
         4,
         3.736,
         16.606,
         11
        ],
        [
         4,
         3.797,
         16.703,
         12
        ],
        [
         4,
         4.26,
         19.466,
         13
        ],
        [
         4,
         4.41,
         20.348,
         14
        ],
        [
         4,
         4.733,
         22.073,
         15
        ],
        [
         4,
         4.779,
         22.701,
         16
        ],
        [
         4,
         5.027,
         23.916,
         17
        ],
        [
         4,
         5.473,
         27.569,
         18
        ],
        [
         4,
         6.954,
         39.952,
         19
        ],
        [
         4,
         7.163,
         41.444,
         20
        ],
        [
         4,
         7.41,
         44.099,
         21
        ],
        [
         5,
         0.156,
         9.333,
         1
        ],
        [
         5,
         1.557,
         10.429,
         2
        ],
        [
         5,
         1.803,
         11.253,
         3
        ],
        [
         5,
         2.051,
         12.209,
         4
        ],
        [
         5,
         2.518,
         13.416,
         5
        ],
        [
         5,
         3.197,
         16.106,
         6
        ],
        [
         5,
         3.413,
         17.264,
         7
        ],
        [
         5,
         3.913,
         19.106,
         8
        ],
        [
         5,
         5.719,
         30.548,
         9
        ],
        [
         5,
         6.379,
         36.746,
         10
        ],
        [
         6,
         0.376,
         10.522,
         1
        ],
        [
         6,
         2.142,
         13.562,
         2
        ],
        [
         6,
         2.754,
         15.725,
         3
        ],
        [
         6,
         3.211,
         17.822,
         4
        ],
        [
         6,
         3.561,
         19.128,
         5
        ],
        [
         6,
         3.606,
         19.59,
         6
        ],
        [
         6,
         3.591,
         19.771,
         7
        ],
        [
         6,
         3.948,
         21.4,
         8
        ],
        [
         6,
         4.13,
         22.184,
         9
        ],
        [
         6,
         6.126,
         35.939,
         10
        ],
        [
         6,
         6.594,
         39.965,
         11
        ],
        [
         6,
         6.703,
         40.602,
         12
        ],
        [
         6,
         7.283,
         46.453,
         13
        ],
        [
         6,
         7.711,
         50.986,
         14
        ],
        [
         6,
         7.775,
         51.142,
         15
        ],
        [
         6,
         7.909,
         53.018,
         16
        ],
        [
         7,
         0.309,
         12.027,
         1
        ],
        [
         7,
         0.423,
         12.132,
         2
        ],
        [
         7,
         0.13,
         12.591,
         3
        ],
        [
         7,
         0.508,
         12.647,
         4
        ],
        [
         7,
         2.913,
         18.238,
         5
        ],
        [
         7,
         4.067,
         23.149,
         6
        ],
        [
         7,
         4.218,
         24.318,
         7
        ],
        [
         7,
         4.182,
         24.394,
         8
        ],
        [
         7,
         4.875,
         28.043,
         9
        ],
        [
         7,
         6.049,
         36.653,
         10
        ],
        [
         7,
         6.376,
         40.024,
         11
        ],
        [
         7,
         6.533,
         41.358,
         12
        ],
        [
         7,
         7.451,
         49.544,
         13
        ],
        [
         7,
         7.649,
         51.583,
         14
        ],
        [
         7,
         7.957,
         54.321,
         15
        ],
        [
         8,
         0.932,
         15.038,
         1
        ],
        [
         8,
         1.982,
         16.461,
         2
        ],
        [
         8,
         2.262,
         17.705,
         3
        ],
        [
         8,
         2.73,
         19.564,
         4
        ],
        [
         8,
         3.864,
         24.172,
         5
        ],
        [
         8,
         3.919,
         24.451,
         6
        ],
        [
         8,
         3.977,
         25.133,
         7
        ],
        [
         8,
         4.378,
         26.532,
         8
        ],
        [
         8,
         5.985,
         38.278,
         9
        ],
        [
         8,
         6.08,
         38.49,
         10
        ],
        [
         8,
         6.201,
         39.957,
         11
        ],
        [
         8,
         6.471,
         42.426,
         12
        ],
        [
         8,
         7.468,
         51.343,
         13
        ],
        [
         8,
         7.591,
         53.158,
         14
        ],
        [
         8,
         7.641,
         53.359,
         15
        ],
        [
         8,
         7.811,
         55.299,
         16
        ]
       ],
       "datasetInfos": [],
       "dbfsResultPath": null,
       "isJsonSchema": true,
       "metadata": {},
       "overflow": false,
       "plotOptions": {
        "customPlotOptions": {},
        "displayType": "table",
        "pivotAggregation": null,
        "pivotColumns": null,
        "xColumns": null,
        "yColumns": null
       },
       "removedWidgets": [],
       "schema": [
        {
         "metadata": "{}",
         "name": "number_courses",
         "type": "\"integer\""
        },
        {
         "metadata": "{}",
         "name": "time_study",
         "type": "\"double\""
        },
        {
         "metadata": "{}",
         "name": "Marks",
         "type": "\"double\""
        },
        {
         "metadata": "{}",
         "name": "Row_number",
         "type": "\"integer\""
        }
       ],
       "type": "table"
      }
     },
     "output_type": "display_data"
    },
    {
     "output_type": "display_data",
     "data": {
      "text/html": [
       "<style scoped>\n",
       "  .table-result-container {\n",
       "    max-height: 300px;\n",
       "    overflow: auto;\n",
       "  }\n",
       "  table, th, td {\n",
       "    border: 1px solid black;\n",
       "    border-collapse: collapse;\n",
       "  }\n",
       "  th, td {\n",
       "    padding: 5px;\n",
       "  }\n",
       "  th {\n",
       "    text-align: left;\n",
       "  }\n",
       "</style><div class='table-result-container'><table class='table-result'><thead style='background-color: white'><tr><th>number_courses</th><th>time_study</th><th>Marks</th><th>Rank</th></tr></thead><tbody><tr><td>3</td><td>0.301</td><td>5.609</td><td>1</td></tr><tr><td>3</td><td>1.033</td><td>6.053</td><td>2</td></tr><tr><td>3</td><td>0.55</td><td>6.185</td><td>3</td></tr><tr><td>3</td><td>0.803</td><td>6.217</td><td>4</td></tr><tr><td>3</td><td>0.805</td><td>6.349</td><td>5</td></tr><tr><td>3</td><td>1.407</td><td>6.623</td><td>6</td></tr><tr><td>3</td><td>1.629</td><td>7.014</td><td>7</td></tr><tr><td>3</td><td>1.923</td><td>8.1</td><td>8</td></tr><tr><td>3</td><td>2.061</td><td>8.924</td><td>9</td></tr><tr><td>3</td><td>2.908</td><td>11.397</td><td>10</td></tr><tr><td>3</td><td>4.083</td><td>17.171</td><td>11</td></tr><tr><td>3</td><td>4.274</td><td>17.672</td><td>12</td></tr><tr><td>3</td><td>4.508</td><td>19.202</td><td>13</td></tr><tr><td>3</td><td>4.633</td><td>20.398</td><td>14</td></tr><tr><td>3</td><td>4.869</td><td>21.379</td><td>15</td></tr><tr><td>3</td><td>5.635</td><td>26.882</td><td>16</td></tr><tr><td>3</td><td>6.063</td><td>29.889</td><td>17</td></tr><tr><td>3</td><td>6.173</td><td>30.862</td><td>18</td></tr><tr><td>3</td><td>6.198</td><td>31.236</td><td>19</td></tr><tr><td>3</td><td>6.335</td><td>32.357</td><td>20</td></tr><tr><td>3</td><td>7.353</td><td>42.036</td><td>21</td></tr><tr><td>3</td><td>7.543</td><td>43.978</td><td>22</td></tr><tr><td>4</td><td>0.14</td><td>7.336</td><td>1</td></tr><tr><td>4</td><td>0.096</td><td>7.734</td><td>2</td></tr><tr><td>4</td><td>0.771</td><td>7.892</td><td>3</td></tr><tr><td>4</td><td>1.299</td><td>8.837</td><td>4</td></tr><tr><td>4</td><td>1.395</td><td>8.92</td><td>5</td></tr><tr><td>4</td><td>1.954</td><td>9.742</td><td>6</td></tr><tr><td>4</td><td>2.438</td><td>10.844</td><td>7</td></tr><tr><td>4</td><td>2.966</td><td>13.119</td><td>8</td></tr><tr><td>4</td><td>3.133</td><td>13.811</td><td>9</td></tr><tr><td>4</td><td>3.635</td><td>16.517</td><td>10</td></tr><tr><td>4</td><td>3.736</td><td>16.606</td><td>11</td></tr><tr><td>4</td><td>3.797</td><td>16.703</td><td>12</td></tr><tr><td>4</td><td>4.26</td><td>19.466</td><td>13</td></tr><tr><td>4</td><td>4.41</td><td>20.348</td><td>14</td></tr><tr><td>4</td><td>4.733</td><td>22.073</td><td>15</td></tr><tr><td>4</td><td>4.779</td><td>22.701</td><td>16</td></tr><tr><td>4</td><td>5.027</td><td>23.916</td><td>17</td></tr><tr><td>4</td><td>5.473</td><td>27.569</td><td>18</td></tr><tr><td>4</td><td>6.954</td><td>39.952</td><td>19</td></tr><tr><td>4</td><td>7.163</td><td>41.444</td><td>20</td></tr><tr><td>4</td><td>7.41</td><td>44.099</td><td>21</td></tr><tr><td>5</td><td>0.156</td><td>9.333</td><td>1</td></tr><tr><td>5</td><td>1.557</td><td>10.429</td><td>2</td></tr><tr><td>5</td><td>1.803</td><td>11.253</td><td>3</td></tr><tr><td>5</td><td>2.051</td><td>12.209</td><td>4</td></tr><tr><td>5</td><td>2.518</td><td>13.416</td><td>5</td></tr><tr><td>5</td><td>3.197</td><td>16.106</td><td>6</td></tr><tr><td>5</td><td>3.413</td><td>17.264</td><td>7</td></tr><tr><td>5</td><td>3.913</td><td>19.106</td><td>8</td></tr><tr><td>5</td><td>5.719</td><td>30.548</td><td>9</td></tr><tr><td>5</td><td>6.379</td><td>36.746</td><td>10</td></tr><tr><td>6</td><td>0.376</td><td>10.522</td><td>1</td></tr><tr><td>6</td><td>2.142</td><td>13.562</td><td>2</td></tr><tr><td>6</td><td>2.754</td><td>15.725</td><td>3</td></tr><tr><td>6</td><td>3.211</td><td>17.822</td><td>4</td></tr><tr><td>6</td><td>3.561</td><td>19.128</td><td>5</td></tr><tr><td>6</td><td>3.606</td><td>19.59</td><td>6</td></tr><tr><td>6</td><td>3.591</td><td>19.771</td><td>7</td></tr><tr><td>6</td><td>3.948</td><td>21.4</td><td>8</td></tr><tr><td>6</td><td>4.13</td><td>22.184</td><td>9</td></tr><tr><td>6</td><td>6.126</td><td>35.939</td><td>10</td></tr><tr><td>6</td><td>6.594</td><td>39.965</td><td>11</td></tr><tr><td>6</td><td>6.703</td><td>40.602</td><td>12</td></tr><tr><td>6</td><td>7.283</td><td>46.453</td><td>13</td></tr><tr><td>6</td><td>7.711</td><td>50.986</td><td>14</td></tr><tr><td>6</td><td>7.775</td><td>51.142</td><td>15</td></tr><tr><td>6</td><td>7.909</td><td>53.018</td><td>16</td></tr><tr><td>7</td><td>0.309</td><td>12.027</td><td>1</td></tr><tr><td>7</td><td>0.423</td><td>12.132</td><td>2</td></tr><tr><td>7</td><td>0.13</td><td>12.591</td><td>3</td></tr><tr><td>7</td><td>0.508</td><td>12.647</td><td>4</td></tr><tr><td>7</td><td>2.913</td><td>18.238</td><td>5</td></tr><tr><td>7</td><td>4.067</td><td>23.149</td><td>6</td></tr><tr><td>7</td><td>4.218</td><td>24.318</td><td>7</td></tr><tr><td>7</td><td>4.182</td><td>24.394</td><td>8</td></tr><tr><td>7</td><td>4.875</td><td>28.043</td><td>9</td></tr><tr><td>7</td><td>6.049</td><td>36.653</td><td>10</td></tr><tr><td>7</td><td>6.376</td><td>40.024</td><td>11</td></tr><tr><td>7</td><td>6.533</td><td>41.358</td><td>12</td></tr><tr><td>7</td><td>7.451</td><td>49.544</td><td>13</td></tr><tr><td>7</td><td>7.649</td><td>51.583</td><td>14</td></tr><tr><td>7</td><td>7.957</td><td>54.321</td><td>15</td></tr><tr><td>8</td><td>0.932</td><td>15.038</td><td>1</td></tr><tr><td>8</td><td>1.982</td><td>16.461</td><td>2</td></tr><tr><td>8</td><td>2.262</td><td>17.705</td><td>3</td></tr><tr><td>8</td><td>2.73</td><td>19.564</td><td>4</td></tr><tr><td>8</td><td>3.864</td><td>24.172</td><td>5</td></tr><tr><td>8</td><td>3.919</td><td>24.451</td><td>6</td></tr><tr><td>8</td><td>3.977</td><td>25.133</td><td>7</td></tr><tr><td>8</td><td>4.378</td><td>26.532</td><td>8</td></tr><tr><td>8</td><td>5.985</td><td>38.278</td><td>9</td></tr><tr><td>8</td><td>6.08</td><td>38.49</td><td>10</td></tr><tr><td>8</td><td>6.201</td><td>39.957</td><td>11</td></tr><tr><td>8</td><td>6.471</td><td>42.426</td><td>12</td></tr><tr><td>8</td><td>7.468</td><td>51.343</td><td>13</td></tr><tr><td>8</td><td>7.591</td><td>53.158</td><td>14</td></tr><tr><td>8</td><td>7.641</td><td>53.359</td><td>15</td></tr><tr><td>8</td><td>7.811</td><td>55.299</td><td>16</td></tr></tbody></table></div>"
      ]
     },
     "metadata": {
      "application/vnd.databricks.v1+output": {
       "addedWidgets": {},
       "aggData": [],
       "aggError": "",
       "aggOverflow": false,
       "aggSchema": [],
       "aggSeriesLimitReached": false,
       "aggType": "",
       "arguments": {},
       "columnCustomDisplayInfos": {},
       "data": [
        [
         3,
         0.301,
         5.609,
         1
        ],
        [
         3,
         1.033,
         6.053,
         2
        ],
        [
         3,
         0.55,
         6.185,
         3
        ],
        [
         3,
         0.803,
         6.217,
         4
        ],
        [
         3,
         0.805,
         6.349,
         5
        ],
        [
         3,
         1.407,
         6.623,
         6
        ],
        [
         3,
         1.629,
         7.014,
         7
        ],
        [
         3,
         1.923,
         8.1,
         8
        ],
        [
         3,
         2.061,
         8.924,
         9
        ],
        [
         3,
         2.908,
         11.397,
         10
        ],
        [
         3,
         4.083,
         17.171,
         11
        ],
        [
         3,
         4.274,
         17.672,
         12
        ],
        [
         3,
         4.508,
         19.202,
         13
        ],
        [
         3,
         4.633,
         20.398,
         14
        ],
        [
         3,
         4.869,
         21.379,
         15
        ],
        [
         3,
         5.635,
         26.882,
         16
        ],
        [
         3,
         6.063,
         29.889,
         17
        ],
        [
         3,
         6.173,
         30.862,
         18
        ],
        [
         3,
         6.198,
         31.236,
         19
        ],
        [
         3,
         6.335,
         32.357,
         20
        ],
        [
         3,
         7.353,
         42.036,
         21
        ],
        [
         3,
         7.543,
         43.978,
         22
        ],
        [
         4,
         0.14,
         7.336,
         1
        ],
        [
         4,
         0.096,
         7.734,
         2
        ],
        [
         4,
         0.771,
         7.892,
         3
        ],
        [
         4,
         1.299,
         8.837,
         4
        ],
        [
         4,
         1.395,
         8.92,
         5
        ],
        [
         4,
         1.954,
         9.742,
         6
        ],
        [
         4,
         2.438,
         10.844,
         7
        ],
        [
         4,
         2.966,
         13.119,
         8
        ],
        [
         4,
         3.133,
         13.811,
         9
        ],
        [
         4,
         3.635,
         16.517,
         10
        ],
        [
         4,
         3.736,
         16.606,
         11
        ],
        [
         4,
         3.797,
         16.703,
         12
        ],
        [
         4,
         4.26,
         19.466,
         13
        ],
        [
         4,
         4.41,
         20.348,
         14
        ],
        [
         4,
         4.733,
         22.073,
         15
        ],
        [
         4,
         4.779,
         22.701,
         16
        ],
        [
         4,
         5.027,
         23.916,
         17
        ],
        [
         4,
         5.473,
         27.569,
         18
        ],
        [
         4,
         6.954,
         39.952,
         19
        ],
        [
         4,
         7.163,
         41.444,
         20
        ],
        [
         4,
         7.41,
         44.099,
         21
        ],
        [
         5,
         0.156,
         9.333,
         1
        ],
        [
         5,
         1.557,
         10.429,
         2
        ],
        [
         5,
         1.803,
         11.253,
         3
        ],
        [
         5,
         2.051,
         12.209,
         4
        ],
        [
         5,
         2.518,
         13.416,
         5
        ],
        [
         5,
         3.197,
         16.106,
         6
        ],
        [
         5,
         3.413,
         17.264,
         7
        ],
        [
         5,
         3.913,
         19.106,
         8
        ],
        [
         5,
         5.719,
         30.548,
         9
        ],
        [
         5,
         6.379,
         36.746,
         10
        ],
        [
         6,
         0.376,
         10.522,
         1
        ],
        [
         6,
         2.142,
         13.562,
         2
        ],
        [
         6,
         2.754,
         15.725,
         3
        ],
        [
         6,
         3.211,
         17.822,
         4
        ],
        [
         6,
         3.561,
         19.128,
         5
        ],
        [
         6,
         3.606,
         19.59,
         6
        ],
        [
         6,
         3.591,
         19.771,
         7
        ],
        [
         6,
         3.948,
         21.4,
         8
        ],
        [
         6,
         4.13,
         22.184,
         9
        ],
        [
         6,
         6.126,
         35.939,
         10
        ],
        [
         6,
         6.594,
         39.965,
         11
        ],
        [
         6,
         6.703,
         40.602,
         12
        ],
        [
         6,
         7.283,
         46.453,
         13
        ],
        [
         6,
         7.711,
         50.986,
         14
        ],
        [
         6,
         7.775,
         51.142,
         15
        ],
        [
         6,
         7.909,
         53.018,
         16
        ],
        [
         7,
         0.309,
         12.027,
         1
        ],
        [
         7,
         0.423,
         12.132,
         2
        ],
        [
         7,
         0.13,
         12.591,
         3
        ],
        [
         7,
         0.508,
         12.647,
         4
        ],
        [
         7,
         2.913,
         18.238,
         5
        ],
        [
         7,
         4.067,
         23.149,
         6
        ],
        [
         7,
         4.218,
         24.318,
         7
        ],
        [
         7,
         4.182,
         24.394,
         8
        ],
        [
         7,
         4.875,
         28.043,
         9
        ],
        [
         7,
         6.049,
         36.653,
         10
        ],
        [
         7,
         6.376,
         40.024,
         11
        ],
        [
         7,
         6.533,
         41.358,
         12
        ],
        [
         7,
         7.451,
         49.544,
         13
        ],
        [
         7,
         7.649,
         51.583,
         14
        ],
        [
         7,
         7.957,
         54.321,
         15
        ],
        [
         8,
         0.932,
         15.038,
         1
        ],
        [
         8,
         1.982,
         16.461,
         2
        ],
        [
         8,
         2.262,
         17.705,
         3
        ],
        [
         8,
         2.73,
         19.564,
         4
        ],
        [
         8,
         3.864,
         24.172,
         5
        ],
        [
         8,
         3.919,
         24.451,
         6
        ],
        [
         8,
         3.977,
         25.133,
         7
        ],
        [
         8,
         4.378,
         26.532,
         8
        ],
        [
         8,
         5.985,
         38.278,
         9
        ],
        [
         8,
         6.08,
         38.49,
         10
        ],
        [
         8,
         6.201,
         39.957,
         11
        ],
        [
         8,
         6.471,
         42.426,
         12
        ],
        [
         8,
         7.468,
         51.343,
         13
        ],
        [
         8,
         7.591,
         53.158,
         14
        ],
        [
         8,
         7.641,
         53.359,
         15
        ],
        [
         8,
         7.811,
         55.299,
         16
        ]
       ],
       "datasetInfos": [],
       "dbfsResultPath": null,
       "isJsonSchema": true,
       "metadata": {},
       "overflow": false,
       "plotOptions": {
        "customPlotOptions": {},
        "displayType": "table",
        "pivotAggregation": null,
        "pivotColumns": null,
        "xColumns": null,
        "yColumns": null
       },
       "removedWidgets": [],
       "schema": [
        {
         "metadata": "{}",
         "name": "number_courses",
         "type": "\"integer\""
        },
        {
         "metadata": "{}",
         "name": "time_study",
         "type": "\"double\""
        },
        {
         "metadata": "{}",
         "name": "Marks",
         "type": "\"double\""
        },
        {
         "metadata": "{}",
         "name": "Rank",
         "type": "\"integer\""
        }
       ],
       "type": "table"
      }
     },
     "output_type": "display_data"
    },
    {
     "output_type": "display_data",
     "data": {
      "text/html": [
       "<style scoped>\n",
       "  .table-result-container {\n",
       "    max-height: 300px;\n",
       "    overflow: auto;\n",
       "  }\n",
       "  table, th, td {\n",
       "    border: 1px solid black;\n",
       "    border-collapse: collapse;\n",
       "  }\n",
       "  th, td {\n",
       "    padding: 5px;\n",
       "  }\n",
       "  th {\n",
       "    text-align: left;\n",
       "  }\n",
       "</style><div class='table-result-container'><table class='table-result'><thead style='background-color: white'><tr><th>number_courses</th><th>time_study</th><th>Marks</th><th>Dense_Rank</th></tr></thead><tbody><tr><td>3</td><td>0.301</td><td>5.609</td><td>1</td></tr><tr><td>3</td><td>1.033</td><td>6.053</td><td>2</td></tr><tr><td>3</td><td>0.55</td><td>6.185</td><td>3</td></tr><tr><td>3</td><td>0.803</td><td>6.217</td><td>4</td></tr><tr><td>3</td><td>0.805</td><td>6.349</td><td>5</td></tr><tr><td>3</td><td>1.407</td><td>6.623</td><td>6</td></tr><tr><td>3</td><td>1.629</td><td>7.014</td><td>7</td></tr><tr><td>3</td><td>1.923</td><td>8.1</td><td>8</td></tr><tr><td>3</td><td>2.061</td><td>8.924</td><td>9</td></tr><tr><td>3</td><td>2.908</td><td>11.397</td><td>10</td></tr><tr><td>3</td><td>4.083</td><td>17.171</td><td>11</td></tr><tr><td>3</td><td>4.274</td><td>17.672</td><td>12</td></tr><tr><td>3</td><td>4.508</td><td>19.202</td><td>13</td></tr><tr><td>3</td><td>4.633</td><td>20.398</td><td>14</td></tr><tr><td>3</td><td>4.869</td><td>21.379</td><td>15</td></tr><tr><td>3</td><td>5.635</td><td>26.882</td><td>16</td></tr><tr><td>3</td><td>6.063</td><td>29.889</td><td>17</td></tr><tr><td>3</td><td>6.173</td><td>30.862</td><td>18</td></tr><tr><td>3</td><td>6.198</td><td>31.236</td><td>19</td></tr><tr><td>3</td><td>6.335</td><td>32.357</td><td>20</td></tr><tr><td>3</td><td>7.353</td><td>42.036</td><td>21</td></tr><tr><td>3</td><td>7.543</td><td>43.978</td><td>22</td></tr><tr><td>4</td><td>0.14</td><td>7.336</td><td>1</td></tr><tr><td>4</td><td>0.096</td><td>7.734</td><td>2</td></tr><tr><td>4</td><td>0.771</td><td>7.892</td><td>3</td></tr><tr><td>4</td><td>1.299</td><td>8.837</td><td>4</td></tr><tr><td>4</td><td>1.395</td><td>8.92</td><td>5</td></tr><tr><td>4</td><td>1.954</td><td>9.742</td><td>6</td></tr><tr><td>4</td><td>2.438</td><td>10.844</td><td>7</td></tr><tr><td>4</td><td>2.966</td><td>13.119</td><td>8</td></tr><tr><td>4</td><td>3.133</td><td>13.811</td><td>9</td></tr><tr><td>4</td><td>3.635</td><td>16.517</td><td>10</td></tr><tr><td>4</td><td>3.736</td><td>16.606</td><td>11</td></tr><tr><td>4</td><td>3.797</td><td>16.703</td><td>12</td></tr><tr><td>4</td><td>4.26</td><td>19.466</td><td>13</td></tr><tr><td>4</td><td>4.41</td><td>20.348</td><td>14</td></tr><tr><td>4</td><td>4.733</td><td>22.073</td><td>15</td></tr><tr><td>4</td><td>4.779</td><td>22.701</td><td>16</td></tr><tr><td>4</td><td>5.027</td><td>23.916</td><td>17</td></tr><tr><td>4</td><td>5.473</td><td>27.569</td><td>18</td></tr><tr><td>4</td><td>6.954</td><td>39.952</td><td>19</td></tr><tr><td>4</td><td>7.163</td><td>41.444</td><td>20</td></tr><tr><td>4</td><td>7.41</td><td>44.099</td><td>21</td></tr><tr><td>5</td><td>0.156</td><td>9.333</td><td>1</td></tr><tr><td>5</td><td>1.557</td><td>10.429</td><td>2</td></tr><tr><td>5</td><td>1.803</td><td>11.253</td><td>3</td></tr><tr><td>5</td><td>2.051</td><td>12.209</td><td>4</td></tr><tr><td>5</td><td>2.518</td><td>13.416</td><td>5</td></tr><tr><td>5</td><td>3.197</td><td>16.106</td><td>6</td></tr><tr><td>5</td><td>3.413</td><td>17.264</td><td>7</td></tr><tr><td>5</td><td>3.913</td><td>19.106</td><td>8</td></tr><tr><td>5</td><td>5.719</td><td>30.548</td><td>9</td></tr><tr><td>5</td><td>6.379</td><td>36.746</td><td>10</td></tr><tr><td>6</td><td>0.376</td><td>10.522</td><td>1</td></tr><tr><td>6</td><td>2.142</td><td>13.562</td><td>2</td></tr><tr><td>6</td><td>2.754</td><td>15.725</td><td>3</td></tr><tr><td>6</td><td>3.211</td><td>17.822</td><td>4</td></tr><tr><td>6</td><td>3.561</td><td>19.128</td><td>5</td></tr><tr><td>6</td><td>3.606</td><td>19.59</td><td>6</td></tr><tr><td>6</td><td>3.591</td><td>19.771</td><td>7</td></tr><tr><td>6</td><td>3.948</td><td>21.4</td><td>8</td></tr><tr><td>6</td><td>4.13</td><td>22.184</td><td>9</td></tr><tr><td>6</td><td>6.126</td><td>35.939</td><td>10</td></tr><tr><td>6</td><td>6.594</td><td>39.965</td><td>11</td></tr><tr><td>6</td><td>6.703</td><td>40.602</td><td>12</td></tr><tr><td>6</td><td>7.283</td><td>46.453</td><td>13</td></tr><tr><td>6</td><td>7.711</td><td>50.986</td><td>14</td></tr><tr><td>6</td><td>7.775</td><td>51.142</td><td>15</td></tr><tr><td>6</td><td>7.909</td><td>53.018</td><td>16</td></tr><tr><td>7</td><td>0.309</td><td>12.027</td><td>1</td></tr><tr><td>7</td><td>0.423</td><td>12.132</td><td>2</td></tr><tr><td>7</td><td>0.13</td><td>12.591</td><td>3</td></tr><tr><td>7</td><td>0.508</td><td>12.647</td><td>4</td></tr><tr><td>7</td><td>2.913</td><td>18.238</td><td>5</td></tr><tr><td>7</td><td>4.067</td><td>23.149</td><td>6</td></tr><tr><td>7</td><td>4.218</td><td>24.318</td><td>7</td></tr><tr><td>7</td><td>4.182</td><td>24.394</td><td>8</td></tr><tr><td>7</td><td>4.875</td><td>28.043</td><td>9</td></tr><tr><td>7</td><td>6.049</td><td>36.653</td><td>10</td></tr><tr><td>7</td><td>6.376</td><td>40.024</td><td>11</td></tr><tr><td>7</td><td>6.533</td><td>41.358</td><td>12</td></tr><tr><td>7</td><td>7.451</td><td>49.544</td><td>13</td></tr><tr><td>7</td><td>7.649</td><td>51.583</td><td>14</td></tr><tr><td>7</td><td>7.957</td><td>54.321</td><td>15</td></tr><tr><td>8</td><td>0.932</td><td>15.038</td><td>1</td></tr><tr><td>8</td><td>1.982</td><td>16.461</td><td>2</td></tr><tr><td>8</td><td>2.262</td><td>17.705</td><td>3</td></tr><tr><td>8</td><td>2.73</td><td>19.564</td><td>4</td></tr><tr><td>8</td><td>3.864</td><td>24.172</td><td>5</td></tr><tr><td>8</td><td>3.919</td><td>24.451</td><td>6</td></tr><tr><td>8</td><td>3.977</td><td>25.133</td><td>7</td></tr><tr><td>8</td><td>4.378</td><td>26.532</td><td>8</td></tr><tr><td>8</td><td>5.985</td><td>38.278</td><td>9</td></tr><tr><td>8</td><td>6.08</td><td>38.49</td><td>10</td></tr><tr><td>8</td><td>6.201</td><td>39.957</td><td>11</td></tr><tr><td>8</td><td>6.471</td><td>42.426</td><td>12</td></tr><tr><td>8</td><td>7.468</td><td>51.343</td><td>13</td></tr><tr><td>8</td><td>7.591</td><td>53.158</td><td>14</td></tr><tr><td>8</td><td>7.641</td><td>53.359</td><td>15</td></tr><tr><td>8</td><td>7.811</td><td>55.299</td><td>16</td></tr></tbody></table></div>"
      ]
     },
     "metadata": {
      "application/vnd.databricks.v1+output": {
       "addedWidgets": {},
       "aggData": [],
       "aggError": "",
       "aggOverflow": false,
       "aggSchema": [],
       "aggSeriesLimitReached": false,
       "aggType": "",
       "arguments": {},
       "columnCustomDisplayInfos": {},
       "data": [
        [
         3,
         0.301,
         5.609,
         1
        ],
        [
         3,
         1.033,
         6.053,
         2
        ],
        [
         3,
         0.55,
         6.185,
         3
        ],
        [
         3,
         0.803,
         6.217,
         4
        ],
        [
         3,
         0.805,
         6.349,
         5
        ],
        [
         3,
         1.407,
         6.623,
         6
        ],
        [
         3,
         1.629,
         7.014,
         7
        ],
        [
         3,
         1.923,
         8.1,
         8
        ],
        [
         3,
         2.061,
         8.924,
         9
        ],
        [
         3,
         2.908,
         11.397,
         10
        ],
        [
         3,
         4.083,
         17.171,
         11
        ],
        [
         3,
         4.274,
         17.672,
         12
        ],
        [
         3,
         4.508,
         19.202,
         13
        ],
        [
         3,
         4.633,
         20.398,
         14
        ],
        [
         3,
         4.869,
         21.379,
         15
        ],
        [
         3,
         5.635,
         26.882,
         16
        ],
        [
         3,
         6.063,
         29.889,
         17
        ],
        [
         3,
         6.173,
         30.862,
         18
        ],
        [
         3,
         6.198,
         31.236,
         19
        ],
        [
         3,
         6.335,
         32.357,
         20
        ],
        [
         3,
         7.353,
         42.036,
         21
        ],
        [
         3,
         7.543,
         43.978,
         22
        ],
        [
         4,
         0.14,
         7.336,
         1
        ],
        [
         4,
         0.096,
         7.734,
         2
        ],
        [
         4,
         0.771,
         7.892,
         3
        ],
        [
         4,
         1.299,
         8.837,
         4
        ],
        [
         4,
         1.395,
         8.92,
         5
        ],
        [
         4,
         1.954,
         9.742,
         6
        ],
        [
         4,
         2.438,
         10.844,
         7
        ],
        [
         4,
         2.966,
         13.119,
         8
        ],
        [
         4,
         3.133,
         13.811,
         9
        ],
        [
         4,
         3.635,
         16.517,
         10
        ],
        [
         4,
         3.736,
         16.606,
         11
        ],
        [
         4,
         3.797,
         16.703,
         12
        ],
        [
         4,
         4.26,
         19.466,
         13
        ],
        [
         4,
         4.41,
         20.348,
         14
        ],
        [
         4,
         4.733,
         22.073,
         15
        ],
        [
         4,
         4.779,
         22.701,
         16
        ],
        [
         4,
         5.027,
         23.916,
         17
        ],
        [
         4,
         5.473,
         27.569,
         18
        ],
        [
         4,
         6.954,
         39.952,
         19
        ],
        [
         4,
         7.163,
         41.444,
         20
        ],
        [
         4,
         7.41,
         44.099,
         21
        ],
        [
         5,
         0.156,
         9.333,
         1
        ],
        [
         5,
         1.557,
         10.429,
         2
        ],
        [
         5,
         1.803,
         11.253,
         3
        ],
        [
         5,
         2.051,
         12.209,
         4
        ],
        [
         5,
         2.518,
         13.416,
         5
        ],
        [
         5,
         3.197,
         16.106,
         6
        ],
        [
         5,
         3.413,
         17.264,
         7
        ],
        [
         5,
         3.913,
         19.106,
         8
        ],
        [
         5,
         5.719,
         30.548,
         9
        ],
        [
         5,
         6.379,
         36.746,
         10
        ],
        [
         6,
         0.376,
         10.522,
         1
        ],
        [
         6,
         2.142,
         13.562,
         2
        ],
        [
         6,
         2.754,
         15.725,
         3
        ],
        [
         6,
         3.211,
         17.822,
         4
        ],
        [
         6,
         3.561,
         19.128,
         5
        ],
        [
         6,
         3.606,
         19.59,
         6
        ],
        [
         6,
         3.591,
         19.771,
         7
        ],
        [
         6,
         3.948,
         21.4,
         8
        ],
        [
         6,
         4.13,
         22.184,
         9
        ],
        [
         6,
         6.126,
         35.939,
         10
        ],
        [
         6,
         6.594,
         39.965,
         11
        ],
        [
         6,
         6.703,
         40.602,
         12
        ],
        [
         6,
         7.283,
         46.453,
         13
        ],
        [
         6,
         7.711,
         50.986,
         14
        ],
        [
         6,
         7.775,
         51.142,
         15
        ],
        [
         6,
         7.909,
         53.018,
         16
        ],
        [
         7,
         0.309,
         12.027,
         1
        ],
        [
         7,
         0.423,
         12.132,
         2
        ],
        [
         7,
         0.13,
         12.591,
         3
        ],
        [
         7,
         0.508,
         12.647,
         4
        ],
        [
         7,
         2.913,
         18.238,
         5
        ],
        [
         7,
         4.067,
         23.149,
         6
        ],
        [
         7,
         4.218,
         24.318,
         7
        ],
        [
         7,
         4.182,
         24.394,
         8
        ],
        [
         7,
         4.875,
         28.043,
         9
        ],
        [
         7,
         6.049,
         36.653,
         10
        ],
        [
         7,
         6.376,
         40.024,
         11
        ],
        [
         7,
         6.533,
         41.358,
         12
        ],
        [
         7,
         7.451,
         49.544,
         13
        ],
        [
         7,
         7.649,
         51.583,
         14
        ],
        [
         7,
         7.957,
         54.321,
         15
        ],
        [
         8,
         0.932,
         15.038,
         1
        ],
        [
         8,
         1.982,
         16.461,
         2
        ],
        [
         8,
         2.262,
         17.705,
         3
        ],
        [
         8,
         2.73,
         19.564,
         4
        ],
        [
         8,
         3.864,
         24.172,
         5
        ],
        [
         8,
         3.919,
         24.451,
         6
        ],
        [
         8,
         3.977,
         25.133,
         7
        ],
        [
         8,
         4.378,
         26.532,
         8
        ],
        [
         8,
         5.985,
         38.278,
         9
        ],
        [
         8,
         6.08,
         38.49,
         10
        ],
        [
         8,
         6.201,
         39.957,
         11
        ],
        [
         8,
         6.471,
         42.426,
         12
        ],
        [
         8,
         7.468,
         51.343,
         13
        ],
        [
         8,
         7.591,
         53.158,
         14
        ],
        [
         8,
         7.641,
         53.359,
         15
        ],
        [
         8,
         7.811,
         55.299,
         16
        ]
       ],
       "datasetInfos": [],
       "dbfsResultPath": null,
       "isJsonSchema": true,
       "metadata": {},
       "overflow": false,
       "plotOptions": {
        "customPlotOptions": {},
        "displayType": "table",
        "pivotAggregation": null,
        "pivotColumns": null,
        "xColumns": null,
        "yColumns": null
       },
       "removedWidgets": [],
       "schema": [
        {
         "metadata": "{}",
         "name": "number_courses",
         "type": "\"integer\""
        },
        {
         "metadata": "{}",
         "name": "time_study",
         "type": "\"double\""
        },
        {
         "metadata": "{}",
         "name": "Marks",
         "type": "\"double\""
        },
        {
         "metadata": "{}",
         "name": "Dense_Rank",
         "type": "\"integer\""
        }
       ],
       "type": "table"
      }
     },
     "output_type": "display_data"
    },
    {
     "output_type": "display_data",
     "data": {
      "text/html": [
       "<style scoped>\n",
       "  .table-result-container {\n",
       "    max-height: 300px;\n",
       "    overflow: auto;\n",
       "  }\n",
       "  table, th, td {\n",
       "    border: 1px solid black;\n",
       "    border-collapse: collapse;\n",
       "  }\n",
       "  th, td {\n",
       "    padding: 5px;\n",
       "  }\n",
       "  th {\n",
       "    text-align: left;\n",
       "  }\n",
       "</style><div class='table-result-container'><table class='table-result'><thead style='background-color: white'><tr><th>number_courses</th><th>time_study</th><th>Marks</th><th>Percent_Rank</th></tr></thead><tbody><tr><td>3</td><td>0.301</td><td>5.609</td><td>0.0</td></tr><tr><td>3</td><td>1.033</td><td>6.053</td><td>0.047619047619047616</td></tr><tr><td>3</td><td>0.55</td><td>6.185</td><td>0.09523809523809523</td></tr><tr><td>3</td><td>0.803</td><td>6.217</td><td>0.14285714285714285</td></tr><tr><td>3</td><td>0.805</td><td>6.349</td><td>0.19047619047619047</td></tr><tr><td>3</td><td>1.407</td><td>6.623</td><td>0.23809523809523808</td></tr><tr><td>3</td><td>1.629</td><td>7.014</td><td>0.2857142857142857</td></tr><tr><td>3</td><td>1.923</td><td>8.1</td><td>0.3333333333333333</td></tr><tr><td>3</td><td>2.061</td><td>8.924</td><td>0.38095238095238093</td></tr><tr><td>3</td><td>2.908</td><td>11.397</td><td>0.42857142857142855</td></tr><tr><td>3</td><td>4.083</td><td>17.171</td><td>0.47619047619047616</td></tr><tr><td>3</td><td>4.274</td><td>17.672</td><td>0.5238095238095238</td></tr><tr><td>3</td><td>4.508</td><td>19.202</td><td>0.5714285714285714</td></tr><tr><td>3</td><td>4.633</td><td>20.398</td><td>0.6190476190476191</td></tr><tr><td>3</td><td>4.869</td><td>21.379</td><td>0.6666666666666666</td></tr><tr><td>3</td><td>5.635</td><td>26.882</td><td>0.7142857142857143</td></tr><tr><td>3</td><td>6.063</td><td>29.889</td><td>0.7619047619047619</td></tr><tr><td>3</td><td>6.173</td><td>30.862</td><td>0.8095238095238095</td></tr><tr><td>3</td><td>6.198</td><td>31.236</td><td>0.8571428571428571</td></tr><tr><td>3</td><td>6.335</td><td>32.357</td><td>0.9047619047619048</td></tr><tr><td>3</td><td>7.353</td><td>42.036</td><td>0.9523809523809523</td></tr><tr><td>3</td><td>7.543</td><td>43.978</td><td>1.0</td></tr><tr><td>4</td><td>0.14</td><td>7.336</td><td>0.0</td></tr><tr><td>4</td><td>0.096</td><td>7.734</td><td>0.05</td></tr><tr><td>4</td><td>0.771</td><td>7.892</td><td>0.1</td></tr><tr><td>4</td><td>1.299</td><td>8.837</td><td>0.15</td></tr><tr><td>4</td><td>1.395</td><td>8.92</td><td>0.2</td></tr><tr><td>4</td><td>1.954</td><td>9.742</td><td>0.25</td></tr><tr><td>4</td><td>2.438</td><td>10.844</td><td>0.3</td></tr><tr><td>4</td><td>2.966</td><td>13.119</td><td>0.35</td></tr><tr><td>4</td><td>3.133</td><td>13.811</td><td>0.4</td></tr><tr><td>4</td><td>3.635</td><td>16.517</td><td>0.45</td></tr><tr><td>4</td><td>3.736</td><td>16.606</td><td>0.5</td></tr><tr><td>4</td><td>3.797</td><td>16.703</td><td>0.55</td></tr><tr><td>4</td><td>4.26</td><td>19.466</td><td>0.6</td></tr><tr><td>4</td><td>4.41</td><td>20.348</td><td>0.65</td></tr><tr><td>4</td><td>4.733</td><td>22.073</td><td>0.7</td></tr><tr><td>4</td><td>4.779</td><td>22.701</td><td>0.75</td></tr><tr><td>4</td><td>5.027</td><td>23.916</td><td>0.8</td></tr><tr><td>4</td><td>5.473</td><td>27.569</td><td>0.85</td></tr><tr><td>4</td><td>6.954</td><td>39.952</td><td>0.9</td></tr><tr><td>4</td><td>7.163</td><td>41.444</td><td>0.95</td></tr><tr><td>4</td><td>7.41</td><td>44.099</td><td>1.0</td></tr><tr><td>5</td><td>0.156</td><td>9.333</td><td>0.0</td></tr><tr><td>5</td><td>1.557</td><td>10.429</td><td>0.1111111111111111</td></tr><tr><td>5</td><td>1.803</td><td>11.253</td><td>0.2222222222222222</td></tr><tr><td>5</td><td>2.051</td><td>12.209</td><td>0.3333333333333333</td></tr><tr><td>5</td><td>2.518</td><td>13.416</td><td>0.4444444444444444</td></tr><tr><td>5</td><td>3.197</td><td>16.106</td><td>0.5555555555555556</td></tr><tr><td>5</td><td>3.413</td><td>17.264</td><td>0.6666666666666666</td></tr><tr><td>5</td><td>3.913</td><td>19.106</td><td>0.7777777777777778</td></tr><tr><td>5</td><td>5.719</td><td>30.548</td><td>0.8888888888888888</td></tr><tr><td>5</td><td>6.379</td><td>36.746</td><td>1.0</td></tr><tr><td>6</td><td>0.376</td><td>10.522</td><td>0.0</td></tr><tr><td>6</td><td>2.142</td><td>13.562</td><td>0.06666666666666667</td></tr><tr><td>6</td><td>2.754</td><td>15.725</td><td>0.13333333333333333</td></tr><tr><td>6</td><td>3.211</td><td>17.822</td><td>0.2</td></tr><tr><td>6</td><td>3.561</td><td>19.128</td><td>0.26666666666666666</td></tr><tr><td>6</td><td>3.606</td><td>19.59</td><td>0.3333333333333333</td></tr><tr><td>6</td><td>3.591</td><td>19.771</td><td>0.4</td></tr><tr><td>6</td><td>3.948</td><td>21.4</td><td>0.4666666666666667</td></tr><tr><td>6</td><td>4.13</td><td>22.184</td><td>0.5333333333333333</td></tr><tr><td>6</td><td>6.126</td><td>35.939</td><td>0.6</td></tr><tr><td>6</td><td>6.594</td><td>39.965</td><td>0.6666666666666666</td></tr><tr><td>6</td><td>6.703</td><td>40.602</td><td>0.7333333333333333</td></tr><tr><td>6</td><td>7.283</td><td>46.453</td><td>0.8</td></tr><tr><td>6</td><td>7.711</td><td>50.986</td><td>0.8666666666666667</td></tr><tr><td>6</td><td>7.775</td><td>51.142</td><td>0.9333333333333333</td></tr><tr><td>6</td><td>7.909</td><td>53.018</td><td>1.0</td></tr><tr><td>7</td><td>0.309</td><td>12.027</td><td>0.0</td></tr><tr><td>7</td><td>0.423</td><td>12.132</td><td>0.07142857142857142</td></tr><tr><td>7</td><td>0.13</td><td>12.591</td><td>0.14285714285714285</td></tr><tr><td>7</td><td>0.508</td><td>12.647</td><td>0.21428571428571427</td></tr><tr><td>7</td><td>2.913</td><td>18.238</td><td>0.2857142857142857</td></tr><tr><td>7</td><td>4.067</td><td>23.149</td><td>0.35714285714285715</td></tr><tr><td>7</td><td>4.218</td><td>24.318</td><td>0.42857142857142855</td></tr><tr><td>7</td><td>4.182</td><td>24.394</td><td>0.5</td></tr><tr><td>7</td><td>4.875</td><td>28.043</td><td>0.5714285714285714</td></tr><tr><td>7</td><td>6.049</td><td>36.653</td><td>0.6428571428571429</td></tr><tr><td>7</td><td>6.376</td><td>40.024</td><td>0.7142857142857143</td></tr><tr><td>7</td><td>6.533</td><td>41.358</td><td>0.7857142857142857</td></tr><tr><td>7</td><td>7.451</td><td>49.544</td><td>0.8571428571428571</td></tr><tr><td>7</td><td>7.649</td><td>51.583</td><td>0.9285714285714286</td></tr><tr><td>7</td><td>7.957</td><td>54.321</td><td>1.0</td></tr><tr><td>8</td><td>0.932</td><td>15.038</td><td>0.0</td></tr><tr><td>8</td><td>1.982</td><td>16.461</td><td>0.06666666666666667</td></tr><tr><td>8</td><td>2.262</td><td>17.705</td><td>0.13333333333333333</td></tr><tr><td>8</td><td>2.73</td><td>19.564</td><td>0.2</td></tr><tr><td>8</td><td>3.864</td><td>24.172</td><td>0.26666666666666666</td></tr><tr><td>8</td><td>3.919</td><td>24.451</td><td>0.3333333333333333</td></tr><tr><td>8</td><td>3.977</td><td>25.133</td><td>0.4</td></tr><tr><td>8</td><td>4.378</td><td>26.532</td><td>0.4666666666666667</td></tr><tr><td>8</td><td>5.985</td><td>38.278</td><td>0.5333333333333333</td></tr><tr><td>8</td><td>6.08</td><td>38.49</td><td>0.6</td></tr><tr><td>8</td><td>6.201</td><td>39.957</td><td>0.6666666666666666</td></tr><tr><td>8</td><td>6.471</td><td>42.426</td><td>0.7333333333333333</td></tr><tr><td>8</td><td>7.468</td><td>51.343</td><td>0.8</td></tr><tr><td>8</td><td>7.591</td><td>53.158</td><td>0.8666666666666667</td></tr><tr><td>8</td><td>7.641</td><td>53.359</td><td>0.9333333333333333</td></tr><tr><td>8</td><td>7.811</td><td>55.299</td><td>1.0</td></tr></tbody></table></div>"
      ]
     },
     "metadata": {
      "application/vnd.databricks.v1+output": {
       "addedWidgets": {},
       "aggData": [],
       "aggError": "",
       "aggOverflow": false,
       "aggSchema": [],
       "aggSeriesLimitReached": false,
       "aggType": "",
       "arguments": {},
       "columnCustomDisplayInfos": {},
       "data": [
        [
         3,
         0.301,
         5.609,
         0.0
        ],
        [
         3,
         1.033,
         6.053,
         0.047619047619047616
        ],
        [
         3,
         0.55,
         6.185,
         0.09523809523809523
        ],
        [
         3,
         0.803,
         6.217,
         0.14285714285714285
        ],
        [
         3,
         0.805,
         6.349,
         0.19047619047619047
        ],
        [
         3,
         1.407,
         6.623,
         0.23809523809523808
        ],
        [
         3,
         1.629,
         7.014,
         0.2857142857142857
        ],
        [
         3,
         1.923,
         8.1,
         0.3333333333333333
        ],
        [
         3,
         2.061,
         8.924,
         0.38095238095238093
        ],
        [
         3,
         2.908,
         11.397,
         0.42857142857142855
        ],
        [
         3,
         4.083,
         17.171,
         0.47619047619047616
        ],
        [
         3,
         4.274,
         17.672,
         0.5238095238095238
        ],
        [
         3,
         4.508,
         19.202,
         0.5714285714285714
        ],
        [
         3,
         4.633,
         20.398,
         0.6190476190476191
        ],
        [
         3,
         4.869,
         21.379,
         0.6666666666666666
        ],
        [
         3,
         5.635,
         26.882,
         0.7142857142857143
        ],
        [
         3,
         6.063,
         29.889,
         0.7619047619047619
        ],
        [
         3,
         6.173,
         30.862,
         0.8095238095238095
        ],
        [
         3,
         6.198,
         31.236,
         0.8571428571428571
        ],
        [
         3,
         6.335,
         32.357,
         0.9047619047619048
        ],
        [
         3,
         7.353,
         42.036,
         0.9523809523809523
        ],
        [
         3,
         7.543,
         43.978,
         1.0
        ],
        [
         4,
         0.14,
         7.336,
         0.0
        ],
        [
         4,
         0.096,
         7.734,
         0.05
        ],
        [
         4,
         0.771,
         7.892,
         0.1
        ],
        [
         4,
         1.299,
         8.837,
         0.15
        ],
        [
         4,
         1.395,
         8.92,
         0.2
        ],
        [
         4,
         1.954,
         9.742,
         0.25
        ],
        [
         4,
         2.438,
         10.844,
         0.3
        ],
        [
         4,
         2.966,
         13.119,
         0.35
        ],
        [
         4,
         3.133,
         13.811,
         0.4
        ],
        [
         4,
         3.635,
         16.517,
         0.45
        ],
        [
         4,
         3.736,
         16.606,
         0.5
        ],
        [
         4,
         3.797,
         16.703,
         0.55
        ],
        [
         4,
         4.26,
         19.466,
         0.6
        ],
        [
         4,
         4.41,
         20.348,
         0.65
        ],
        [
         4,
         4.733,
         22.073,
         0.7
        ],
        [
         4,
         4.779,
         22.701,
         0.75
        ],
        [
         4,
         5.027,
         23.916,
         0.8
        ],
        [
         4,
         5.473,
         27.569,
         0.85
        ],
        [
         4,
         6.954,
         39.952,
         0.9
        ],
        [
         4,
         7.163,
         41.444,
         0.95
        ],
        [
         4,
         7.41,
         44.099,
         1.0
        ],
        [
         5,
         0.156,
         9.333,
         0.0
        ],
        [
         5,
         1.557,
         10.429,
         0.1111111111111111
        ],
        [
         5,
         1.803,
         11.253,
         0.2222222222222222
        ],
        [
         5,
         2.051,
         12.209,
         0.3333333333333333
        ],
        [
         5,
         2.518,
         13.416,
         0.4444444444444444
        ],
        [
         5,
         3.197,
         16.106,
         0.5555555555555556
        ],
        [
         5,
         3.413,
         17.264,
         0.6666666666666666
        ],
        [
         5,
         3.913,
         19.106,
         0.7777777777777778
        ],
        [
         5,
         5.719,
         30.548,
         0.8888888888888888
        ],
        [
         5,
         6.379,
         36.746,
         1.0
        ],
        [
         6,
         0.376,
         10.522,
         0.0
        ],
        [
         6,
         2.142,
         13.562,
         0.06666666666666667
        ],
        [
         6,
         2.754,
         15.725,
         0.13333333333333333
        ],
        [
         6,
         3.211,
         17.822,
         0.2
        ],
        [
         6,
         3.561,
         19.128,
         0.26666666666666666
        ],
        [
         6,
         3.606,
         19.59,
         0.3333333333333333
        ],
        [
         6,
         3.591,
         19.771,
         0.4
        ],
        [
         6,
         3.948,
         21.4,
         0.4666666666666667
        ],
        [
         6,
         4.13,
         22.184,
         0.5333333333333333
        ],
        [
         6,
         6.126,
         35.939,
         0.6
        ],
        [
         6,
         6.594,
         39.965,
         0.6666666666666666
        ],
        [
         6,
         6.703,
         40.602,
         0.7333333333333333
        ],
        [
         6,
         7.283,
         46.453,
         0.8
        ],
        [
         6,
         7.711,
         50.986,
         0.8666666666666667
        ],
        [
         6,
         7.775,
         51.142,
         0.9333333333333333
        ],
        [
         6,
         7.909,
         53.018,
         1.0
        ],
        [
         7,
         0.309,
         12.027,
         0.0
        ],
        [
         7,
         0.423,
         12.132,
         0.07142857142857142
        ],
        [
         7,
         0.13,
         12.591,
         0.14285714285714285
        ],
        [
         7,
         0.508,
         12.647,
         0.21428571428571427
        ],
        [
         7,
         2.913,
         18.238,
         0.2857142857142857
        ],
        [
         7,
         4.067,
         23.149,
         0.35714285714285715
        ],
        [
         7,
         4.218,
         24.318,
         0.42857142857142855
        ],
        [
         7,
         4.182,
         24.394,
         0.5
        ],
        [
         7,
         4.875,
         28.043,
         0.5714285714285714
        ],
        [
         7,
         6.049,
         36.653,
         0.6428571428571429
        ],
        [
         7,
         6.376,
         40.024,
         0.7142857142857143
        ],
        [
         7,
         6.533,
         41.358,
         0.7857142857142857
        ],
        [
         7,
         7.451,
         49.544,
         0.8571428571428571
        ],
        [
         7,
         7.649,
         51.583,
         0.9285714285714286
        ],
        [
         7,
         7.957,
         54.321,
         1.0
        ],
        [
         8,
         0.932,
         15.038,
         0.0
        ],
        [
         8,
         1.982,
         16.461,
         0.06666666666666667
        ],
        [
         8,
         2.262,
         17.705,
         0.13333333333333333
        ],
        [
         8,
         2.73,
         19.564,
         0.2
        ],
        [
         8,
         3.864,
         24.172,
         0.26666666666666666
        ],
        [
         8,
         3.919,
         24.451,
         0.3333333333333333
        ],
        [
         8,
         3.977,
         25.133,
         0.4
        ],
        [
         8,
         4.378,
         26.532,
         0.4666666666666667
        ],
        [
         8,
         5.985,
         38.278,
         0.5333333333333333
        ],
        [
         8,
         6.08,
         38.49,
         0.6
        ],
        [
         8,
         6.201,
         39.957,
         0.6666666666666666
        ],
        [
         8,
         6.471,
         42.426,
         0.7333333333333333
        ],
        [
         8,
         7.468,
         51.343,
         0.8
        ],
        [
         8,
         7.591,
         53.158,
         0.8666666666666667
        ],
        [
         8,
         7.641,
         53.359,
         0.9333333333333333
        ],
        [
         8,
         7.811,
         55.299,
         1.0
        ]
       ],
       "datasetInfos": [],
       "dbfsResultPath": null,
       "isJsonSchema": true,
       "metadata": {},
       "overflow": false,
       "plotOptions": {
        "customPlotOptions": {},
        "displayType": "table",
        "pivotAggregation": null,
        "pivotColumns": null,
        "xColumns": null,
        "yColumns": null
       },
       "removedWidgets": [],
       "schema": [
        {
         "metadata": "{}",
         "name": "number_courses",
         "type": "\"integer\""
        },
        {
         "metadata": "{}",
         "name": "time_study",
         "type": "\"double\""
        },
        {
         "metadata": "{}",
         "name": "Marks",
         "type": "\"double\""
        },
        {
         "metadata": "{}",
         "name": "Percent_Rank",
         "type": "\"double\""
        }
       ],
       "type": "table"
      }
     },
     "output_type": "display_data"
    },
    {
     "output_type": "display_data",
     "data": {
      "text/html": [
       "<style scoped>\n",
       "  .table-result-container {\n",
       "    max-height: 300px;\n",
       "    overflow: auto;\n",
       "  }\n",
       "  table, th, td {\n",
       "    border: 1px solid black;\n",
       "    border-collapse: collapse;\n",
       "  }\n",
       "  th, td {\n",
       "    padding: 5px;\n",
       "  }\n",
       "  th {\n",
       "    text-align: left;\n",
       "  }\n",
       "</style><div class='table-result-container'><table class='table-result'><thead style='background-color: white'><tr><th>number_courses</th><th>time_study</th><th>Marks</th><th>Cummulative_Distribution</th></tr></thead><tbody><tr><td>3</td><td>0.301</td><td>5.609</td><td>0.045454545454545456</td></tr><tr><td>3</td><td>1.033</td><td>6.053</td><td>0.09090909090909091</td></tr><tr><td>3</td><td>0.55</td><td>6.185</td><td>0.13636363636363635</td></tr><tr><td>3</td><td>0.803</td><td>6.217</td><td>0.18181818181818182</td></tr><tr><td>3</td><td>0.805</td><td>6.349</td><td>0.22727272727272727</td></tr><tr><td>3</td><td>1.407</td><td>6.623</td><td>0.2727272727272727</td></tr><tr><td>3</td><td>1.629</td><td>7.014</td><td>0.3181818181818182</td></tr><tr><td>3</td><td>1.923</td><td>8.1</td><td>0.36363636363636365</td></tr><tr><td>3</td><td>2.061</td><td>8.924</td><td>0.4090909090909091</td></tr><tr><td>3</td><td>2.908</td><td>11.397</td><td>0.45454545454545453</td></tr><tr><td>3</td><td>4.083</td><td>17.171</td><td>0.5</td></tr><tr><td>3</td><td>4.274</td><td>17.672</td><td>0.5454545454545454</td></tr><tr><td>3</td><td>4.508</td><td>19.202</td><td>0.5909090909090909</td></tr><tr><td>3</td><td>4.633</td><td>20.398</td><td>0.6363636363636364</td></tr><tr><td>3</td><td>4.869</td><td>21.379</td><td>0.6818181818181818</td></tr><tr><td>3</td><td>5.635</td><td>26.882</td><td>0.7272727272727273</td></tr><tr><td>3</td><td>6.063</td><td>29.889</td><td>0.7727272727272727</td></tr><tr><td>3</td><td>6.173</td><td>30.862</td><td>0.8181818181818182</td></tr><tr><td>3</td><td>6.198</td><td>31.236</td><td>0.8636363636363636</td></tr><tr><td>3</td><td>6.335</td><td>32.357</td><td>0.9090909090909091</td></tr><tr><td>3</td><td>7.353</td><td>42.036</td><td>0.9545454545454546</td></tr><tr><td>3</td><td>7.543</td><td>43.978</td><td>1.0</td></tr><tr><td>4</td><td>0.14</td><td>7.336</td><td>0.047619047619047616</td></tr><tr><td>4</td><td>0.096</td><td>7.734</td><td>0.09523809523809523</td></tr><tr><td>4</td><td>0.771</td><td>7.892</td><td>0.14285714285714285</td></tr><tr><td>4</td><td>1.299</td><td>8.837</td><td>0.19047619047619047</td></tr><tr><td>4</td><td>1.395</td><td>8.92</td><td>0.23809523809523808</td></tr><tr><td>4</td><td>1.954</td><td>9.742</td><td>0.2857142857142857</td></tr><tr><td>4</td><td>2.438</td><td>10.844</td><td>0.3333333333333333</td></tr><tr><td>4</td><td>2.966</td><td>13.119</td><td>0.38095238095238093</td></tr><tr><td>4</td><td>3.133</td><td>13.811</td><td>0.42857142857142855</td></tr><tr><td>4</td><td>3.635</td><td>16.517</td><td>0.47619047619047616</td></tr><tr><td>4</td><td>3.736</td><td>16.606</td><td>0.5238095238095238</td></tr><tr><td>4</td><td>3.797</td><td>16.703</td><td>0.5714285714285714</td></tr><tr><td>4</td><td>4.26</td><td>19.466</td><td>0.6190476190476191</td></tr><tr><td>4</td><td>4.41</td><td>20.348</td><td>0.6666666666666666</td></tr><tr><td>4</td><td>4.733</td><td>22.073</td><td>0.7142857142857143</td></tr><tr><td>4</td><td>4.779</td><td>22.701</td><td>0.7619047619047619</td></tr><tr><td>4</td><td>5.027</td><td>23.916</td><td>0.8095238095238095</td></tr><tr><td>4</td><td>5.473</td><td>27.569</td><td>0.8571428571428571</td></tr><tr><td>4</td><td>6.954</td><td>39.952</td><td>0.9047619047619048</td></tr><tr><td>4</td><td>7.163</td><td>41.444</td><td>0.9523809523809523</td></tr><tr><td>4</td><td>7.41</td><td>44.099</td><td>1.0</td></tr><tr><td>5</td><td>0.156</td><td>9.333</td><td>0.1</td></tr><tr><td>5</td><td>1.557</td><td>10.429</td><td>0.2</td></tr><tr><td>5</td><td>1.803</td><td>11.253</td><td>0.3</td></tr><tr><td>5</td><td>2.051</td><td>12.209</td><td>0.4</td></tr><tr><td>5</td><td>2.518</td><td>13.416</td><td>0.5</td></tr><tr><td>5</td><td>3.197</td><td>16.106</td><td>0.6</td></tr><tr><td>5</td><td>3.413</td><td>17.264</td><td>0.7</td></tr><tr><td>5</td><td>3.913</td><td>19.106</td><td>0.8</td></tr><tr><td>5</td><td>5.719</td><td>30.548</td><td>0.9</td></tr><tr><td>5</td><td>6.379</td><td>36.746</td><td>1.0</td></tr><tr><td>6</td><td>0.376</td><td>10.522</td><td>0.0625</td></tr><tr><td>6</td><td>2.142</td><td>13.562</td><td>0.125</td></tr><tr><td>6</td><td>2.754</td><td>15.725</td><td>0.1875</td></tr><tr><td>6</td><td>3.211</td><td>17.822</td><td>0.25</td></tr><tr><td>6</td><td>3.561</td><td>19.128</td><td>0.3125</td></tr><tr><td>6</td><td>3.606</td><td>19.59</td><td>0.375</td></tr><tr><td>6</td><td>3.591</td><td>19.771</td><td>0.4375</td></tr><tr><td>6</td><td>3.948</td><td>21.4</td><td>0.5</td></tr><tr><td>6</td><td>4.13</td><td>22.184</td><td>0.5625</td></tr><tr><td>6</td><td>6.126</td><td>35.939</td><td>0.625</td></tr><tr><td>6</td><td>6.594</td><td>39.965</td><td>0.6875</td></tr><tr><td>6</td><td>6.703</td><td>40.602</td><td>0.75</td></tr><tr><td>6</td><td>7.283</td><td>46.453</td><td>0.8125</td></tr><tr><td>6</td><td>7.711</td><td>50.986</td><td>0.875</td></tr><tr><td>6</td><td>7.775</td><td>51.142</td><td>0.9375</td></tr><tr><td>6</td><td>7.909</td><td>53.018</td><td>1.0</td></tr><tr><td>7</td><td>0.309</td><td>12.027</td><td>0.06666666666666667</td></tr><tr><td>7</td><td>0.423</td><td>12.132</td><td>0.13333333333333333</td></tr><tr><td>7</td><td>0.13</td><td>12.591</td><td>0.2</td></tr><tr><td>7</td><td>0.508</td><td>12.647</td><td>0.26666666666666666</td></tr><tr><td>7</td><td>2.913</td><td>18.238</td><td>0.3333333333333333</td></tr><tr><td>7</td><td>4.067</td><td>23.149</td><td>0.4</td></tr><tr><td>7</td><td>4.218</td><td>24.318</td><td>0.4666666666666667</td></tr><tr><td>7</td><td>4.182</td><td>24.394</td><td>0.5333333333333333</td></tr><tr><td>7</td><td>4.875</td><td>28.043</td><td>0.6</td></tr><tr><td>7</td><td>6.049</td><td>36.653</td><td>0.6666666666666666</td></tr><tr><td>7</td><td>6.376</td><td>40.024</td><td>0.7333333333333333</td></tr><tr><td>7</td><td>6.533</td><td>41.358</td><td>0.8</td></tr><tr><td>7</td><td>7.451</td><td>49.544</td><td>0.8666666666666667</td></tr><tr><td>7</td><td>7.649</td><td>51.583</td><td>0.9333333333333333</td></tr><tr><td>7</td><td>7.957</td><td>54.321</td><td>1.0</td></tr><tr><td>8</td><td>0.932</td><td>15.038</td><td>0.0625</td></tr><tr><td>8</td><td>1.982</td><td>16.461</td><td>0.125</td></tr><tr><td>8</td><td>2.262</td><td>17.705</td><td>0.1875</td></tr><tr><td>8</td><td>2.73</td><td>19.564</td><td>0.25</td></tr><tr><td>8</td><td>3.864</td><td>24.172</td><td>0.3125</td></tr><tr><td>8</td><td>3.919</td><td>24.451</td><td>0.375</td></tr><tr><td>8</td><td>3.977</td><td>25.133</td><td>0.4375</td></tr><tr><td>8</td><td>4.378</td><td>26.532</td><td>0.5</td></tr><tr><td>8</td><td>5.985</td><td>38.278</td><td>0.5625</td></tr><tr><td>8</td><td>6.08</td><td>38.49</td><td>0.625</td></tr><tr><td>8</td><td>6.201</td><td>39.957</td><td>0.6875</td></tr><tr><td>8</td><td>6.471</td><td>42.426</td><td>0.75</td></tr><tr><td>8</td><td>7.468</td><td>51.343</td><td>0.8125</td></tr><tr><td>8</td><td>7.591</td><td>53.158</td><td>0.875</td></tr><tr><td>8</td><td>7.641</td><td>53.359</td><td>0.9375</td></tr><tr><td>8</td><td>7.811</td><td>55.299</td><td>1.0</td></tr></tbody></table></div>"
      ]
     },
     "metadata": {
      "application/vnd.databricks.v1+output": {
       "addedWidgets": {},
       "aggData": [],
       "aggError": "",
       "aggOverflow": false,
       "aggSchema": [],
       "aggSeriesLimitReached": false,
       "aggType": "",
       "arguments": {},
       "columnCustomDisplayInfos": {},
       "data": [
        [
         3,
         0.301,
         5.609,
         0.045454545454545456
        ],
        [
         3,
         1.033,
         6.053,
         0.09090909090909091
        ],
        [
         3,
         0.55,
         6.185,
         0.13636363636363635
        ],
        [
         3,
         0.803,
         6.217,
         0.18181818181818182
        ],
        [
         3,
         0.805,
         6.349,
         0.22727272727272727
        ],
        [
         3,
         1.407,
         6.623,
         0.2727272727272727
        ],
        [
         3,
         1.629,
         7.014,
         0.3181818181818182
        ],
        [
         3,
         1.923,
         8.1,
         0.36363636363636365
        ],
        [
         3,
         2.061,
         8.924,
         0.4090909090909091
        ],
        [
         3,
         2.908,
         11.397,
         0.45454545454545453
        ],
        [
         3,
         4.083,
         17.171,
         0.5
        ],
        [
         3,
         4.274,
         17.672,
         0.5454545454545454
        ],
        [
         3,
         4.508,
         19.202,
         0.5909090909090909
        ],
        [
         3,
         4.633,
         20.398,
         0.6363636363636364
        ],
        [
         3,
         4.869,
         21.379,
         0.6818181818181818
        ],
        [
         3,
         5.635,
         26.882,
         0.7272727272727273
        ],
        [
         3,
         6.063,
         29.889,
         0.7727272727272727
        ],
        [
         3,
         6.173,
         30.862,
         0.8181818181818182
        ],
        [
         3,
         6.198,
         31.236,
         0.8636363636363636
        ],
        [
         3,
         6.335,
         32.357,
         0.9090909090909091
        ],
        [
         3,
         7.353,
         42.036,
         0.9545454545454546
        ],
        [
         3,
         7.543,
         43.978,
         1.0
        ],
        [
         4,
         0.14,
         7.336,
         0.047619047619047616
        ],
        [
         4,
         0.096,
         7.734,
         0.09523809523809523
        ],
        [
         4,
         0.771,
         7.892,
         0.14285714285714285
        ],
        [
         4,
         1.299,
         8.837,
         0.19047619047619047
        ],
        [
         4,
         1.395,
         8.92,
         0.23809523809523808
        ],
        [
         4,
         1.954,
         9.742,
         0.2857142857142857
        ],
        [
         4,
         2.438,
         10.844,
         0.3333333333333333
        ],
        [
         4,
         2.966,
         13.119,
         0.38095238095238093
        ],
        [
         4,
         3.133,
         13.811,
         0.42857142857142855
        ],
        [
         4,
         3.635,
         16.517,
         0.47619047619047616
        ],
        [
         4,
         3.736,
         16.606,
         0.5238095238095238
        ],
        [
         4,
         3.797,
         16.703,
         0.5714285714285714
        ],
        [
         4,
         4.26,
         19.466,
         0.6190476190476191
        ],
        [
         4,
         4.41,
         20.348,
         0.6666666666666666
        ],
        [
         4,
         4.733,
         22.073,
         0.7142857142857143
        ],
        [
         4,
         4.779,
         22.701,
         0.7619047619047619
        ],
        [
         4,
         5.027,
         23.916,
         0.8095238095238095
        ],
        [
         4,
         5.473,
         27.569,
         0.8571428571428571
        ],
        [
         4,
         6.954,
         39.952,
         0.9047619047619048
        ],
        [
         4,
         7.163,
         41.444,
         0.9523809523809523
        ],
        [
         4,
         7.41,
         44.099,
         1.0
        ],
        [
         5,
         0.156,
         9.333,
         0.1
        ],
        [
         5,
         1.557,
         10.429,
         0.2
        ],
        [
         5,
         1.803,
         11.253,
         0.3
        ],
        [
         5,
         2.051,
         12.209,
         0.4
        ],
        [
         5,
         2.518,
         13.416,
         0.5
        ],
        [
         5,
         3.197,
         16.106,
         0.6
        ],
        [
         5,
         3.413,
         17.264,
         0.7
        ],
        [
         5,
         3.913,
         19.106,
         0.8
        ],
        [
         5,
         5.719,
         30.548,
         0.9
        ],
        [
         5,
         6.379,
         36.746,
         1.0
        ],
        [
         6,
         0.376,
         10.522,
         0.0625
        ],
        [
         6,
         2.142,
         13.562,
         0.125
        ],
        [
         6,
         2.754,
         15.725,
         0.1875
        ],
        [
         6,
         3.211,
         17.822,
         0.25
        ],
        [
         6,
         3.561,
         19.128,
         0.3125
        ],
        [
         6,
         3.606,
         19.59,
         0.375
        ],
        [
         6,
         3.591,
         19.771,
         0.4375
        ],
        [
         6,
         3.948,
         21.4,
         0.5
        ],
        [
         6,
         4.13,
         22.184,
         0.5625
        ],
        [
         6,
         6.126,
         35.939,
         0.625
        ],
        [
         6,
         6.594,
         39.965,
         0.6875
        ],
        [
         6,
         6.703,
         40.602,
         0.75
        ],
        [
         6,
         7.283,
         46.453,
         0.8125
        ],
        [
         6,
         7.711,
         50.986,
         0.875
        ],
        [
         6,
         7.775,
         51.142,
         0.9375
        ],
        [
         6,
         7.909,
         53.018,
         1.0
        ],
        [
         7,
         0.309,
         12.027,
         0.06666666666666667
        ],
        [
         7,
         0.423,
         12.132,
         0.13333333333333333
        ],
        [
         7,
         0.13,
         12.591,
         0.2
        ],
        [
         7,
         0.508,
         12.647,
         0.26666666666666666
        ],
        [
         7,
         2.913,
         18.238,
         0.3333333333333333
        ],
        [
         7,
         4.067,
         23.149,
         0.4
        ],
        [
         7,
         4.218,
         24.318,
         0.4666666666666667
        ],
        [
         7,
         4.182,
         24.394,
         0.5333333333333333
        ],
        [
         7,
         4.875,
         28.043,
         0.6
        ],
        [
         7,
         6.049,
         36.653,
         0.6666666666666666
        ],
        [
         7,
         6.376,
         40.024,
         0.7333333333333333
        ],
        [
         7,
         6.533,
         41.358,
         0.8
        ],
        [
         7,
         7.451,
         49.544,
         0.8666666666666667
        ],
        [
         7,
         7.649,
         51.583,
         0.9333333333333333
        ],
        [
         7,
         7.957,
         54.321,
         1.0
        ],
        [
         8,
         0.932,
         15.038,
         0.0625
        ],
        [
         8,
         1.982,
         16.461,
         0.125
        ],
        [
         8,
         2.262,
         17.705,
         0.1875
        ],
        [
         8,
         2.73,
         19.564,
         0.25
        ],
        [
         8,
         3.864,
         24.172,
         0.3125
        ],
        [
         8,
         3.919,
         24.451,
         0.375
        ],
        [
         8,
         3.977,
         25.133,
         0.4375
        ],
        [
         8,
         4.378,
         26.532,
         0.5
        ],
        [
         8,
         5.985,
         38.278,
         0.5625
        ],
        [
         8,
         6.08,
         38.49,
         0.625
        ],
        [
         8,
         6.201,
         39.957,
         0.6875
        ],
        [
         8,
         6.471,
         42.426,
         0.75
        ],
        [
         8,
         7.468,
         51.343,
         0.8125
        ],
        [
         8,
         7.591,
         53.158,
         0.875
        ],
        [
         8,
         7.641,
         53.359,
         0.9375
        ],
        [
         8,
         7.811,
         55.299,
         1.0
        ]
       ],
       "datasetInfos": [],
       "dbfsResultPath": null,
       "isJsonSchema": true,
       "metadata": {},
       "overflow": false,
       "plotOptions": {
        "customPlotOptions": {},
        "displayType": "table",
        "pivotAggregation": null,
        "pivotColumns": null,
        "xColumns": null,
        "yColumns": null
       },
       "removedWidgets": [],
       "schema": [
        {
         "metadata": "{}",
         "name": "number_courses",
         "type": "\"integer\""
        },
        {
         "metadata": "{}",
         "name": "time_study",
         "type": "\"double\""
        },
        {
         "metadata": "{}",
         "name": "Marks",
         "type": "\"double\""
        },
        {
         "metadata": "{}",
         "name": "Cummulative_Distribution",
         "type": "\"double\""
        }
       ],
       "type": "table"
      }
     },
     "output_type": "display_data"
    }
   ],
   "source": [
    "agg_functions('number_courses','Marks',row_number,'Row_number').display()\n",
    "agg_functions('number_courses','Marks',rank,'Rank').display()\n",
    "agg_functions('number_courses','Marks',dense_rank,'Dense_Rank').display()\n",
    "agg_functions('number_courses','Marks',percent_rank,'Percent_Rank').display()\n",
    "agg_functions('number_courses','Marks',cume_dist,'Cummulative_Distribution').display()"
   ]
  },
  {
   "cell_type": "code",
   "execution_count": 0,
   "metadata": {
    "application/vnd.databricks.v1+cell": {
     "cellMetadata": {
      "byteLimit": 2048000,
      "rowLimit": 10000
     },
     "inputWidgets": {},
     "nuid": "93e862a0-187c-42c7-adb1-37dfe42d4f6f",
     "showTitle": false,
     "title": ""
    }
   },
   "outputs": [],
   "source": [
    "def agg_func(pbyclmn,obyclmn,aggfunc,new_col):\n",
    "    windowfun  = Window.partitionBy(pbyclmn).orderBy(obyclmn)\n",
    "    return df.withColumn(new_col,aggfunc('Marks',3).over(windowfun))"
   ]
  },
  {
   "cell_type": "code",
   "execution_count": 0,
   "metadata": {
    "application/vnd.databricks.v1+cell": {
     "cellMetadata": {
      "byteLimit": 2048000,
      "rowLimit": 10000
     },
     "inputWidgets": {},
     "nuid": "345ecf48-04eb-4102-b2ea-a075624ee524",
     "showTitle": false,
     "title": ""
    }
   },
   "outputs": [
    {
     "output_type": "display_data",
     "data": {
      "text/html": [
       "<style scoped>\n",
       "  .table-result-container {\n",
       "    max-height: 300px;\n",
       "    overflow: auto;\n",
       "  }\n",
       "  table, th, td {\n",
       "    border: 1px solid black;\n",
       "    border-collapse: collapse;\n",
       "  }\n",
       "  th, td {\n",
       "    padding: 5px;\n",
       "  }\n",
       "  th {\n",
       "    text-align: left;\n",
       "  }\n",
       "</style><div class='table-result-container'><table class='table-result'><thead style='background-color: white'><tr><th>number_courses</th><th>time_study</th><th>Marks</th><th>Lag</th></tr></thead><tbody><tr><td>3</td><td>0.301</td><td>5.609</td><td>null</td></tr><tr><td>3</td><td>1.033</td><td>6.053</td><td>null</td></tr><tr><td>3</td><td>0.55</td><td>6.185</td><td>null</td></tr><tr><td>3</td><td>0.803</td><td>6.217</td><td>5.609</td></tr><tr><td>3</td><td>0.805</td><td>6.349</td><td>6.053</td></tr><tr><td>3</td><td>1.407</td><td>6.623</td><td>6.185</td></tr><tr><td>3</td><td>1.629</td><td>7.014</td><td>6.217</td></tr><tr><td>3</td><td>1.923</td><td>8.1</td><td>6.349</td></tr><tr><td>3</td><td>2.061</td><td>8.924</td><td>6.623</td></tr><tr><td>3</td><td>2.908</td><td>11.397</td><td>7.014</td></tr><tr><td>3</td><td>4.083</td><td>17.171</td><td>8.1</td></tr><tr><td>3</td><td>4.274</td><td>17.672</td><td>8.924</td></tr><tr><td>3</td><td>4.508</td><td>19.202</td><td>11.397</td></tr><tr><td>3</td><td>4.633</td><td>20.398</td><td>17.171</td></tr><tr><td>3</td><td>4.869</td><td>21.379</td><td>17.672</td></tr><tr><td>3</td><td>5.635</td><td>26.882</td><td>19.202</td></tr><tr><td>3</td><td>6.063</td><td>29.889</td><td>20.398</td></tr><tr><td>3</td><td>6.173</td><td>30.862</td><td>21.379</td></tr><tr><td>3</td><td>6.198</td><td>31.236</td><td>26.882</td></tr><tr><td>3</td><td>6.335</td><td>32.357</td><td>29.889</td></tr><tr><td>3</td><td>7.353</td><td>42.036</td><td>30.862</td></tr><tr><td>3</td><td>7.543</td><td>43.978</td><td>31.236</td></tr><tr><td>4</td><td>0.14</td><td>7.336</td><td>null</td></tr><tr><td>4</td><td>0.096</td><td>7.734</td><td>null</td></tr><tr><td>4</td><td>0.771</td><td>7.892</td><td>null</td></tr><tr><td>4</td><td>1.299</td><td>8.837</td><td>7.336</td></tr><tr><td>4</td><td>1.395</td><td>8.92</td><td>7.734</td></tr><tr><td>4</td><td>1.954</td><td>9.742</td><td>7.892</td></tr><tr><td>4</td><td>2.438</td><td>10.844</td><td>8.837</td></tr><tr><td>4</td><td>2.966</td><td>13.119</td><td>8.92</td></tr><tr><td>4</td><td>3.133</td><td>13.811</td><td>9.742</td></tr><tr><td>4</td><td>3.635</td><td>16.517</td><td>10.844</td></tr><tr><td>4</td><td>3.736</td><td>16.606</td><td>13.119</td></tr><tr><td>4</td><td>3.797</td><td>16.703</td><td>13.811</td></tr><tr><td>4</td><td>4.26</td><td>19.466</td><td>16.517</td></tr><tr><td>4</td><td>4.41</td><td>20.348</td><td>16.606</td></tr><tr><td>4</td><td>4.733</td><td>22.073</td><td>16.703</td></tr><tr><td>4</td><td>4.779</td><td>22.701</td><td>19.466</td></tr><tr><td>4</td><td>5.027</td><td>23.916</td><td>20.348</td></tr><tr><td>4</td><td>5.473</td><td>27.569</td><td>22.073</td></tr><tr><td>4</td><td>6.954</td><td>39.952</td><td>22.701</td></tr><tr><td>4</td><td>7.163</td><td>41.444</td><td>23.916</td></tr><tr><td>4</td><td>7.41</td><td>44.099</td><td>27.569</td></tr><tr><td>5</td><td>0.156</td><td>9.333</td><td>null</td></tr><tr><td>5</td><td>1.557</td><td>10.429</td><td>null</td></tr><tr><td>5</td><td>1.803</td><td>11.253</td><td>null</td></tr><tr><td>5</td><td>2.051</td><td>12.209</td><td>9.333</td></tr><tr><td>5</td><td>2.518</td><td>13.416</td><td>10.429</td></tr><tr><td>5</td><td>3.197</td><td>16.106</td><td>11.253</td></tr><tr><td>5</td><td>3.413</td><td>17.264</td><td>12.209</td></tr><tr><td>5</td><td>3.913</td><td>19.106</td><td>13.416</td></tr><tr><td>5</td><td>5.719</td><td>30.548</td><td>16.106</td></tr><tr><td>5</td><td>6.379</td><td>36.746</td><td>17.264</td></tr><tr><td>6</td><td>0.376</td><td>10.522</td><td>null</td></tr><tr><td>6</td><td>2.142</td><td>13.562</td><td>null</td></tr><tr><td>6</td><td>2.754</td><td>15.725</td><td>null</td></tr><tr><td>6</td><td>3.211</td><td>17.822</td><td>10.522</td></tr><tr><td>6</td><td>3.561</td><td>19.128</td><td>13.562</td></tr><tr><td>6</td><td>3.606</td><td>19.59</td><td>15.725</td></tr><tr><td>6</td><td>3.591</td><td>19.771</td><td>17.822</td></tr><tr><td>6</td><td>3.948</td><td>21.4</td><td>19.128</td></tr><tr><td>6</td><td>4.13</td><td>22.184</td><td>19.59</td></tr><tr><td>6</td><td>6.126</td><td>35.939</td><td>19.771</td></tr><tr><td>6</td><td>6.594</td><td>39.965</td><td>21.4</td></tr><tr><td>6</td><td>6.703</td><td>40.602</td><td>22.184</td></tr><tr><td>6</td><td>7.283</td><td>46.453</td><td>35.939</td></tr><tr><td>6</td><td>7.711</td><td>50.986</td><td>39.965</td></tr><tr><td>6</td><td>7.775</td><td>51.142</td><td>40.602</td></tr><tr><td>6</td><td>7.909</td><td>53.018</td><td>46.453</td></tr><tr><td>7</td><td>0.309</td><td>12.027</td><td>null</td></tr><tr><td>7</td><td>0.423</td><td>12.132</td><td>null</td></tr><tr><td>7</td><td>0.13</td><td>12.591</td><td>null</td></tr><tr><td>7</td><td>0.508</td><td>12.647</td><td>12.027</td></tr><tr><td>7</td><td>2.913</td><td>18.238</td><td>12.132</td></tr><tr><td>7</td><td>4.067</td><td>23.149</td><td>12.591</td></tr><tr><td>7</td><td>4.218</td><td>24.318</td><td>12.647</td></tr><tr><td>7</td><td>4.182</td><td>24.394</td><td>18.238</td></tr><tr><td>7</td><td>4.875</td><td>28.043</td><td>23.149</td></tr><tr><td>7</td><td>6.049</td><td>36.653</td><td>24.318</td></tr><tr><td>7</td><td>6.376</td><td>40.024</td><td>24.394</td></tr><tr><td>7</td><td>6.533</td><td>41.358</td><td>28.043</td></tr><tr><td>7</td><td>7.451</td><td>49.544</td><td>36.653</td></tr><tr><td>7</td><td>7.649</td><td>51.583</td><td>40.024</td></tr><tr><td>7</td><td>7.957</td><td>54.321</td><td>41.358</td></tr><tr><td>8</td><td>0.932</td><td>15.038</td><td>null</td></tr><tr><td>8</td><td>1.982</td><td>16.461</td><td>null</td></tr><tr><td>8</td><td>2.262</td><td>17.705</td><td>null</td></tr><tr><td>8</td><td>2.73</td><td>19.564</td><td>15.038</td></tr><tr><td>8</td><td>3.864</td><td>24.172</td><td>16.461</td></tr><tr><td>8</td><td>3.919</td><td>24.451</td><td>17.705</td></tr><tr><td>8</td><td>3.977</td><td>25.133</td><td>19.564</td></tr><tr><td>8</td><td>4.378</td><td>26.532</td><td>24.172</td></tr><tr><td>8</td><td>5.985</td><td>38.278</td><td>24.451</td></tr><tr><td>8</td><td>6.08</td><td>38.49</td><td>25.133</td></tr><tr><td>8</td><td>6.201</td><td>39.957</td><td>26.532</td></tr><tr><td>8</td><td>6.471</td><td>42.426</td><td>38.278</td></tr><tr><td>8</td><td>7.468</td><td>51.343</td><td>38.49</td></tr><tr><td>8</td><td>7.591</td><td>53.158</td><td>39.957</td></tr><tr><td>8</td><td>7.641</td><td>53.359</td><td>42.426</td></tr><tr><td>8</td><td>7.811</td><td>55.299</td><td>51.343</td></tr></tbody></table></div>"
      ]
     },
     "metadata": {
      "application/vnd.databricks.v1+output": {
       "addedWidgets": {},
       "aggData": [],
       "aggError": "",
       "aggOverflow": false,
       "aggSchema": [],
       "aggSeriesLimitReached": false,
       "aggType": "",
       "arguments": {},
       "columnCustomDisplayInfos": {},
       "data": [
        [
         3,
         0.301,
         5.609,
         null
        ],
        [
         3,
         1.033,
         6.053,
         null
        ],
        [
         3,
         0.55,
         6.185,
         null
        ],
        [
         3,
         0.803,
         6.217,
         5.609
        ],
        [
         3,
         0.805,
         6.349,
         6.053
        ],
        [
         3,
         1.407,
         6.623,
         6.185
        ],
        [
         3,
         1.629,
         7.014,
         6.217
        ],
        [
         3,
         1.923,
         8.1,
         6.349
        ],
        [
         3,
         2.061,
         8.924,
         6.623
        ],
        [
         3,
         2.908,
         11.397,
         7.014
        ],
        [
         3,
         4.083,
         17.171,
         8.1
        ],
        [
         3,
         4.274,
         17.672,
         8.924
        ],
        [
         3,
         4.508,
         19.202,
         11.397
        ],
        [
         3,
         4.633,
         20.398,
         17.171
        ],
        [
         3,
         4.869,
         21.379,
         17.672
        ],
        [
         3,
         5.635,
         26.882,
         19.202
        ],
        [
         3,
         6.063,
         29.889,
         20.398
        ],
        [
         3,
         6.173,
         30.862,
         21.379
        ],
        [
         3,
         6.198,
         31.236,
         26.882
        ],
        [
         3,
         6.335,
         32.357,
         29.889
        ],
        [
         3,
         7.353,
         42.036,
         30.862
        ],
        [
         3,
         7.543,
         43.978,
         31.236
        ],
        [
         4,
         0.14,
         7.336,
         null
        ],
        [
         4,
         0.096,
         7.734,
         null
        ],
        [
         4,
         0.771,
         7.892,
         null
        ],
        [
         4,
         1.299,
         8.837,
         7.336
        ],
        [
         4,
         1.395,
         8.92,
         7.734
        ],
        [
         4,
         1.954,
         9.742,
         7.892
        ],
        [
         4,
         2.438,
         10.844,
         8.837
        ],
        [
         4,
         2.966,
         13.119,
         8.92
        ],
        [
         4,
         3.133,
         13.811,
         9.742
        ],
        [
         4,
         3.635,
         16.517,
         10.844
        ],
        [
         4,
         3.736,
         16.606,
         13.119
        ],
        [
         4,
         3.797,
         16.703,
         13.811
        ],
        [
         4,
         4.26,
         19.466,
         16.517
        ],
        [
         4,
         4.41,
         20.348,
         16.606
        ],
        [
         4,
         4.733,
         22.073,
         16.703
        ],
        [
         4,
         4.779,
         22.701,
         19.466
        ],
        [
         4,
         5.027,
         23.916,
         20.348
        ],
        [
         4,
         5.473,
         27.569,
         22.073
        ],
        [
         4,
         6.954,
         39.952,
         22.701
        ],
        [
         4,
         7.163,
         41.444,
         23.916
        ],
        [
         4,
         7.41,
         44.099,
         27.569
        ],
        [
         5,
         0.156,
         9.333,
         null
        ],
        [
         5,
         1.557,
         10.429,
         null
        ],
        [
         5,
         1.803,
         11.253,
         null
        ],
        [
         5,
         2.051,
         12.209,
         9.333
        ],
        [
         5,
         2.518,
         13.416,
         10.429
        ],
        [
         5,
         3.197,
         16.106,
         11.253
        ],
        [
         5,
         3.413,
         17.264,
         12.209
        ],
        [
         5,
         3.913,
         19.106,
         13.416
        ],
        [
         5,
         5.719,
         30.548,
         16.106
        ],
        [
         5,
         6.379,
         36.746,
         17.264
        ],
        [
         6,
         0.376,
         10.522,
         null
        ],
        [
         6,
         2.142,
         13.562,
         null
        ],
        [
         6,
         2.754,
         15.725,
         null
        ],
        [
         6,
         3.211,
         17.822,
         10.522
        ],
        [
         6,
         3.561,
         19.128,
         13.562
        ],
        [
         6,
         3.606,
         19.59,
         15.725
        ],
        [
         6,
         3.591,
         19.771,
         17.822
        ],
        [
         6,
         3.948,
         21.4,
         19.128
        ],
        [
         6,
         4.13,
         22.184,
         19.59
        ],
        [
         6,
         6.126,
         35.939,
         19.771
        ],
        [
         6,
         6.594,
         39.965,
         21.4
        ],
        [
         6,
         6.703,
         40.602,
         22.184
        ],
        [
         6,
         7.283,
         46.453,
         35.939
        ],
        [
         6,
         7.711,
         50.986,
         39.965
        ],
        [
         6,
         7.775,
         51.142,
         40.602
        ],
        [
         6,
         7.909,
         53.018,
         46.453
        ],
        [
         7,
         0.309,
         12.027,
         null
        ],
        [
         7,
         0.423,
         12.132,
         null
        ],
        [
         7,
         0.13,
         12.591,
         null
        ],
        [
         7,
         0.508,
         12.647,
         12.027
        ],
        [
         7,
         2.913,
         18.238,
         12.132
        ],
        [
         7,
         4.067,
         23.149,
         12.591
        ],
        [
         7,
         4.218,
         24.318,
         12.647
        ],
        [
         7,
         4.182,
         24.394,
         18.238
        ],
        [
         7,
         4.875,
         28.043,
         23.149
        ],
        [
         7,
         6.049,
         36.653,
         24.318
        ],
        [
         7,
         6.376,
         40.024,
         24.394
        ],
        [
         7,
         6.533,
         41.358,
         28.043
        ],
        [
         7,
         7.451,
         49.544,
         36.653
        ],
        [
         7,
         7.649,
         51.583,
         40.024
        ],
        [
         7,
         7.957,
         54.321,
         41.358
        ],
        [
         8,
         0.932,
         15.038,
         null
        ],
        [
         8,
         1.982,
         16.461,
         null
        ],
        [
         8,
         2.262,
         17.705,
         null
        ],
        [
         8,
         2.73,
         19.564,
         15.038
        ],
        [
         8,
         3.864,
         24.172,
         16.461
        ],
        [
         8,
         3.919,
         24.451,
         17.705
        ],
        [
         8,
         3.977,
         25.133,
         19.564
        ],
        [
         8,
         4.378,
         26.532,
         24.172
        ],
        [
         8,
         5.985,
         38.278,
         24.451
        ],
        [
         8,
         6.08,
         38.49,
         25.133
        ],
        [
         8,
         6.201,
         39.957,
         26.532
        ],
        [
         8,
         6.471,
         42.426,
         38.278
        ],
        [
         8,
         7.468,
         51.343,
         38.49
        ],
        [
         8,
         7.591,
         53.158,
         39.957
        ],
        [
         8,
         7.641,
         53.359,
         42.426
        ],
        [
         8,
         7.811,
         55.299,
         51.343
        ]
       ],
       "datasetInfos": [],
       "dbfsResultPath": null,
       "isJsonSchema": true,
       "metadata": {},
       "overflow": false,
       "plotOptions": {
        "customPlotOptions": {},
        "displayType": "table",
        "pivotAggregation": null,
        "pivotColumns": null,
        "xColumns": null,
        "yColumns": null
       },
       "removedWidgets": [],
       "schema": [
        {
         "metadata": "{}",
         "name": "number_courses",
         "type": "\"integer\""
        },
        {
         "metadata": "{}",
         "name": "time_study",
         "type": "\"double\""
        },
        {
         "metadata": "{}",
         "name": "Marks",
         "type": "\"double\""
        },
        {
         "metadata": "{}",
         "name": "Lag",
         "type": "\"double\""
        }
       ],
       "type": "table"
      }
     },
     "output_type": "display_data"
    },
    {
     "output_type": "display_data",
     "data": {
      "text/html": [
       "<style scoped>\n",
       "  .table-result-container {\n",
       "    max-height: 300px;\n",
       "    overflow: auto;\n",
       "  }\n",
       "  table, th, td {\n",
       "    border: 1px solid black;\n",
       "    border-collapse: collapse;\n",
       "  }\n",
       "  th, td {\n",
       "    padding: 5px;\n",
       "  }\n",
       "  th {\n",
       "    text-align: left;\n",
       "  }\n",
       "</style><div class='table-result-container'><table class='table-result'><thead style='background-color: white'><tr><th>number_courses</th><th>time_study</th><th>Marks</th><th>Lead</th></tr></thead><tbody><tr><td>3</td><td>0.301</td><td>5.609</td><td>6.217</td></tr><tr><td>3</td><td>1.033</td><td>6.053</td><td>6.349</td></tr><tr><td>3</td><td>0.55</td><td>6.185</td><td>6.623</td></tr><tr><td>3</td><td>0.803</td><td>6.217</td><td>7.014</td></tr><tr><td>3</td><td>0.805</td><td>6.349</td><td>8.1</td></tr><tr><td>3</td><td>1.407</td><td>6.623</td><td>8.924</td></tr><tr><td>3</td><td>1.629</td><td>7.014</td><td>11.397</td></tr><tr><td>3</td><td>1.923</td><td>8.1</td><td>17.171</td></tr><tr><td>3</td><td>2.061</td><td>8.924</td><td>17.672</td></tr><tr><td>3</td><td>2.908</td><td>11.397</td><td>19.202</td></tr><tr><td>3</td><td>4.083</td><td>17.171</td><td>20.398</td></tr><tr><td>3</td><td>4.274</td><td>17.672</td><td>21.379</td></tr><tr><td>3</td><td>4.508</td><td>19.202</td><td>26.882</td></tr><tr><td>3</td><td>4.633</td><td>20.398</td><td>29.889</td></tr><tr><td>3</td><td>4.869</td><td>21.379</td><td>30.862</td></tr><tr><td>3</td><td>5.635</td><td>26.882</td><td>31.236</td></tr><tr><td>3</td><td>6.063</td><td>29.889</td><td>32.357</td></tr><tr><td>3</td><td>6.173</td><td>30.862</td><td>42.036</td></tr><tr><td>3</td><td>6.198</td><td>31.236</td><td>43.978</td></tr><tr><td>3</td><td>6.335</td><td>32.357</td><td>null</td></tr><tr><td>3</td><td>7.353</td><td>42.036</td><td>null</td></tr><tr><td>3</td><td>7.543</td><td>43.978</td><td>null</td></tr><tr><td>4</td><td>0.14</td><td>7.336</td><td>8.837</td></tr><tr><td>4</td><td>0.096</td><td>7.734</td><td>8.92</td></tr><tr><td>4</td><td>0.771</td><td>7.892</td><td>9.742</td></tr><tr><td>4</td><td>1.299</td><td>8.837</td><td>10.844</td></tr><tr><td>4</td><td>1.395</td><td>8.92</td><td>13.119</td></tr><tr><td>4</td><td>1.954</td><td>9.742</td><td>13.811</td></tr><tr><td>4</td><td>2.438</td><td>10.844</td><td>16.517</td></tr><tr><td>4</td><td>2.966</td><td>13.119</td><td>16.606</td></tr><tr><td>4</td><td>3.133</td><td>13.811</td><td>16.703</td></tr><tr><td>4</td><td>3.635</td><td>16.517</td><td>19.466</td></tr><tr><td>4</td><td>3.736</td><td>16.606</td><td>20.348</td></tr><tr><td>4</td><td>3.797</td><td>16.703</td><td>22.073</td></tr><tr><td>4</td><td>4.26</td><td>19.466</td><td>22.701</td></tr><tr><td>4</td><td>4.41</td><td>20.348</td><td>23.916</td></tr><tr><td>4</td><td>4.733</td><td>22.073</td><td>27.569</td></tr><tr><td>4</td><td>4.779</td><td>22.701</td><td>39.952</td></tr><tr><td>4</td><td>5.027</td><td>23.916</td><td>41.444</td></tr><tr><td>4</td><td>5.473</td><td>27.569</td><td>44.099</td></tr><tr><td>4</td><td>6.954</td><td>39.952</td><td>null</td></tr><tr><td>4</td><td>7.163</td><td>41.444</td><td>null</td></tr><tr><td>4</td><td>7.41</td><td>44.099</td><td>null</td></tr><tr><td>5</td><td>0.156</td><td>9.333</td><td>12.209</td></tr><tr><td>5</td><td>1.557</td><td>10.429</td><td>13.416</td></tr><tr><td>5</td><td>1.803</td><td>11.253</td><td>16.106</td></tr><tr><td>5</td><td>2.051</td><td>12.209</td><td>17.264</td></tr><tr><td>5</td><td>2.518</td><td>13.416</td><td>19.106</td></tr><tr><td>5</td><td>3.197</td><td>16.106</td><td>30.548</td></tr><tr><td>5</td><td>3.413</td><td>17.264</td><td>36.746</td></tr><tr><td>5</td><td>3.913</td><td>19.106</td><td>null</td></tr><tr><td>5</td><td>5.719</td><td>30.548</td><td>null</td></tr><tr><td>5</td><td>6.379</td><td>36.746</td><td>null</td></tr><tr><td>6</td><td>0.376</td><td>10.522</td><td>17.822</td></tr><tr><td>6</td><td>2.142</td><td>13.562</td><td>19.128</td></tr><tr><td>6</td><td>2.754</td><td>15.725</td><td>19.59</td></tr><tr><td>6</td><td>3.211</td><td>17.822</td><td>19.771</td></tr><tr><td>6</td><td>3.561</td><td>19.128</td><td>21.4</td></tr><tr><td>6</td><td>3.606</td><td>19.59</td><td>22.184</td></tr><tr><td>6</td><td>3.591</td><td>19.771</td><td>35.939</td></tr><tr><td>6</td><td>3.948</td><td>21.4</td><td>39.965</td></tr><tr><td>6</td><td>4.13</td><td>22.184</td><td>40.602</td></tr><tr><td>6</td><td>6.126</td><td>35.939</td><td>46.453</td></tr><tr><td>6</td><td>6.594</td><td>39.965</td><td>50.986</td></tr><tr><td>6</td><td>6.703</td><td>40.602</td><td>51.142</td></tr><tr><td>6</td><td>7.283</td><td>46.453</td><td>53.018</td></tr><tr><td>6</td><td>7.711</td><td>50.986</td><td>null</td></tr><tr><td>6</td><td>7.775</td><td>51.142</td><td>null</td></tr><tr><td>6</td><td>7.909</td><td>53.018</td><td>null</td></tr><tr><td>7</td><td>0.309</td><td>12.027</td><td>12.647</td></tr><tr><td>7</td><td>0.423</td><td>12.132</td><td>18.238</td></tr><tr><td>7</td><td>0.13</td><td>12.591</td><td>23.149</td></tr><tr><td>7</td><td>0.508</td><td>12.647</td><td>24.318</td></tr><tr><td>7</td><td>2.913</td><td>18.238</td><td>24.394</td></tr><tr><td>7</td><td>4.067</td><td>23.149</td><td>28.043</td></tr><tr><td>7</td><td>4.218</td><td>24.318</td><td>36.653</td></tr><tr><td>7</td><td>4.182</td><td>24.394</td><td>40.024</td></tr><tr><td>7</td><td>4.875</td><td>28.043</td><td>41.358</td></tr><tr><td>7</td><td>6.049</td><td>36.653</td><td>49.544</td></tr><tr><td>7</td><td>6.376</td><td>40.024</td><td>51.583</td></tr><tr><td>7</td><td>6.533</td><td>41.358</td><td>54.321</td></tr><tr><td>7</td><td>7.451</td><td>49.544</td><td>null</td></tr><tr><td>7</td><td>7.649</td><td>51.583</td><td>null</td></tr><tr><td>7</td><td>7.957</td><td>54.321</td><td>null</td></tr><tr><td>8</td><td>0.932</td><td>15.038</td><td>19.564</td></tr><tr><td>8</td><td>1.982</td><td>16.461</td><td>24.172</td></tr><tr><td>8</td><td>2.262</td><td>17.705</td><td>24.451</td></tr><tr><td>8</td><td>2.73</td><td>19.564</td><td>25.133</td></tr><tr><td>8</td><td>3.864</td><td>24.172</td><td>26.532</td></tr><tr><td>8</td><td>3.919</td><td>24.451</td><td>38.278</td></tr><tr><td>8</td><td>3.977</td><td>25.133</td><td>38.49</td></tr><tr><td>8</td><td>4.378</td><td>26.532</td><td>39.957</td></tr><tr><td>8</td><td>5.985</td><td>38.278</td><td>42.426</td></tr><tr><td>8</td><td>6.08</td><td>38.49</td><td>51.343</td></tr><tr><td>8</td><td>6.201</td><td>39.957</td><td>53.158</td></tr><tr><td>8</td><td>6.471</td><td>42.426</td><td>53.359</td></tr><tr><td>8</td><td>7.468</td><td>51.343</td><td>55.299</td></tr><tr><td>8</td><td>7.591</td><td>53.158</td><td>null</td></tr><tr><td>8</td><td>7.641</td><td>53.359</td><td>null</td></tr><tr><td>8</td><td>7.811</td><td>55.299</td><td>null</td></tr></tbody></table></div>"
      ]
     },
     "metadata": {
      "application/vnd.databricks.v1+output": {
       "addedWidgets": {},
       "aggData": [],
       "aggError": "",
       "aggOverflow": false,
       "aggSchema": [],
       "aggSeriesLimitReached": false,
       "aggType": "",
       "arguments": {},
       "columnCustomDisplayInfos": {},
       "data": [
        [
         3,
         0.301,
         5.609,
         6.217
        ],
        [
         3,
         1.033,
         6.053,
         6.349
        ],
        [
         3,
         0.55,
         6.185,
         6.623
        ],
        [
         3,
         0.803,
         6.217,
         7.014
        ],
        [
         3,
         0.805,
         6.349,
         8.1
        ],
        [
         3,
         1.407,
         6.623,
         8.924
        ],
        [
         3,
         1.629,
         7.014,
         11.397
        ],
        [
         3,
         1.923,
         8.1,
         17.171
        ],
        [
         3,
         2.061,
         8.924,
         17.672
        ],
        [
         3,
         2.908,
         11.397,
         19.202
        ],
        [
         3,
         4.083,
         17.171,
         20.398
        ],
        [
         3,
         4.274,
         17.672,
         21.379
        ],
        [
         3,
         4.508,
         19.202,
         26.882
        ],
        [
         3,
         4.633,
         20.398,
         29.889
        ],
        [
         3,
         4.869,
         21.379,
         30.862
        ],
        [
         3,
         5.635,
         26.882,
         31.236
        ],
        [
         3,
         6.063,
         29.889,
         32.357
        ],
        [
         3,
         6.173,
         30.862,
         42.036
        ],
        [
         3,
         6.198,
         31.236,
         43.978
        ],
        [
         3,
         6.335,
         32.357,
         null
        ],
        [
         3,
         7.353,
         42.036,
         null
        ],
        [
         3,
         7.543,
         43.978,
         null
        ],
        [
         4,
         0.14,
         7.336,
         8.837
        ],
        [
         4,
         0.096,
         7.734,
         8.92
        ],
        [
         4,
         0.771,
         7.892,
         9.742
        ],
        [
         4,
         1.299,
         8.837,
         10.844
        ],
        [
         4,
         1.395,
         8.92,
         13.119
        ],
        [
         4,
         1.954,
         9.742,
         13.811
        ],
        [
         4,
         2.438,
         10.844,
         16.517
        ],
        [
         4,
         2.966,
         13.119,
         16.606
        ],
        [
         4,
         3.133,
         13.811,
         16.703
        ],
        [
         4,
         3.635,
         16.517,
         19.466
        ],
        [
         4,
         3.736,
         16.606,
         20.348
        ],
        [
         4,
         3.797,
         16.703,
         22.073
        ],
        [
         4,
         4.26,
         19.466,
         22.701
        ],
        [
         4,
         4.41,
         20.348,
         23.916
        ],
        [
         4,
         4.733,
         22.073,
         27.569
        ],
        [
         4,
         4.779,
         22.701,
         39.952
        ],
        [
         4,
         5.027,
         23.916,
         41.444
        ],
        [
         4,
         5.473,
         27.569,
         44.099
        ],
        [
         4,
         6.954,
         39.952,
         null
        ],
        [
         4,
         7.163,
         41.444,
         null
        ],
        [
         4,
         7.41,
         44.099,
         null
        ],
        [
         5,
         0.156,
         9.333,
         12.209
        ],
        [
         5,
         1.557,
         10.429,
         13.416
        ],
        [
         5,
         1.803,
         11.253,
         16.106
        ],
        [
         5,
         2.051,
         12.209,
         17.264
        ],
        [
         5,
         2.518,
         13.416,
         19.106
        ],
        [
         5,
         3.197,
         16.106,
         30.548
        ],
        [
         5,
         3.413,
         17.264,
         36.746
        ],
        [
         5,
         3.913,
         19.106,
         null
        ],
        [
         5,
         5.719,
         30.548,
         null
        ],
        [
         5,
         6.379,
         36.746,
         null
        ],
        [
         6,
         0.376,
         10.522,
         17.822
        ],
        [
         6,
         2.142,
         13.562,
         19.128
        ],
        [
         6,
         2.754,
         15.725,
         19.59
        ],
        [
         6,
         3.211,
         17.822,
         19.771
        ],
        [
         6,
         3.561,
         19.128,
         21.4
        ],
        [
         6,
         3.606,
         19.59,
         22.184
        ],
        [
         6,
         3.591,
         19.771,
         35.939
        ],
        [
         6,
         3.948,
         21.4,
         39.965
        ],
        [
         6,
         4.13,
         22.184,
         40.602
        ],
        [
         6,
         6.126,
         35.939,
         46.453
        ],
        [
         6,
         6.594,
         39.965,
         50.986
        ],
        [
         6,
         6.703,
         40.602,
         51.142
        ],
        [
         6,
         7.283,
         46.453,
         53.018
        ],
        [
         6,
         7.711,
         50.986,
         null
        ],
        [
         6,
         7.775,
         51.142,
         null
        ],
        [
         6,
         7.909,
         53.018,
         null
        ],
        [
         7,
         0.309,
         12.027,
         12.647
        ],
        [
         7,
         0.423,
         12.132,
         18.238
        ],
        [
         7,
         0.13,
         12.591,
         23.149
        ],
        [
         7,
         0.508,
         12.647,
         24.318
        ],
        [
         7,
         2.913,
         18.238,
         24.394
        ],
        [
         7,
         4.067,
         23.149,
         28.043
        ],
        [
         7,
         4.218,
         24.318,
         36.653
        ],
        [
         7,
         4.182,
         24.394,
         40.024
        ],
        [
         7,
         4.875,
         28.043,
         41.358
        ],
        [
         7,
         6.049,
         36.653,
         49.544
        ],
        [
         7,
         6.376,
         40.024,
         51.583
        ],
        [
         7,
         6.533,
         41.358,
         54.321
        ],
        [
         7,
         7.451,
         49.544,
         null
        ],
        [
         7,
         7.649,
         51.583,
         null
        ],
        [
         7,
         7.957,
         54.321,
         null
        ],
        [
         8,
         0.932,
         15.038,
         19.564
        ],
        [
         8,
         1.982,
         16.461,
         24.172
        ],
        [
         8,
         2.262,
         17.705,
         24.451
        ],
        [
         8,
         2.73,
         19.564,
         25.133
        ],
        [
         8,
         3.864,
         24.172,
         26.532
        ],
        [
         8,
         3.919,
         24.451,
         38.278
        ],
        [
         8,
         3.977,
         25.133,
         38.49
        ],
        [
         8,
         4.378,
         26.532,
         39.957
        ],
        [
         8,
         5.985,
         38.278,
         42.426
        ],
        [
         8,
         6.08,
         38.49,
         51.343
        ],
        [
         8,
         6.201,
         39.957,
         53.158
        ],
        [
         8,
         6.471,
         42.426,
         53.359
        ],
        [
         8,
         7.468,
         51.343,
         55.299
        ],
        [
         8,
         7.591,
         53.158,
         null
        ],
        [
         8,
         7.641,
         53.359,
         null
        ],
        [
         8,
         7.811,
         55.299,
         null
        ]
       ],
       "datasetInfos": [],
       "dbfsResultPath": null,
       "isJsonSchema": true,
       "metadata": {},
       "overflow": false,
       "plotOptions": {
        "customPlotOptions": {},
        "displayType": "table",
        "pivotAggregation": null,
        "pivotColumns": null,
        "xColumns": null,
        "yColumns": null
       },
       "removedWidgets": [],
       "schema": [
        {
         "metadata": "{}",
         "name": "number_courses",
         "type": "\"integer\""
        },
        {
         "metadata": "{}",
         "name": "time_study",
         "type": "\"double\""
        },
        {
         "metadata": "{}",
         "name": "Marks",
         "type": "\"double\""
        },
        {
         "metadata": "{}",
         "name": "Lead",
         "type": "\"double\""
        }
       ],
       "type": "table"
      }
     },
     "output_type": "display_data"
    }
   ],
   "source": [
    "agg_func('number_courses','Marks',lag,'Lag').display()\n",
    "agg_func('number_courses','Marks',lead,'Lead').display()"
   ]
  },
  {
   "cell_type": "code",
   "execution_count": 0,
   "metadata": {
    "application/vnd.databricks.v1+cell": {
     "cellMetadata": {},
     "inputWidgets": {},
     "nuid": "b746106c-5db4-46cc-bc1d-e8a26c9ca54b",
     "showTitle": false,
     "title": ""
    }
   },
   "outputs": [],
   "source": []
  }
 ],
 "metadata": {
  "application/vnd.databricks.v1+notebook": {
   "dashboards": [],
   "language": "python",
   "notebookMetadata": {
    "pythonIndentUnit": 4
   },
   "notebookName": "Agg and Window Funs",
   "widgets": {}
  }
 },
 "nbformat": 4,
 "nbformat_minor": 0
}
