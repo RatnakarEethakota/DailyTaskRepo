{
 "cells": [
  {
   "cell_type": "code",
   "execution_count": 0,
   "metadata": {
    "application/vnd.databricks.v1+cell": {
     "cellMetadata": {
      "byteLimit": 2048000,
      "rowLimit": 10000
     },
     "inputWidgets": {},
     "nuid": "88d63229-45b1-4ed4-87b1-27a2a120bc0f",
     "showTitle": false,
     "title": ""
    }
   },
   "outputs": [],
   "source": [
    "from pyspark.sql.functions import *\n",
    "from pyspark.sql.types import *\n",
    "from pyspark.sql.types import StructField,StringType,StringType,IntegerType"
   ]
  },
  {
   "cell_type": "code",
   "execution_count": 0,
   "metadata": {
    "application/vnd.databricks.v1+cell": {
     "cellMetadata": {
      "byteLimit": 2048000,
      "rowLimit": 10000
     },
     "inputWidgets": {},
     "nuid": "b35955f4-5720-4e54-808c-b463936653be",
     "showTitle": false,
     "title": ""
    }
   },
   "outputs": [],
   "source": [
    "data=[('USA','Radio',3000),\n",
    "      ('NewYork','Mobile',9000),\n",
    "      ('Malaysia','Television',4000),\n",
    "      ('UK','Laptop',11500),\n",
    "      ('Canada','Ipad',8500),\n",
    "      ('USA','Mobile',9000),\n",
    "      ('NewYork','Television',4000),\n",
    "      ('Malaysia','Laptop',11500),\n",
    "      ('UK','Ipad',8500),\n",
    "      ('Canada','Radio',3000)]\n",
    "\n",
    "schema=StructType([\n",
    "    StructField('Country',StringType(),True),\n",
    "    StructField('Items',StringType(),True),\n",
    "    StructField('Cost',IntegerType(),True)\n",
    "])"
   ]
  },
  {
   "cell_type": "code",
   "execution_count": 0,
   "metadata": {
    "application/vnd.databricks.v1+cell": {
     "cellMetadata": {
      "byteLimit": 2048000,
      "rowLimit": 10000
     },
     "inputWidgets": {},
     "nuid": "f52976e8-de27-445c-bf1f-9e309b98cdfc",
     "showTitle": false,
     "title": ""
    }
   },
   "outputs": [],
   "source": [
    "df=spark.createDataFrame(data=data, schema=schema)"
   ]
  },
  {
   "cell_type": "code",
   "execution_count": 0,
   "metadata": {
    "application/vnd.databricks.v1+cell": {
     "cellMetadata": {
      "byteLimit": 2048000,
      "rowLimit": 10000
     },
     "inputWidgets": {},
     "nuid": "5beeb502-95a5-4a66-8ee5-6684aedbca55",
     "showTitle": false,
     "title": ""
    }
   },
   "outputs": [
    {
     "output_type": "display_data",
     "data": {
      "text/html": [
       "<style scoped>\n",
       "  .table-result-container {\n",
       "    max-height: 300px;\n",
       "    overflow: auto;\n",
       "  }\n",
       "  table, th, td {\n",
       "    border: 1px solid black;\n",
       "    border-collapse: collapse;\n",
       "  }\n",
       "  th, td {\n",
       "    padding: 5px;\n",
       "  }\n",
       "  th {\n",
       "    text-align: left;\n",
       "  }\n",
       "</style><div class='table-result-container'><table class='table-result'><thead style='background-color: white'><tr><th>Country</th><th>Items</th><th>Cost</th></tr></thead><tbody><tr><td>USA</td><td>Radio</td><td>3000</td></tr><tr><td>NewYork</td><td>Mobile</td><td>9000</td></tr><tr><td>Malaysia</td><td>Television</td><td>4000</td></tr><tr><td>UK</td><td>Laptop</td><td>11500</td></tr><tr><td>Canada</td><td>Ipad</td><td>8500</td></tr><tr><td>USA</td><td>Mobile</td><td>9000</td></tr><tr><td>NewYork</td><td>Television</td><td>4000</td></tr><tr><td>Malaysia</td><td>Laptop</td><td>11500</td></tr><tr><td>UK</td><td>Ipad</td><td>8500</td></tr><tr><td>Canada</td><td>Radio</td><td>3000</td></tr></tbody></table></div>"
      ]
     },
     "metadata": {
      "application/vnd.databricks.v1+output": {
       "addedWidgets": {},
       "aggData": [],
       "aggError": "",
       "aggOverflow": false,
       "aggSchema": [],
       "aggSeriesLimitReached": false,
       "aggType": "",
       "arguments": {},
       "columnCustomDisplayInfos": {},
       "data": [
        [
         "USA",
         "Radio",
         3000
        ],
        [
         "NewYork",
         "Mobile",
         9000
        ],
        [
         "Malaysia",
         "Television",
         4000
        ],
        [
         "UK",
         "Laptop",
         11500
        ],
        [
         "Canada",
         "Ipad",
         8500
        ],
        [
         "USA",
         "Mobile",
         9000
        ],
        [
         "NewYork",
         "Television",
         4000
        ],
        [
         "Malaysia",
         "Laptop",
         11500
        ],
        [
         "UK",
         "Ipad",
         8500
        ],
        [
         "Canada",
         "Radio",
         3000
        ]
       ],
       "datasetInfos": [],
       "dbfsResultPath": null,
       "isJsonSchema": true,
       "metadata": {},
       "overflow": false,
       "plotOptions": {
        "customPlotOptions": {},
        "displayType": "table",
        "pivotAggregation": null,
        "pivotColumns": null,
        "xColumns": null,
        "yColumns": null
       },
       "removedWidgets": [],
       "schema": [
        {
         "metadata": "{}",
         "name": "Country",
         "type": "\"string\""
        },
        {
         "metadata": "{}",
         "name": "Items",
         "type": "\"string\""
        },
        {
         "metadata": "{}",
         "name": "Cost",
         "type": "\"integer\""
        }
       ],
       "type": "table"
      }
     },
     "output_type": "display_data"
    }
   ],
   "source": [
    "display(df)"
   ]
  },
  {
   "cell_type": "code",
   "execution_count": 0,
   "metadata": {
    "application/vnd.databricks.v1+cell": {
     "cellMetadata": {
      "byteLimit": 2048000,
      "rowLimit": 10000
     },
     "inputWidgets": {},
     "nuid": "abc8502a-b822-4387-827a-d188c49e3828",
     "showTitle": true,
     "title": "Pivot and Unpivot"
    }
   },
   "outputs": [
    {
     "output_type": "display_data",
     "data": {
      "text/html": [
       "<style scoped>\n",
       "  .table-result-container {\n",
       "    max-height: 300px;\n",
       "    overflow: auto;\n",
       "  }\n",
       "  table, th, td {\n",
       "    border: 1px solid black;\n",
       "    border-collapse: collapse;\n",
       "  }\n",
       "  th, td {\n",
       "    padding: 5px;\n",
       "  }\n",
       "  th {\n",
       "    text-align: left;\n",
       "  }\n",
       "</style><div class='table-result-container'><table class='table-result'><thead style='background-color: white'><tr><th>Country</th><th>Ipad</th><th>Laptop</th><th>Mobile</th><th>Radio</th><th>Television</th></tr></thead><tbody><tr><td>Malaysia</td><td>null</td><td>11500</td><td>null</td><td>null</td><td>4000</td></tr><tr><td>USA</td><td>null</td><td>null</td><td>9000</td><td>3000</td><td>null</td></tr><tr><td>UK</td><td>8500</td><td>11500</td><td>null</td><td>null</td><td>null</td></tr><tr><td>Canada</td><td>8500</td><td>null</td><td>null</td><td>3000</td><td>null</td></tr><tr><td>NewYork</td><td>null</td><td>null</td><td>9000</td><td>null</td><td>4000</td></tr></tbody></table></div>"
      ]
     },
     "metadata": {
      "application/vnd.databricks.v1+output": {
       "addedWidgets": {},
       "aggData": [],
       "aggError": "",
       "aggOverflow": false,
       "aggSchema": [],
       "aggSeriesLimitReached": false,
       "aggType": "",
       "arguments": {},
       "columnCustomDisplayInfos": {},
       "data": [
        [
         "Malaysia",
         null,
         11500,
         null,
         null,
         4000
        ],
        [
         "USA",
         null,
         null,
         9000,
         3000,
         null
        ],
        [
         "UK",
         8500,
         11500,
         null,
         null,
         null
        ],
        [
         "Canada",
         8500,
         null,
         null,
         3000,
         null
        ],
        [
         "NewYork",
         null,
         null,
         9000,
         null,
         4000
        ]
       ],
       "datasetInfos": [],
       "dbfsResultPath": null,
       "isJsonSchema": true,
       "metadata": {},
       "overflow": false,
       "plotOptions": {
        "customPlotOptions": {},
        "displayType": "table",
        "pivotAggregation": null,
        "pivotColumns": null,
        "xColumns": null,
        "yColumns": null
       },
       "removedWidgets": [],
       "schema": [
        {
         "metadata": "{}",
         "name": "Country",
         "type": "\"string\""
        },
        {
         "metadata": "{}",
         "name": "Ipad",
         "type": "\"integer\""
        },
        {
         "metadata": "{}",
         "name": "Laptop",
         "type": "\"integer\""
        },
        {
         "metadata": "{}",
         "name": "Mobile",
         "type": "\"integer\""
        },
        {
         "metadata": "{}",
         "name": "Radio",
         "type": "\"integer\""
        },
        {
         "metadata": "{}",
         "name": "Television",
         "type": "\"integer\""
        }
       ],
       "type": "table"
      }
     },
     "output_type": "display_data"
    }
   ],
   "source": [
    "pivioting=df.groupBy('Country').pivot('Items').max('Cost')\n",
    "display(pivioting)"
   ]
  },
  {
   "cell_type": "code",
   "execution_count": 0,
   "metadata": {
    "application/vnd.databricks.v1+cell": {
     "cellMetadata": {
      "byteLimit": 2048000,
      "rowLimit": 10000
     },
     "inputWidgets": {},
     "nuid": "4f6a2984-d60b-482e-ba3c-ea55c3c2c382",
     "showTitle": false,
     "title": ""
    }
   },
   "outputs": [],
   "source": [
    "#Function for pivot\n",
    "def pivot_fun(countrycol,itemcol,costcol):\n",
    "    return df.groupBy(countrycol).pivot(itemcol).max(costcol)"
   ]
  },
  {
   "cell_type": "code",
   "execution_count": 0,
   "metadata": {
    "application/vnd.databricks.v1+cell": {
     "cellMetadata": {
      "byteLimit": 2048000,
      "rowLimit": 10000
     },
     "inputWidgets": {},
     "nuid": "89faf09f-e61a-4f81-8eaf-0cb0c739a7df",
     "showTitle": false,
     "title": ""
    }
   },
   "outputs": [
    {
     "output_type": "display_data",
     "data": {
      "text/html": [
       "<style scoped>\n",
       "  .table-result-container {\n",
       "    max-height: 300px;\n",
       "    overflow: auto;\n",
       "  }\n",
       "  table, th, td {\n",
       "    border: 1px solid black;\n",
       "    border-collapse: collapse;\n",
       "  }\n",
       "  th, td {\n",
       "    padding: 5px;\n",
       "  }\n",
       "  th {\n",
       "    text-align: left;\n",
       "  }\n",
       "</style><div class='table-result-container'><table class='table-result'><thead style='background-color: white'><tr><th>Country</th><th>Ipad</th><th>Laptop</th><th>Mobile</th><th>Radio</th><th>Television</th></tr></thead><tbody><tr><td>Malaysia</td><td>null</td><td>11500</td><td>null</td><td>null</td><td>4000</td></tr><tr><td>USA</td><td>null</td><td>null</td><td>9000</td><td>3000</td><td>null</td></tr><tr><td>UK</td><td>8500</td><td>11500</td><td>null</td><td>null</td><td>null</td></tr><tr><td>Canada</td><td>8500</td><td>null</td><td>null</td><td>3000</td><td>null</td></tr><tr><td>NewYork</td><td>null</td><td>null</td><td>9000</td><td>null</td><td>4000</td></tr></tbody></table></div>"
      ]
     },
     "metadata": {
      "application/vnd.databricks.v1+output": {
       "addedWidgets": {},
       "aggData": [],
       "aggError": "",
       "aggOverflow": false,
       "aggSchema": [],
       "aggSeriesLimitReached": false,
       "aggType": "",
       "arguments": {},
       "columnCustomDisplayInfos": {},
       "data": [
        [
         "Malaysia",
         null,
         11500,
         null,
         null,
         4000
        ],
        [
         "USA",
         null,
         null,
         9000,
         3000,
         null
        ],
        [
         "UK",
         8500,
         11500,
         null,
         null,
         null
        ],
        [
         "Canada",
         8500,
         null,
         null,
         3000,
         null
        ],
        [
         "NewYork",
         null,
         null,
         9000,
         null,
         4000
        ]
       ],
       "datasetInfos": [],
       "dbfsResultPath": null,
       "isJsonSchema": true,
       "metadata": {},
       "overflow": false,
       "plotOptions": {
        "customPlotOptions": {},
        "displayType": "table",
        "pivotAggregation": null,
        "pivotColumns": null,
        "xColumns": null,
        "yColumns": null
       },
       "removedWidgets": [],
       "schema": [
        {
         "metadata": "{}",
         "name": "Country",
         "type": "\"string\""
        },
        {
         "metadata": "{}",
         "name": "Ipad",
         "type": "\"integer\""
        },
        {
         "metadata": "{}",
         "name": "Laptop",
         "type": "\"integer\""
        },
        {
         "metadata": "{}",
         "name": "Mobile",
         "type": "\"integer\""
        },
        {
         "metadata": "{}",
         "name": "Radio",
         "type": "\"integer\""
        },
        {
         "metadata": "{}",
         "name": "Television",
         "type": "\"integer\""
        }
       ],
       "type": "table"
      }
     },
     "output_type": "display_data"
    }
   ],
   "source": [
    "pivot_fun('Country','Items','Cost').display()"
   ]
  },
  {
   "cell_type": "code",
   "execution_count": 0,
   "metadata": {
    "application/vnd.databricks.v1+cell": {
     "cellMetadata": {
      "byteLimit": 2048000,
      "rowLimit": 10000
     },
     "inputWidgets": {},
     "nuid": "57b1d99b-a53a-4c83-99c4-9b37466f42a6",
     "showTitle": false,
     "title": ""
    }
   },
   "outputs": [],
   "source": [
    "unpiviotingExpr=\"stack(4,'Mobile', Mobile,'Ipad', Ipad,'Laptop', Laptop) as (Items,Cost)\"\n",
    "unpivioting=pivioting.select('Country', expr(unpiviotingExpr)).where('Cost is not null')"
   ]
  },
  {
   "cell_type": "code",
   "execution_count": 0,
   "metadata": {
    "application/vnd.databricks.v1+cell": {
     "cellMetadata": {
      "byteLimit": 2048000,
      "rowLimit": 10000
     },
     "inputWidgets": {},
     "nuid": "4b33ec76-a9bf-472b-a797-7f551f1a4cde",
     "showTitle": true,
     "title": "Explode and Explode_outer"
    }
   },
   "outputs": [],
   "source": [
    "Details=[(1,'Hari',['java','dotnet','c']),\n",
    "         (2,'Uday',['Pyspark','databricks','airflow']),\n",
    "         (3,'Ram',['html','css','react','javascript']),\n",
    "         (4,'Raju',None)\n",
    "         ]\n",
    "\n",
    "Schema1=StructType([\n",
    "    StructField('ID',IntegerType(),True),\n",
    "    StructField('Name',StringType(),True),\n",
    "    StructField(\"Courses\",ArrayType(StringType()),True)\n",
    "])"
   ]
  },
  {
   "cell_type": "code",
   "execution_count": 0,
   "metadata": {
    "application/vnd.databricks.v1+cell": {
     "cellMetadata": {
      "byteLimit": 2048000,
      "rowLimit": 10000
     },
     "inputWidgets": {},
     "nuid": "317ca379-c177-4729-8276-2e06fb138791",
     "showTitle": false,
     "title": ""
    }
   },
   "outputs": [
    {
     "output_type": "display_data",
     "data": {
      "text/html": [
       "<style scoped>\n",
       "  .table-result-container {\n",
       "    max-height: 300px;\n",
       "    overflow: auto;\n",
       "  }\n",
       "  table, th, td {\n",
       "    border: 1px solid black;\n",
       "    border-collapse: collapse;\n",
       "  }\n",
       "  th, td {\n",
       "    padding: 5px;\n",
       "  }\n",
       "  th {\n",
       "    text-align: left;\n",
       "  }\n",
       "</style><div class='table-result-container'><table class='table-result'><thead style='background-color: white'><tr><th>ID</th><th>Name</th><th>Courses</th></tr></thead><tbody><tr><td>1</td><td>Hari</td><td>List(java, dotnet, c)</td></tr><tr><td>2</td><td>Uday</td><td>List(Pyspark, databricks, airflow)</td></tr><tr><td>3</td><td>Ram</td><td>List(html, css, react, javascript)</td></tr><tr><td>4</td><td>Raju</td><td>null</td></tr></tbody></table></div>"
      ]
     },
     "metadata": {
      "application/vnd.databricks.v1+output": {
       "addedWidgets": {},
       "aggData": [],
       "aggError": "",
       "aggOverflow": false,
       "aggSchema": [],
       "aggSeriesLimitReached": false,
       "aggType": "",
       "arguments": {},
       "columnCustomDisplayInfos": {},
       "data": [
        [
         1,
         "Hari",
         [
          "java",
          "dotnet",
          "c"
         ]
        ],
        [
         2,
         "Uday",
         [
          "Pyspark",
          "databricks",
          "airflow"
         ]
        ],
        [
         3,
         "Ram",
         [
          "html",
          "css",
          "react",
          "javascript"
         ]
        ],
        [
         4,
         "Raju",
         null
        ]
       ],
       "datasetInfos": [],
       "dbfsResultPath": null,
       "isJsonSchema": true,
       "metadata": {},
       "overflow": false,
       "plotOptions": {
        "customPlotOptions": {},
        "displayType": "table",
        "pivotAggregation": null,
        "pivotColumns": null,
        "xColumns": null,
        "yColumns": null
       },
       "removedWidgets": [],
       "schema": [
        {
         "metadata": "{}",
         "name": "ID",
         "type": "\"integer\""
        },
        {
         "metadata": "{}",
         "name": "Name",
         "type": "\"string\""
        },
        {
         "metadata": "{}",
         "name": "Courses",
         "type": "{\"type\":\"array\",\"elementType\":\"string\",\"containsNull\":true}"
        }
       ],
       "type": "table"
      }
     },
     "output_type": "display_data"
    }
   ],
   "source": [
    "df1=spark.createDataFrame(data=Details, schema=Schema1)\n",
    "display(df1)"
   ]
  },
  {
   "cell_type": "code",
   "execution_count": 0,
   "metadata": {
    "application/vnd.databricks.v1+cell": {
     "cellMetadata": {
      "byteLimit": 2048000,
      "rowLimit": 10000
     },
     "inputWidgets": {},
     "nuid": "0bfa41ee-741b-41d1-a94d-565e86bda186",
     "showTitle": false,
     "title": ""
    }
   },
   "outputs": [],
   "source": [
    "explodedf=df1.select(df1.Name,explode(df1.Courses))"
   ]
  },
  {
   "cell_type": "code",
   "execution_count": 0,
   "metadata": {
    "application/vnd.databricks.v1+cell": {
     "cellMetadata": {
      "byteLimit": 2048000,
      "rowLimit": 10000
     },
     "inputWidgets": {},
     "nuid": "82ce1863-30b9-4237-874f-ee3d777f9cb4",
     "showTitle": false,
     "title": ""
    }
   },
   "outputs": [],
   "source": [
    "#Explode Function\n",
    "def explode_fun(namecol,coursescol):\n",
    "    return df1.select(namecol,explode(coursescol))"
   ]
  },
  {
   "cell_type": "code",
   "execution_count": 0,
   "metadata": {
    "application/vnd.databricks.v1+cell": {
     "cellMetadata": {
      "byteLimit": 2048000,
      "rowLimit": 10000
     },
     "inputWidgets": {},
     "nuid": "c16243cc-fdb3-42c9-aff4-08d9af2672cb",
     "showTitle": false,
     "title": ""
    }
   },
   "outputs": [],
   "source": [
    "expdf=explode_fun(df1.Name,df1.Courses)"
   ]
  },
  {
   "cell_type": "code",
   "execution_count": 0,
   "metadata": {
    "application/vnd.databricks.v1+cell": {
     "cellMetadata": {
      "byteLimit": 2048000,
      "rowLimit": 10000
     },
     "inputWidgets": {},
     "nuid": "43a35f8a-8435-4bc7-a720-7fcde65f4ceb",
     "showTitle": false,
     "title": ""
    }
   },
   "outputs": [
    {
     "output_type": "display_data",
     "data": {
      "text/html": [
       "<style scoped>\n",
       "  .table-result-container {\n",
       "    max-height: 300px;\n",
       "    overflow: auto;\n",
       "  }\n",
       "  table, th, td {\n",
       "    border: 1px solid black;\n",
       "    border-collapse: collapse;\n",
       "  }\n",
       "  th, td {\n",
       "    padding: 5px;\n",
       "  }\n",
       "  th {\n",
       "    text-align: left;\n",
       "  }\n",
       "</style><div class='table-result-container'><table class='table-result'><thead style='background-color: white'><tr><th>Name</th><th>col</th></tr></thead><tbody><tr><td>Hari</td><td>java</td></tr><tr><td>Hari</td><td>dotnet</td></tr><tr><td>Hari</td><td>c</td></tr><tr><td>Uday</td><td>Pyspark</td></tr><tr><td>Uday</td><td>databricks</td></tr><tr><td>Uday</td><td>airflow</td></tr><tr><td>Ram</td><td>html</td></tr><tr><td>Ram</td><td>css</td></tr><tr><td>Ram</td><td>react</td></tr><tr><td>Ram</td><td>javascript</td></tr></tbody></table></div>"
      ]
     },
     "metadata": {
      "application/vnd.databricks.v1+output": {
       "addedWidgets": {},
       "aggData": [],
       "aggError": "",
       "aggOverflow": false,
       "aggSchema": [],
       "aggSeriesLimitReached": false,
       "aggType": "",
       "arguments": {},
       "columnCustomDisplayInfos": {},
       "data": [
        [
         "Hari",
         "java"
        ],
        [
         "Hari",
         "dotnet"
        ],
        [
         "Hari",
         "c"
        ],
        [
         "Uday",
         "Pyspark"
        ],
        [
         "Uday",
         "databricks"
        ],
        [
         "Uday",
         "airflow"
        ],
        [
         "Ram",
         "html"
        ],
        [
         "Ram",
         "css"
        ],
        [
         "Ram",
         "react"
        ],
        [
         "Ram",
         "javascript"
        ]
       ],
       "datasetInfos": [],
       "dbfsResultPath": null,
       "isJsonSchema": true,
       "metadata": {},
       "overflow": false,
       "plotOptions": {
        "customPlotOptions": {},
        "displayType": "table",
        "pivotAggregation": null,
        "pivotColumns": null,
        "xColumns": null,
        "yColumns": null
       },
       "removedWidgets": [],
       "schema": [
        {
         "metadata": "{}",
         "name": "Name",
         "type": "\"string\""
        },
        {
         "metadata": "{}",
         "name": "col",
         "type": "\"string\""
        }
       ],
       "type": "table"
      }
     },
     "output_type": "display_data"
    }
   ],
   "source": [
    "expdf.display()"
   ]
  },
  {
   "cell_type": "code",
   "execution_count": 0,
   "metadata": {
    "application/vnd.databricks.v1+cell": {
     "cellMetadata": {
      "byteLimit": 2048000,
      "rowLimit": 10000
     },
     "inputWidgets": {},
     "nuid": "d336c4a7-c4f9-43b3-9c99-56dbdf9a758e",
     "showTitle": false,
     "title": ""
    }
   },
   "outputs": [
    {
     "output_type": "display_data",
     "data": {
      "text/html": [
       "<style scoped>\n",
       "  .table-result-container {\n",
       "    max-height: 300px;\n",
       "    overflow: auto;\n",
       "  }\n",
       "  table, th, td {\n",
       "    border: 1px solid black;\n",
       "    border-collapse: collapse;\n",
       "  }\n",
       "  th, td {\n",
       "    padding: 5px;\n",
       "  }\n",
       "  th {\n",
       "    text-align: left;\n",
       "  }\n",
       "</style><div class='table-result-container'><table class='table-result'><thead style='background-color: white'><tr><th>ID</th><th>Name</th><th>Courses</th></tr></thead><tbody><tr><td>1</td><td>Hari</td><td>List(java, dotnet, c)</td></tr><tr><td>2</td><td>Uday</td><td>List(Pyspark, databricks, airflow)</td></tr><tr><td>3</td><td>Ram</td><td>List(html, css, react, javascript)</td></tr><tr><td>4</td><td>Raju</td><td>null</td></tr></tbody></table></div>"
      ]
     },
     "metadata": {
      "application/vnd.databricks.v1+output": {
       "addedWidgets": {},
       "aggData": [],
       "aggError": "",
       "aggOverflow": false,
       "aggSchema": [],
       "aggSeriesLimitReached": false,
       "aggType": "",
       "arguments": {},
       "columnCustomDisplayInfos": {},
       "data": [
        [
         1,
         "Hari",
         [
          "java",
          "dotnet",
          "c"
         ]
        ],
        [
         2,
         "Uday",
         [
          "Pyspark",
          "databricks",
          "airflow"
         ]
        ],
        [
         3,
         "Ram",
         [
          "html",
          "css",
          "react",
          "javascript"
         ]
        ],
        [
         4,
         "Raju",
         null
        ]
       ],
       "datasetInfos": [],
       "dbfsResultPath": null,
       "isJsonSchema": true,
       "metadata": {},
       "overflow": false,
       "plotOptions": {
        "customPlotOptions": {},
        "displayType": "table",
        "pivotAggregation": null,
        "pivotColumns": null,
        "xColumns": null,
        "yColumns": null
       },
       "removedWidgets": [],
       "schema": [
        {
         "metadata": "{}",
         "name": "ID",
         "type": "\"integer\""
        },
        {
         "metadata": "{}",
         "name": "Name",
         "type": "\"string\""
        },
        {
         "metadata": "{}",
         "name": "Courses",
         "type": "{\"type\":\"array\",\"elementType\":\"string\",\"containsNull\":true}"
        }
       ],
       "type": "table"
      }
     },
     "output_type": "display_data"
    }
   ],
   "source": [
    "df1.display()"
   ]
  },
  {
   "cell_type": "code",
   "execution_count": 0,
   "metadata": {
    "application/vnd.databricks.v1+cell": {
     "cellMetadata": {
      "byteLimit": 2048000,
      "rowLimit": 10000
     },
     "inputWidgets": {},
     "nuid": "48a1971f-fcb8-43ec-ad92-f86fa0e9cd65",
     "showTitle": false,
     "title": ""
    }
   },
   "outputs": [
    {
     "output_type": "stream",
     "name": "stdout",
     "output_type": "stream",
     "text": [
      "root\n |-- ID: integer (nullable = true)\n |-- Name: string (nullable = true)\n |-- Courses: array (nullable = true)\n |    |-- element: string (containsNull = true)\n\n"
     ]
    }
   ],
   "source": [
    "df1.printSchema()"
   ]
  },
  {
   "cell_type": "code",
   "execution_count": 0,
   "metadata": {
    "application/vnd.databricks.v1+cell": {
     "cellMetadata": {
      "byteLimit": 2048000,
      "rowLimit": 10000
     },
     "inputWidgets": {},
     "nuid": "f9f85297-f426-4022-9564-ccbbb4a0fc86",
     "showTitle": false,
     "title": ""
    }
   },
   "outputs": [],
   "source": [
    "explode_outerdf=df1.select(df1.Name,explode_outer(df1.Courses))"
   ]
  },
  {
   "cell_type": "code",
   "execution_count": 0,
   "metadata": {
    "application/vnd.databricks.v1+cell": {
     "cellMetadata": {
      "byteLimit": 2048000,
      "rowLimit": 10000
     },
     "inputWidgets": {},
     "nuid": "734c1fb0-c6b0-471a-be31-d7858da093b7",
     "showTitle": false,
     "title": ""
    }
   },
   "outputs": [
    {
     "output_type": "display_data",
     "data": {
      "text/html": [
       "<style scoped>\n",
       "  .table-result-container {\n",
       "    max-height: 300px;\n",
       "    overflow: auto;\n",
       "  }\n",
       "  table, th, td {\n",
       "    border: 1px solid black;\n",
       "    border-collapse: collapse;\n",
       "  }\n",
       "  th, td {\n",
       "    padding: 5px;\n",
       "  }\n",
       "  th {\n",
       "    text-align: left;\n",
       "  }\n",
       "</style><div class='table-result-container'><table class='table-result'><thead style='background-color: white'><tr><th>Name</th><th>col</th></tr></thead><tbody><tr><td>Hari</td><td>java</td></tr><tr><td>Hari</td><td>dotnet</td></tr><tr><td>Hari</td><td>c</td></tr><tr><td>Uday</td><td>Pyspark</td></tr><tr><td>Uday</td><td>databricks</td></tr><tr><td>Uday</td><td>airflow</td></tr><tr><td>Ram</td><td>html</td></tr><tr><td>Ram</td><td>css</td></tr><tr><td>Ram</td><td>react</td></tr><tr><td>Ram</td><td>javascript</td></tr><tr><td>Raju</td><td>null</td></tr></tbody></table></div>"
      ]
     },
     "metadata": {
      "application/vnd.databricks.v1+output": {
       "addedWidgets": {},
       "aggData": [],
       "aggError": "",
       "aggOverflow": false,
       "aggSchema": [],
       "aggSeriesLimitReached": false,
       "aggType": "",
       "arguments": {},
       "columnCustomDisplayInfos": {},
       "data": [
        [
         "Hari",
         "java"
        ],
        [
         "Hari",
         "dotnet"
        ],
        [
         "Hari",
         "c"
        ],
        [
         "Uday",
         "Pyspark"
        ],
        [
         "Uday",
         "databricks"
        ],
        [
         "Uday",
         "airflow"
        ],
        [
         "Ram",
         "html"
        ],
        [
         "Ram",
         "css"
        ],
        [
         "Ram",
         "react"
        ],
        [
         "Ram",
         "javascript"
        ],
        [
         "Raju",
         null
        ]
       ],
       "datasetInfos": [],
       "dbfsResultPath": null,
       "isJsonSchema": true,
       "metadata": {},
       "overflow": false,
       "plotOptions": {
        "customPlotOptions": {},
        "displayType": "table",
        "pivotAggregation": null,
        "pivotColumns": null,
        "xColumns": null,
        "yColumns": null
       },
       "removedWidgets": [],
       "schema": [
        {
         "metadata": "{}",
         "name": "Name",
         "type": "\"string\""
        },
        {
         "metadata": "{}",
         "name": "col",
         "type": "\"string\""
        }
       ],
       "type": "table"
      }
     },
     "output_type": "display_data"
    }
   ],
   "source": [
    "explode_outerdf.display()"
   ]
  },
  {
   "cell_type": "code",
   "execution_count": 0,
   "metadata": {
    "application/vnd.databricks.v1+cell": {
     "cellMetadata": {
      "byteLimit": 2048000,
      "rowLimit": 10000
     },
     "inputWidgets": {},
     "nuid": "957a22bd-f3db-412b-ae58-ea1a74a3d520",
     "showTitle": false,
     "title": ""
    }
   },
   "outputs": [],
   "source": [
    "#Explode outer Function\n",
    "def explodeouter_fun(name_col,courses_col):\n",
    "    return df1.select(name_col,explode_outer(courses_col))"
   ]
  },
  {
   "cell_type": "code",
   "execution_count": 0,
   "metadata": {
    "application/vnd.databricks.v1+cell": {
     "cellMetadata": {
      "byteLimit": 2048000,
      "rowLimit": 10000
     },
     "inputWidgets": {},
     "nuid": "785cae03-918f-4c4c-945c-63b12ce19a4b",
     "showTitle": false,
     "title": ""
    }
   },
   "outputs": [],
   "source": [
    "expoutdf=explodeouter_fun(df1.Name,df1.Courses)"
   ]
  },
  {
   "cell_type": "code",
   "execution_count": 0,
   "metadata": {
    "application/vnd.databricks.v1+cell": {
     "cellMetadata": {
      "byteLimit": 2048000,
      "rowLimit": 10000
     },
     "inputWidgets": {},
     "nuid": "cffcc74e-4aba-4bf0-a4db-2a5242a8951b",
     "showTitle": false,
     "title": ""
    }
   },
   "outputs": [
    {
     "output_type": "display_data",
     "data": {
      "text/html": [
       "<style scoped>\n",
       "  .table-result-container {\n",
       "    max-height: 300px;\n",
       "    overflow: auto;\n",
       "  }\n",
       "  table, th, td {\n",
       "    border: 1px solid black;\n",
       "    border-collapse: collapse;\n",
       "  }\n",
       "  th, td {\n",
       "    padding: 5px;\n",
       "  }\n",
       "  th {\n",
       "    text-align: left;\n",
       "  }\n",
       "</style><div class='table-result-container'><table class='table-result'><thead style='background-color: white'><tr><th>Name</th><th>col</th></tr></thead><tbody><tr><td>Hari</td><td>java</td></tr><tr><td>Hari</td><td>dotnet</td></tr><tr><td>Hari</td><td>c</td></tr><tr><td>Uday</td><td>Pyspark</td></tr><tr><td>Uday</td><td>databricks</td></tr><tr><td>Uday</td><td>airflow</td></tr><tr><td>Ram</td><td>html</td></tr><tr><td>Ram</td><td>css</td></tr><tr><td>Ram</td><td>react</td></tr><tr><td>Ram</td><td>javascript</td></tr><tr><td>Raju</td><td>null</td></tr></tbody></table></div>"
      ]
     },
     "metadata": {
      "application/vnd.databricks.v1+output": {
       "addedWidgets": {},
       "aggData": [],
       "aggError": "",
       "aggOverflow": false,
       "aggSchema": [],
       "aggSeriesLimitReached": false,
       "aggType": "",
       "arguments": {},
       "columnCustomDisplayInfos": {},
       "data": [
        [
         "Hari",
         "java"
        ],
        [
         "Hari",
         "dotnet"
        ],
        [
         "Hari",
         "c"
        ],
        [
         "Uday",
         "Pyspark"
        ],
        [
         "Uday",
         "databricks"
        ],
        [
         "Uday",
         "airflow"
        ],
        [
         "Ram",
         "html"
        ],
        [
         "Ram",
         "css"
        ],
        [
         "Ram",
         "react"
        ],
        [
         "Ram",
         "javascript"
        ],
        [
         "Raju",
         null
        ]
       ],
       "datasetInfos": [],
       "dbfsResultPath": null,
       "isJsonSchema": true,
       "metadata": {},
       "overflow": false,
       "plotOptions": {
        "customPlotOptions": {},
        "displayType": "table",
        "pivotAggregation": null,
        "pivotColumns": null,
        "xColumns": null,
        "yColumns": null
       },
       "removedWidgets": [],
       "schema": [
        {
         "metadata": "{}",
         "name": "Name",
         "type": "\"string\""
        },
        {
         "metadata": "{}",
         "name": "col",
         "type": "\"string\""
        }
       ],
       "type": "table"
      }
     },
     "output_type": "display_data"
    }
   ],
   "source": [
    "expoutdf.display()"
   ]
  }
 ],
 "metadata": {
  "application/vnd.databricks.v1+notebook": {
   "dashboards": [],
   "language": "python",
   "notebookMetadata": {
    "pythonIndentUnit": 4
   },
   "notebookName": "Explode & Pivot Function",
   "widgets": {}
  }
 },
 "nbformat": 4,
 "nbformat_minor": 0
}
